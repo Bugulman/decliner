{
 "cells": [
  {
   "cell_type": "code",
   "execution_count": 1,
   "metadata": {},
   "outputs": [],
   "source": [
    "import pandas as pd\n",
    "import numpy as np\n",
    "import os\n",
    "import pyodbc\n",
    "import sqlalchemy\n",
    "import urllib\n",
    "import datetime\n",
    "import plotly.express as px\n",
    "import matplotlib.pyplot as plt\n",
    "from ipywidgets import interact\n",
    "from IPython.display import Image\n",
    "import plotly.graph_objs as go\n",
    "from plotly.offline import iplot, init_notebook_mode\n",
    "import plotly.offline as offline"
   ]
  },
  {
   "cell_type": "markdown",
   "metadata": {},
   "source": [
    "# Подготовка данных со сглаживанием"
   ]
  },
  {
   "cell_type": "code",
   "execution_count": 2,
   "metadata": {},
   "outputs": [],
   "source": [
    "from scipy import signal"
   ]
  },
  {
   "cell_type": "code",
   "execution_count": 3,
   "metadata": {},
   "outputs": [],
   "source": [
    "def interpolate_press_by_sipy(frame, a=2, b=0.1):\n",
    "\tb, a = signal.butter(a,b)\n",
    "\tif frame.shape[0]>12:\n",
    "\t\tframe.index=frame['date']\n",
    "\t\tframe['SBHPH']= signal.filtfilt(b, a, frame['BHPH'].interpolate(method='time').fillna(method='bfill')) \n",
    "\t\tframe['STHPH']= signal.filtfilt(b, a, frame['THPH'].interpolate(method='time').fillna(method='bfill')) \n",
    "\t\tframe.loc[frame['BHPH'].interpolate(method='time').isnull(), 'SBHPH'] = np.NaN\n",
    "\t\tframe.loc[frame['THPH'].interpolate(method='time').isnull(), 'STHPH'] = np.NaN\n",
    "\t\tframe.loc[(frame['status']=='not_work'), 'SBHPH'] = np.NaN\n",
    "\t\tframe.reset_index(drop=True, inplace=True)\n",
    "\telse:\n",
    "\t\tframe['SBHPH']= np.NaN \n",
    "\t\tframe['STHPH']= np.NaN\n",
    "\treturn frame\n",
    "\t\n",
    "def interpolate_prod_by_sipy(frame, a=2, b=0.2):\n",
    "    b, a = signal.butter(a, b)\n",
    "    if frame.shape[0] > 12:\n",
    "        frame.index = frame['date']\n",
    "        frame['SQLIQ'] = signal.filtfilt(\n",
    "            b, a, frame['QLIQ'].interpolate(method='time').fillna(method='bfill'))\n",
    "        frame.loc[(frame['status'] == 'not_work'), 'SQLIQ'] = 0\n",
    "        frame.loc[(frame['status'] == 'inj'), 'SQLIQ'] = 0\n",
    "        frame.loc[(frame['SQLIQ'] < 0), 'SQLIQ'] = 0\n",
    "        frame['SWCT'] = signal.filtfilt(\n",
    "            b, a, frame['WCT'].interpolate(method='time').fillna(method='bfill'))\n",
    "        frame.loc[(frame['status'] == 'not_work'), 'SWCT'] = 0\n",
    "        frame.loc[(frame['status'] == 'inj'), 'SWCT'] = 0\n",
    "        frame.loc[(frame['SWCT'] < 0), 'SWCT'] = 0\n",
    "        frame.reset_index(drop=True, inplace=True)\n",
    "    else:\n",
    "        frame['SQLIQ'] = np.NaN\n",
    "        frame['SWCT'] = np.NaN\n",
    "    return frame"
   ]
  },
  {
   "cell_type": "code",
   "execution_count": 4,
   "metadata": {},
   "outputs": [],
   "source": [
    "def histor_smoothing(df):\n",
    "\t\"\"\"Relives and smoothes pressure in source data\n",
    "\t:arg1: TODO\n",
    "\t:kwarg: navigator API keyword = {'grou':get_all_groups(),\n",
    "\t\t\t\t\t\t\t\t\t'wells':get_all_wells(),\n",
    "\t\t\t\t\t\t\t\t\t'mod': get_all_models(),\n",
    "\t\t\t\t\t\t\t\t\t'step':get_all_timesteps()} \n",
    "\t:returns: pandas DataFrame with smoothing press\n",
    "\t\"\"\"\n",
    "\tdf['QLIQ'] = df['QOIL']+df['QWAT']\n",
    "\tdf['WCT']=(df['QLIQ']-df['QOIL'])/df['QLIQ']\n",
    "\tdf['status'] = 'prod'\n",
    "\tdf.loc[df['QWIN']>0, 'status'] = 'inj'\n",
    "\tdf.loc[((df['QWIN']==0)&(df['QLIQ']==0)), 'status'] = 'not_work'\n",
    "\tdf.loc[((df['QWAT']>0)&(df['QOIL']==0)), 'status'] = 'water_prod'\n",
    "\tdf['THPH']=df['THPH'].replace([-999,0], np.nan)\n",
    "\tdf['BHPH']=df['BHPH'].replace([-999,0], np.nan)\n",
    "\tdf.loc[((df['BHPH']>df['THPH'])&(df['status']=='prod')), 'THPH'] = np.NaN\n",
    "\tdf=pd.DataFrame(df.groupby(by='well').apply(interpolate_press_by_sipy))\n",
    "\tdf.reset_index(drop=True, inplace=True)\n",
    "\tdf=pd.DataFrame(df.groupby(by='well').apply(interpolate_prod_by_sipy))\n",
    "\tdf.reset_index(drop=True, inplace=True)\n",
    "\tdf.loc[df['QLIQ'].isnull(), 'SPROD'] = np.NaN\n",
    "\tdf['SOIL']=df['SQLIQ']*(1-df['SWCT'])\n",
    "\tdf['SPROD']=df['SQLIQ']/(df['STHPH']-df['SBHPH'])\n",
    "\tdf['PROD']=df['QLIQ']/(df['THPH']-df['BHPH'])\n",
    "\tdf.loc[df['QLIQ'].isnull(), 'SPROD'] = np.NaN\n",
    "\tdf['SPROD']=df['SQLIQ']/(df['STHPH']-df['SBHPH'])\n",
    "\tdf['PROD']=df['QLIQ']/(df['THPH']-df['BHPH'])\n",
    "\tdf.loc[df['QLIQ'].isnull(), 'SPROD'] = np.NaN\n",
    "\treturn df"
   ]
  },
  {
   "cell_type": "markdown",
   "metadata": {},
   "source": [
    "## Подключение к базам данных Армитс"
   ]
  },
  {
   "cell_type": "code",
   "execution_count": 170,
   "metadata": {},
   "outputs": [],
   "source": [
    "import urllib \n",
    "params = urllib.parse.quote_plus(\"DRIVER={SQL Server};SERVER=10.240.6.3,1433;DATABASE=bd_skw;UID=user_ctr;PWD=!@#qweASD\") \n",
    "engine = sqlalchemy.create_engine(\"mssql+pyodbc:///?odbc_connect=%s\" % params) \n"
   ]
  },
  {
   "cell_type": "code",
   "execution_count": 5,
   "metadata": {
    "scrolled": true
   },
   "outputs": [],
   "source": [
    "import pyodbc \n",
    "# Some other example server values are\n",
    "# server = 'localhost\\sqlexpress' # for a named instance\n",
    "# server = 'myserver,port' # to specify an alternate port\n",
    "server = '10.240.6.3,1433' #\n",
    "database = 'bd_skw' \n",
    "username = 'user_ctr' \n",
    "password = '!@#qweASD' \n",
    "cnxn = pyodbc.connect('DRIVER={SQL Server};SERVER='+server+';DATABASE='+database+';UID='+username+';PWD='+password)\n",
    "cursor = cnxn.cursor()"
   ]
  },
  {
   "cell_type": "markdown",
   "metadata": {},
   "source": [
    "# Импорт данных из лисички со сшивкой добычи и давлений"
   ]
  },
  {
   "cell_type": "code",
   "execution_count": 62,
   "metadata": {},
   "outputs": [],
   "source": [
    "os.chdir(r'e:\\FOX_EXPORT\\АКС-МОКШ\\16.02.2022 14.05.12')"
   ]
  },
  {
   "cell_type": "code",
   "execution_count": 63,
   "metadata": {},
   "outputs": [],
   "source": [
    "prod_df = pd.read_excel('Свод.xlsx', usecols=\"B:N\")"
   ]
  },
  {
   "cell_type": "code",
   "execution_count": 64,
   "metadata": {},
   "outputs": [],
   "source": [
    "press_df = pd.read_excel('ГДИ.xlsx', usecols = \"F:M\")"
   ]
  },
  {
   "cell_type": "markdown",
   "metadata": {},
   "source": [
    "### выбираем нужный горизонт для анализа"
   ]
  },
  {
   "cell_type": "code",
   "execution_count": 65,
   "metadata": {},
   "outputs": [],
   "source": [
    "prod_df['Горизонт'] = prod_df['Горизонт'].astype('int')"
   ]
  },
  {
   "cell_type": "code",
   "execution_count": 66,
   "metadata": {},
   "outputs": [],
   "source": [
    "press_df['Горизонт'] = press_df['Код гориз'].astype('int')"
   ]
  },
  {
   "cell_type": "code",
   "execution_count": 67,
   "metadata": {},
   "outputs": [],
   "source": [
    "from ipywidgets import interact, widgets, Layout"
   ]
  },
  {
   "cell_type": "code",
   "execution_count": 68,
   "metadata": {},
   "outputs": [
    {
     "data": {
      "application/vnd.jupyter.widget-view+json": {
       "model_id": "a936199f2f894f7b87e42aa38e973448",
       "version_major": 2,
       "version_minor": 0
      },
      "text/plain": [
       "SelectMultiple(options=(476, 480, 444, 450, 443, 475), value=())"
      ]
     },
     "metadata": {},
     "output_type": "display_data"
    }
   ],
   "source": [
    "w = widgets.SelectMultiple(options = list(prod_df['Горизонт'].unique()))\n",
    "w"
   ]
  },
  {
   "cell_type": "code",
   "execution_count": 69,
   "metadata": {},
   "outputs": [],
   "source": [
    "prod_df = prod_df.loc[prod_df['Горизонт'].isin(w.value)]"
   ]
  },
  {
   "cell_type": "code",
   "execution_count": 70,
   "metadata": {},
   "outputs": [],
   "source": [
    "press_df = press_df.loc[press_df['Горизонт'].isin(w.value)]"
   ]
  },
  {
   "cell_type": "code",
   "execution_count": 71,
   "metadata": {},
   "outputs": [],
   "source": [
    "press_df['P заб ВНК']=pd.to_numeric(press_df['P заб ВНК'], errors='coerce')\n",
    "press_df['P пласт ВНК']=pd.to_numeric(press_df['P пласт ВНК'], errors='coerce')"
   ]
  },
  {
   "cell_type": "code",
   "execution_count": 72,
   "metadata": {},
   "outputs": [],
   "source": [
    "f = {'Горизонт':['mean'], \n",
    "     'Кол-во часов экспл всего по доб. скваж':['max'],\n",
    "     'Добыча нефти за мес по скваж, т':['sum'], \n",
    "     'Добыча воды за мес по скваж, т':['sum'],\n",
    "     'Добыча воды за мес по скважине, м3':['sum'],\n",
    "    'Кол-во часов работы всего по нагн. скваж':['max'],\n",
    "     'Общая закачка всего по скваж за мес, м3':['sum']}\n",
    "d = {'Горизонт':['mean'], \n",
    "    'P заб ВНК':['mean'],\n",
    "     'P пласт ВНК':['mean']}"
   ]
  },
  {
   "cell_type": "code",
   "execution_count": 73,
   "metadata": {},
   "outputs": [
    {
     "name": "stderr",
     "output_type": "stream",
     "text": [
      "<ipython-input-73-f6abe3ac3262>:1: FutureWarning:\n",
      "\n",
      "Indexing with multiple keys (implicitly converted to a tuple of keys) will be deprecated, use a list instead.\n",
      "\n",
      "<ipython-input-73-f6abe3ac3262>:7: FutureWarning:\n",
      "\n",
      "Indexing with multiple keys (implicitly converted to a tuple of keys) will be deprecated, use a list instead.\n",
      "\n"
     ]
    }
   ],
   "source": [
    "prod_df= pd.DataFrame(prod_df.groupby(['№ скваж', 'Дата'])['Горизонт', 'Кол-во часов экспл всего по доб. скваж',\\\n",
    "       'Добыча нефти за мес по скваж, т', 'Добыча воды за мес по скваж, т',\n",
    "       'Добыча воды за мес по скважине, м3',\n",
    "       'Кол-во часов работы всего по нагн. скваж',\n",
    "       'Общая закачка всего по скваж за мес, м3'].agg(f))\n",
    "prod_df = prod_df.reset_index()\n",
    "press_df= pd.DataFrame(press_df.groupby(['№ скваж', 'Дата'])['Горизонт', 'P заб ВНК','P пласт ВНК'].agg(d))\n",
    "press_df = press_df.reset_index()"
   ]
  },
  {
   "cell_type": "code",
   "execution_count": 74,
   "metadata": {},
   "outputs": [],
   "source": [
    "prod_df['№ скваж'] = prod_df['№ скваж'].astype('str')\n",
    "press_df['№ скваж'] = press_df['№ скваж'].astype('str')"
   ]
  },
  {
   "cell_type": "code",
   "execution_count": 75,
   "metadata": {},
   "outputs": [
    {
     "name": "stderr",
     "output_type": "stream",
     "text": [
      "d:\\other\\my_software\\anaconda\\envs\\times\\lib\\site-packages\\pandas\\core\\generic.py:4153: PerformanceWarning:\n",
      "\n",
      "dropping on a non-lexsorted multi-index without a level parameter may impact performance.\n",
      "\n"
     ]
    }
   ],
   "source": [
    "df = pd.merge(prod_df, press_df, on=['№ скваж', 'Дата'], how='left')"
   ]
  },
  {
   "cell_type": "code",
   "execution_count": 76,
   "metadata": {},
   "outputs": [],
   "source": [
    "df.columns=['№ скваж', 'Дата', 'Горизонт_x', 'Кол-во часов экспл всего по доб. скваж', \\\n",
    "            'Добыча нефти за мес по скваж, т', 'Добыча воды за мес по скваж, т', 'Добыча воды за мес по скважине, м3', \\\n",
    "            'Кол-во часов работы всего по нагн. скваж', 'Общая закачка всего по скваж за мес, м3', 'Горизонт_y', \\\n",
    "            'BHPH', 'THPH']"
   ]
  },
  {
   "cell_type": "code",
   "execution_count": 77,
   "metadata": {},
   "outputs": [],
   "source": [
    "df['QOIL'] = df['Добыча нефти за мес по скваж, т']/(df['Кол-во часов экспл всего по доб. скваж'])*24\n",
    "df['QWAT'] = df['Добыча воды за мес по скваж, т']/(df['Кол-во часов экспл всего по доб. скваж'])*24\n",
    "df['QWIN']= df['Общая закачка всего по скваж за мес, м3']/(df['Кол-во часов работы всего по нагн. скваж'])*24\n",
    "df['QLIQ']= df['QOIL']+df['QWAT']\n",
    "df['well']=df['№ скваж']\n",
    "df['date']=df['Дата']\n",
    "df.set_index(['date'], inplace=True)\n",
    "df['date']=df['Дата']"
   ]
  },
  {
   "cell_type": "code",
   "execution_count": 78,
   "metadata": {},
   "outputs": [],
   "source": [
    "df=histor_smoothing(df)"
   ]
  },
  {
   "cell_type": "markdown",
   "metadata": {},
   "source": [
    "# Блок загрузки данных из файла Resview"
   ]
  },
  {
   "cell_type": "code",
   "execution_count": 427,
   "metadata": {},
   "outputs": [],
   "source": [
    "os.chdir(r'E:\\KPRA_projects\\VUMN')"
   ]
  },
  {
   "cell_type": "code",
   "execution_count": 428,
   "metadata": {},
   "outputs": [],
   "source": [
    "df = pd.read_excel('Добыча_ВУ.xlsx')"
   ]
  },
  {
   "cell_type": "code",
   "execution_count": 429,
   "metadata": {},
   "outputs": [],
   "source": [
    "df.columns = ['№ скваж','Горизонт', 'Дата', 'Добыча нефти за мес по скваж, т',\n",
    "       'Дебит нефти,\\n т/сут', 'Нак. добыча нефти,\\n тыс. т',\n",
    "       'Добыча воды за мес по скваж, т', 'Дебит воды,\\n т/сут', 'Добыча жидкости,\\n т',\n",
    "       'Дебит жидкости,\\n т/сут', 'Обв.,\\n %', 'Кол-во часов экспл всего по доб. скваж',\n",
    "       'Общая закачка всего по скваж за мес, м3','Кол-во часов работы всего по нагн. скваж']"
   ]
  },
  {
   "cell_type": "code",
   "execution_count": 430,
   "metadata": {},
   "outputs": [],
   "source": [
    "df['Горизонт'] = df['Горизонт'].astype('int')"
   ]
  },
  {
   "cell_type": "code",
   "execution_count": 431,
   "metadata": {},
   "outputs": [],
   "source": [
    "from ipywidgets import interact, widgets, Layout"
   ]
  },
  {
   "cell_type": "code",
   "execution_count": 432,
   "metadata": {},
   "outputs": [
    {
     "data": {
      "application/vnd.jupyter.widget-view+json": {
       "model_id": "307e794adfcb4b0eae45313dffc07526",
       "version_major": 2,
       "version_minor": 0
      },
      "text/plain": [
       "SelectMultiple(options=(444, 450, 480, 528), value=())"
      ]
     },
     "metadata": {},
     "output_type": "display_data"
    }
   ],
   "source": [
    "w = widgets.SelectMultiple(options = list(df['Горизонт'].unique()))\n",
    "w"
   ]
  },
  {
   "cell_type": "code",
   "execution_count": 411,
   "metadata": {},
   "outputs": [],
   "source": [
    "df = df.loc[df['Горизонт'].isin(w.value)]"
   ]
  },
  {
   "cell_type": "code",
   "execution_count": 412,
   "metadata": {},
   "outputs": [],
   "source": [
    "f = {'Горизонт':['mean'], \n",
    "     'Кол-во часов экспл всего по доб. скваж':['max'],\n",
    "     'Добыча нефти за мес по скваж, т':['sum'], \n",
    "     'Добыча воды за мес по скваж, т':['sum'],\n",
    "    'Кол-во часов работы всего по нагн. скваж':['max'],\n",
    "     'Общая закачка всего по скваж за мес, м3':['sum']}"
   ]
  },
  {
   "cell_type": "code",
   "execution_count": 413,
   "metadata": {},
   "outputs": [
    {
     "name": "stderr",
     "output_type": "stream",
     "text": [
      "<ipython-input-413-0252527ef293>:1: FutureWarning:\n",
      "\n",
      "Indexing with multiple keys (implicitly converted to a tuple of keys) will be deprecated, use a list instead.\n",
      "\n"
     ]
    }
   ],
   "source": [
    "df= pd.DataFrame(df.groupby(['№ скваж', 'Дата'])['Горизонт', 'Кол-во часов экспл всего по доб. скваж',\\\n",
    "       'Добыча нефти за мес по скваж, т', 'Добыча воды за мес по скваж, т',\n",
    "       'Кол-во часов работы всего по нагн. скваж',\n",
    "       'Общая закачка всего по скваж за мес, м3'].agg(f))\n",
    "df = df.reset_index()"
   ]
  },
  {
   "cell_type": "code",
   "execution_count": 414,
   "metadata": {},
   "outputs": [],
   "source": [
    "df['№ скваж'] = df['№ скваж'].astype('str')"
   ]
  },
  {
   "cell_type": "code",
   "execution_count": 415,
   "metadata": {},
   "outputs": [],
   "source": [
    "df['BHPH'] = 30\n",
    "df['THPH'] = 70"
   ]
  },
  {
   "cell_type": "code",
   "execution_count": 416,
   "metadata": {},
   "outputs": [],
   "source": [
    "df.columns = ['№ скваж','Дата', 'Горизонт', 'Кол-во часов экспл всего по доб. скваж', 'Добыча нефти за мес по скваж, т', \n",
    "              'Добыча воды за мес по скваж, т', 'Кол-во часов работы всего по нагн. скваж', \n",
    "              'Общая закачка всего по скваж за мес, м3', 'BHPH', 'THPH']"
   ]
  },
  {
   "cell_type": "code",
   "execution_count": 417,
   "metadata": {},
   "outputs": [],
   "source": [
    "df['QOIL'] = df['Добыча нефти за мес по скваж, т']/(df['Кол-во часов экспл всего по доб. скваж'])*24\n",
    "df['QWAT'] = df['Добыча воды за мес по скваж, т']/(df['Кол-во часов экспл всего по доб. скваж'])*24\n",
    "df['QWIN']= df['Общая закачка всего по скваж за мес, м3']/(df['Кол-во часов работы всего по нагн. скваж'])*24\n",
    "df['QOIL'].fillna(0, inplace=True)\n",
    "df['QWAT'].fillna(0, inplace=True)\n",
    "df['QLIQ']= df['QOIL']+df['QWAT']\n",
    "df['well']=df['№ скваж']\n",
    "df['date']=df['Дата']\n",
    "df.set_index(['date'], inplace=True)\n",
    "df['date']=df['Дата']"
   ]
  },
  {
   "cell_type": "code",
   "execution_count": 418,
   "metadata": {},
   "outputs": [
    {
     "data": {
      "text/plain": [
       "5185.090745258443"
      ]
     },
     "execution_count": 418,
     "metadata": {},
     "output_type": "execute_result"
    }
   ],
   "source": [
    "df['QLIQ'].sum()"
   ]
  },
  {
   "cell_type": "code",
   "execution_count": 419,
   "metadata": {},
   "outputs": [],
   "source": [
    "df=histor_smoothing(df)"
   ]
  },
  {
   "cell_type": "markdown",
   "metadata": {},
   "source": [
    "# Блок для прогнозирования на основании _decline curve_"
   ]
  },
  {
   "cell_type": "code",
   "execution_count": 5,
   "metadata": {},
   "outputs": [
    {
     "ename": "ModuleNotFoundError",
     "evalue": "No module named 'petbox'",
     "output_type": "error",
     "traceback": [
      "\u001b[1;31m---------------------------------------------------------------------------\u001b[0m",
      "\u001b[1;31mModuleNotFoundError\u001b[0m                       Traceback (most recent call last)",
      "\u001b[1;32m<ipython-input-5-5b3d093c63d3>\u001b[0m in \u001b[0;36m<module>\u001b[1;34m\u001b[0m\n\u001b[1;32m----> 1\u001b[1;33m \u001b[1;32mfrom\u001b[0m \u001b[0mpetbox\u001b[0m \u001b[1;32mimport\u001b[0m \u001b[0mdca\u001b[0m\u001b[1;33m\u001b[0m\u001b[0m\n\u001b[0m\u001b[0;32m      2\u001b[0m \u001b[1;32mfrom\u001b[0m \u001b[0mscipy\u001b[0m\u001b[1;33m.\u001b[0m\u001b[0moptimize\u001b[0m \u001b[1;32mimport\u001b[0m \u001b[0mcurve_fit\u001b[0m\u001b[1;33m\u001b[0m\u001b[0m\n",
      "\u001b[1;31mModuleNotFoundError\u001b[0m: No module named 'petbox'"
     ]
    }
   ],
   "source": [
    "from petbox import dca\n",
    "from scipy.optimize import curve_fit"
   ]
  },
  {
   "cell_type": "markdown",
   "metadata": {},
   "source": [
    "df.to_csv('smoothed.csv')"
   ]
  },
  {
   "cell_type": "code",
   "execution_count": 80,
   "metadata": {},
   "outputs": [],
   "source": [
    "names = df.loc[(df.status=='prod')&(df['date']>'2010'), 'well'].unique()"
   ]
  },
  {
   "cell_type": "code",
   "execution_count": 81,
   "metadata": {},
   "outputs": [],
   "source": [
    "def MH(time, qi, Di, bi, Dterm):\n",
    "    Dterm = Di*Dterm\n",
    "    m = dca.MH(qi=qi, Di=Di, bi=bi, Dterm=Dterm)\n",
    "    return m.rate(time)"
   ]
  },
  {
   "cell_type": "code",
   "execution_count": 82,
   "metadata": {},
   "outputs": [],
   "source": [
    "def dec_predict(frame):\n",
    "    frame = frame.loc[(frame['date']>'2010')&(frame.status=='prod'), ['well', 'date', 'SOIL', 'QOIL']]\n",
    "    name = frame['well'].unique()\n",
    "    print(f'Анализ по скважине {name}')\n",
    "    frame['Time'] = frame['date']-frame['date'].min()\n",
    "    frame['Time'] = frame['Time'] / np.timedelta64(1, \"D\")\n",
    "    shift = frame.loc[frame['QOIL']==frame['QOIL'].max(), 'Time']\n",
    "    shift = int(shift.head(1).values)\n",
    "    frame['Time']=frame['Time']-shift\n",
    "    sub=frame.copy()\n",
    "    sub=sub[sub['Time']>=0]\n",
    "    frame['Time']=frame['Time']+shift\n",
    "    last_deb = float(frame['QOIL'].tail(1))\n",
    "    try:\n",
    "        qi, Di = curve_fit(MH, sub['Time'], np.array(sub['SOIL']), bounds=(0, [100, 0.5, 0.5, 0.7]), method='trf')\n",
    "    except ValueError:\n",
    "        print(f'Ошибка определения темпа для скважины {name}')\n",
    "        qi=[last_deb, 0.2, 0.2, 0.99] \n",
    "    except RuntimeError:\n",
    "        print(f'Ошибка определения темпа для скважины {name}')\n",
    "        qi=[last_deb, 0.2, 0.2, 0.99] \n",
    "    except:\n",
    "        qi, Di = curve_fit(MH, sub['Time'], np.array(sub['SOIL']), bounds=(0, [100, 0.2, 0.2, 0.99]), method='dogbox')\n",
    "    qi[3]=qi[1]*qi[3]\n",
    "    mh = dca.MH(*qi)\n",
    "#    print(name, shift, qi, sub['QOIL'])\n",
    "    prog = pd.DataFrame(np.concatenate((sub.date, pd.date_range(sub.date.max(), periods=180, freq='MS')[1:])))#[1:]\n",
    "    prog.columns=['date']\n",
    "    prog['Time'] = prog['date']-prog['date'].min()\n",
    "    prog['Time'] = prog['Time'] / np.timedelta64(1, \"D\")\n",
    "    prog['rate'] = mh.rate(prog.Time)\n",
    "    prog['month_prod'] = mh.monthly_vol(prog.Time)\n",
    "    frame=pd.merge(frame, prog, left_on='date', right_on ='date', how='outer')\n",
    "    frame['well'].fillna(method='ffill', inplace=True)\n",
    "    if name=='10785':\n",
    "        print(name, frame.tail(50))\n",
    "    return frame"
   ]
  },
  {
   "cell_type": "markdown",
   "metadata": {
    "scrolled": true
   },
   "source": [
    "predict = pd.DataFrame(df.loc[df.well.isin(names)].groupby('well').apply(dec_predict))"
   ]
  },
  {
   "cell_type": "code",
   "execution_count": 83,
   "metadata": {},
   "outputs": [
    {
     "name": "stdout",
     "output_type": "stream",
     "text": [
      "Анализ по скважине ['1200']\n",
      "Анализ по скважине ['129А']\n",
      "Анализ по скважине ['134А']\n",
      "Анализ по скважине ['135А']\n"
     ]
    },
    {
     "name": "stderr",
     "output_type": "stream",
     "text": [
      "d:\\other\\my_software\\anaconda\\envs\\times\\lib\\site-packages\\petbox\\dca\\primary.py:123: RuntimeWarning:\n",
      "\n",
      "overflow encountered in power\n",
      "\n",
      "d:\\other\\my_software\\anaconda\\envs\\times\\lib\\site-packages\\scipy\\optimize\\minpack.py:828: OptimizeWarning:\n",
      "\n",
      "Covariance of the parameters could not be estimated\n",
      "\n",
      "d:\\other\\my_software\\anaconda\\envs\\times\\lib\\site-packages\\petbox\\dca\\primary.py:123: RuntimeWarning:\n",
      "\n",
      "overflow encountered in power\n",
      "\n"
     ]
    },
    {
     "name": "stdout",
     "output_type": "stream",
     "text": [
      "Анализ по скважине ['136А']\n",
      "Анализ по скважине ['142А']\n",
      "Анализ по скважине ['143Г']\n"
     ]
    },
    {
     "name": "stderr",
     "output_type": "stream",
     "text": [
      "d:\\other\\my_software\\anaconda\\envs\\times\\lib\\site-packages\\petbox\\dca\\primary.py:123: RuntimeWarning:\n",
      "\n",
      "overflow encountered in power\n",
      "\n",
      "d:\\other\\my_software\\anaconda\\envs\\times\\lib\\site-packages\\petbox\\dca\\primary.py:123: RuntimeWarning:\n",
      "\n",
      "overflow encountered in power\n",
      "\n"
     ]
    },
    {
     "name": "stdout",
     "output_type": "stream",
     "text": [
      "Анализ по скважине ['146А']\n",
      "Анализ по скважине ['149А']\n",
      "Анализ по скважине ['150А']\n",
      "Анализ по скважине ['153А']\n",
      "Анализ по скважине ['157Г']\n",
      "Анализ по скважине ['159А']\n",
      "Анализ по скважине ['165А']\n",
      "Анализ по скважине ['174А']\n",
      "Анализ по скважине ['179А']\n"
     ]
    },
    {
     "name": "stderr",
     "output_type": "stream",
     "text": [
      "d:\\other\\my_software\\anaconda\\envs\\times\\lib\\site-packages\\petbox\\dca\\primary.py:123: RuntimeWarning:\n",
      "\n",
      "overflow encountered in power\n",
      "\n",
      "d:\\other\\my_software\\anaconda\\envs\\times\\lib\\site-packages\\petbox\\dca\\primary.py:123: RuntimeWarning:\n",
      "\n",
      "overflow encountered in power\n",
      "\n",
      "d:\\other\\my_software\\anaconda\\envs\\times\\lib\\site-packages\\petbox\\dca\\primary.py:123: RuntimeWarning:\n",
      "\n",
      "overflow encountered in power\n",
      "\n"
     ]
    },
    {
     "name": "stdout",
     "output_type": "stream",
     "text": [
      "Анализ по скважине ['184А']\n",
      "Анализ по скважине ['185А']\n",
      "Анализ по скважине ['186А']\n",
      "Ошибка определения темпа для скважины ['186А']\n"
     ]
    },
    {
     "name": "stderr",
     "output_type": "stream",
     "text": [
      "d:\\other\\my_software\\anaconda\\envs\\times\\lib\\site-packages\\petbox\\dca\\primary.py:123: RuntimeWarning:\n",
      "\n",
      "overflow encountered in power\n",
      "\n"
     ]
    },
    {
     "name": "stdout",
     "output_type": "stream",
     "text": [
      "Анализ по скважине ['193А']\n",
      "Анализ по скважине ['194А']\n",
      "Анализ по скважине ['200А']\n"
     ]
    },
    {
     "name": "stderr",
     "output_type": "stream",
     "text": [
      "d:\\other\\my_software\\anaconda\\envs\\times\\lib\\site-packages\\petbox\\dca\\primary.py:123: RuntimeWarning:\n",
      "\n",
      "overflow encountered in power\n",
      "\n"
     ]
    },
    {
     "name": "stdout",
     "output_type": "stream",
     "text": [
      "Анализ по скважине ['201А']\n",
      "Анализ по скважине ['208А']\n"
     ]
    },
    {
     "name": "stderr",
     "output_type": "stream",
     "text": [
      "d:\\other\\my_software\\anaconda\\envs\\times\\lib\\site-packages\\petbox\\dca\\primary.py:123: RuntimeWarning:\n",
      "\n",
      "overflow encountered in power\n",
      "\n"
     ]
    },
    {
     "name": "stdout",
     "output_type": "stream",
     "text": [
      "Анализ по скважине ['211А']\n",
      "Анализ по скважине ['263']\n",
      "Анализ по скважине ['28001']\n",
      "Анализ по скважине ['28002']\n"
     ]
    },
    {
     "name": "stderr",
     "output_type": "stream",
     "text": [
      "d:\\other\\my_software\\anaconda\\envs\\times\\lib\\site-packages\\petbox\\dca\\primary.py:123: RuntimeWarning:\n",
      "\n",
      "overflow encountered in power\n",
      "\n"
     ]
    },
    {
     "name": "stdout",
     "output_type": "stream",
     "text": [
      "Анализ по скважине ['28003']\n",
      "Анализ по скважине ['28004']\n",
      "Анализ по скважине ['28005']\n"
     ]
    },
    {
     "name": "stderr",
     "output_type": "stream",
     "text": [
      "d:\\other\\my_software\\anaconda\\envs\\times\\lib\\site-packages\\petbox\\dca\\primary.py:123: RuntimeWarning:\n",
      "\n",
      "overflow encountered in power\n",
      "\n",
      "d:\\other\\my_software\\anaconda\\envs\\times\\lib\\site-packages\\petbox\\dca\\primary.py:123: RuntimeWarning:\n",
      "\n",
      "overflow encountered in power\n",
      "\n",
      "d:\\other\\my_software\\anaconda\\envs\\times\\lib\\site-packages\\petbox\\dca\\primary.py:123: RuntimeWarning:\n",
      "\n",
      "overflow encountered in power\n",
      "\n"
     ]
    },
    {
     "name": "stdout",
     "output_type": "stream",
     "text": [
      "Анализ по скважине ['28006']\n",
      "Анализ по скважине ['28007']\n",
      "Анализ по скважине ['28008']\n"
     ]
    },
    {
     "name": "stderr",
     "output_type": "stream",
     "text": [
      "d:\\other\\my_software\\anaconda\\envs\\times\\lib\\site-packages\\petbox\\dca\\primary.py:123: RuntimeWarning:\n",
      "\n",
      "overflow encountered in power\n",
      "\n",
      "d:\\other\\my_software\\anaconda\\envs\\times\\lib\\site-packages\\petbox\\dca\\primary.py:123: RuntimeWarning:\n",
      "\n",
      "overflow encountered in power\n",
      "\n",
      "d:\\other\\my_software\\anaconda\\envs\\times\\lib\\site-packages\\petbox\\dca\\primary.py:123: RuntimeWarning:\n",
      "\n",
      "overflow encountered in power\n",
      "\n"
     ]
    },
    {
     "name": "stdout",
     "output_type": "stream",
     "text": [
      "Анализ по скважине ['28009']\n",
      "Анализ по скважине ['28010']\n",
      "Анализ по скважине ['28011']\n",
      "Анализ по скважине ['28012']\n"
     ]
    },
    {
     "name": "stderr",
     "output_type": "stream",
     "text": [
      "d:\\other\\my_software\\anaconda\\envs\\times\\lib\\site-packages\\petbox\\dca\\primary.py:123: RuntimeWarning:\n",
      "\n",
      "overflow encountered in power\n",
      "\n",
      "d:\\other\\my_software\\anaconda\\envs\\times\\lib\\site-packages\\petbox\\dca\\primary.py:123: RuntimeWarning:\n",
      "\n",
      "overflow encountered in power\n",
      "\n"
     ]
    },
    {
     "name": "stdout",
     "output_type": "stream",
     "text": [
      "Анализ по скважине ['28013']\n",
      "Анализ по скважине ['28014']\n",
      "Анализ по скважине ['28015']\n",
      "Анализ по скважине ['28016']\n",
      "Анализ по скважине ['28017']\n",
      "Анализ по скважине ['28018']\n",
      "Анализ по скважине ['28019']\n",
      "Анализ по скважине ['28020']\n"
     ]
    },
    {
     "name": "stderr",
     "output_type": "stream",
     "text": [
      "d:\\other\\my_software\\anaconda\\envs\\times\\lib\\site-packages\\petbox\\dca\\primary.py:123: RuntimeWarning:\n",
      "\n",
      "overflow encountered in power\n",
      "\n",
      "d:\\other\\my_software\\anaconda\\envs\\times\\lib\\site-packages\\petbox\\dca\\primary.py:123: RuntimeWarning:\n",
      "\n",
      "overflow encountered in power\n",
      "\n",
      "d:\\other\\my_software\\anaconda\\envs\\times\\lib\\site-packages\\petbox\\dca\\primary.py:123: RuntimeWarning:\n",
      "\n",
      "overflow encountered in power\n",
      "\n",
      "d:\\other\\my_software\\anaconda\\envs\\times\\lib\\site-packages\\petbox\\dca\\primary.py:123: RuntimeWarning:\n",
      "\n",
      "overflow encountered in power\n",
      "\n"
     ]
    },
    {
     "name": "stdout",
     "output_type": "stream",
     "text": [
      "Анализ по скважине ['28023']\n",
      "Анализ по скважине ['28024']\n",
      "Анализ по скважине ['28025']\n"
     ]
    },
    {
     "name": "stderr",
     "output_type": "stream",
     "text": [
      "d:\\other\\my_software\\anaconda\\envs\\times\\lib\\site-packages\\petbox\\dca\\primary.py:123: RuntimeWarning:\n",
      "\n",
      "overflow encountered in power\n",
      "\n",
      "d:\\other\\my_software\\anaconda\\envs\\times\\lib\\site-packages\\petbox\\dca\\primary.py:123: RuntimeWarning:\n",
      "\n",
      "overflow encountered in power\n",
      "\n",
      "d:\\other\\my_software\\anaconda\\envs\\times\\lib\\site-packages\\petbox\\dca\\primary.py:123: RuntimeWarning:\n",
      "\n",
      "overflow encountered in power\n",
      "\n"
     ]
    },
    {
     "name": "stdout",
     "output_type": "stream",
     "text": [
      "Анализ по скважине ['28026']\n",
      "Анализ по скважине ['28027']\n",
      "Анализ по скважине ['28029']\n",
      "Анализ по скважине ['28030']\n",
      "Анализ по скважине ['28031']\n",
      "Анализ по скважине ['28032']\n",
      "Анализ по скважине ['28033']\n",
      "Анализ по скважине ['28034']\n",
      "Анализ по скважине ['28035']\n"
     ]
    },
    {
     "name": "stderr",
     "output_type": "stream",
     "text": [
      "d:\\other\\my_software\\anaconda\\envs\\times\\lib\\site-packages\\petbox\\dca\\primary.py:123: RuntimeWarning:\n",
      "\n",
      "overflow encountered in power\n",
      "\n",
      "d:\\other\\my_software\\anaconda\\envs\\times\\lib\\site-packages\\petbox\\dca\\primary.py:123: RuntimeWarning:\n",
      "\n",
      "overflow encountered in power\n",
      "\n",
      "d:\\other\\my_software\\anaconda\\envs\\times\\lib\\site-packages\\petbox\\dca\\primary.py:123: RuntimeWarning:\n",
      "\n",
      "overflow encountered in power\n",
      "\n"
     ]
    },
    {
     "name": "stdout",
     "output_type": "stream",
     "text": [
      "Анализ по скважине ['28036']\n",
      "Анализ по скважине ['28037']\n",
      "Анализ по скважине ['28038']\n",
      "Анализ по скважине ['28039']\n"
     ]
    },
    {
     "name": "stderr",
     "output_type": "stream",
     "text": [
      "d:\\other\\my_software\\anaconda\\envs\\times\\lib\\site-packages\\petbox\\dca\\primary.py:123: RuntimeWarning:\n",
      "\n",
      "overflow encountered in power\n",
      "\n"
     ]
    },
    {
     "name": "stdout",
     "output_type": "stream",
     "text": [
      "Анализ по скважине ['2804']\n",
      "Ошибка определения темпа для скважины ['2804']\n",
      "Анализ по скважине ['28040']\n",
      "Анализ по скважине ['28041']\n",
      "Анализ по скважине ['28042']\n"
     ]
    },
    {
     "name": "stderr",
     "output_type": "stream",
     "text": [
      "d:\\other\\my_software\\anaconda\\envs\\times\\lib\\site-packages\\petbox\\dca\\primary.py:123: RuntimeWarning:\n",
      "\n",
      "overflow encountered in power\n",
      "\n",
      "d:\\other\\my_software\\anaconda\\envs\\times\\lib\\site-packages\\petbox\\dca\\primary.py:123: RuntimeWarning:\n",
      "\n",
      "overflow encountered in power\n",
      "\n"
     ]
    },
    {
     "name": "stdout",
     "output_type": "stream",
     "text": [
      "Анализ по скважине ['28043']\n",
      "Анализ по скважине ['28044']\n",
      "Анализ по скважине ['28045']\n",
      "Анализ по скважине ['28046']\n",
      "Анализ по скважине ['28047']\n",
      "Анализ по скважине ['28048']\n",
      "Анализ по скважине ['28049']\n"
     ]
    },
    {
     "name": "stderr",
     "output_type": "stream",
     "text": [
      "d:\\other\\my_software\\anaconda\\envs\\times\\lib\\site-packages\\petbox\\dca\\primary.py:123: RuntimeWarning:\n",
      "\n",
      "overflow encountered in power\n",
      "\n",
      "d:\\other\\my_software\\anaconda\\envs\\times\\lib\\site-packages\\petbox\\dca\\primary.py:123: RuntimeWarning:\n",
      "\n",
      "overflow encountered in power\n",
      "\n",
      "d:\\other\\my_software\\anaconda\\envs\\times\\lib\\site-packages\\petbox\\dca\\primary.py:123: RuntimeWarning:\n",
      "\n",
      "overflow encountered in power\n",
      "\n"
     ]
    },
    {
     "name": "stdout",
     "output_type": "stream",
     "text": [
      "Анализ по скважине ['2805']\n",
      "Анализ по скважине ['28050']\n",
      "Анализ по скважине ['28051']\n",
      "Анализ по скважине ['28052']\n",
      "Анализ по скважине ['28053']\n",
      "Анализ по скважине ['28054']\n",
      "Анализ по скважине ['28055']\n"
     ]
    },
    {
     "name": "stderr",
     "output_type": "stream",
     "text": [
      "d:\\other\\my_software\\anaconda\\envs\\times\\lib\\site-packages\\petbox\\dca\\primary.py:123: RuntimeWarning:\n",
      "\n",
      "overflow encountered in power\n",
      "\n",
      "d:\\other\\my_software\\anaconda\\envs\\times\\lib\\site-packages\\petbox\\dca\\primary.py:123: RuntimeWarning:\n",
      "\n",
      "overflow encountered in power\n",
      "\n",
      "d:\\other\\my_software\\anaconda\\envs\\times\\lib\\site-packages\\petbox\\dca\\primary.py:123: RuntimeWarning:\n",
      "\n",
      "overflow encountered in power\n",
      "\n"
     ]
    },
    {
     "name": "stdout",
     "output_type": "stream",
     "text": [
      "Анализ по скважине ['28059']\n",
      "Анализ по скважине ['2806']\n",
      "Анализ по скважине ['28061']\n",
      "Анализ по скважине ['28062']\n",
      "Анализ по скважине ['28063']\n"
     ]
    },
    {
     "name": "stderr",
     "output_type": "stream",
     "text": [
      "d:\\other\\my_software\\anaconda\\envs\\times\\lib\\site-packages\\petbox\\dca\\primary.py:123: RuntimeWarning:\n",
      "\n",
      "overflow encountered in power\n",
      "\n",
      "d:\\other\\my_software\\anaconda\\envs\\times\\lib\\site-packages\\petbox\\dca\\primary.py:123: RuntimeWarning:\n",
      "\n",
      "overflow encountered in power\n",
      "\n"
     ]
    },
    {
     "name": "stdout",
     "output_type": "stream",
     "text": [
      "Анализ по скважине ['2807']\n",
      "Анализ по скважине ['28072']\n",
      "Анализ по скважине ['28073']\n"
     ]
    },
    {
     "name": "stderr",
     "output_type": "stream",
     "text": [
      "d:\\other\\my_software\\anaconda\\envs\\times\\lib\\site-packages\\petbox\\dca\\primary.py:123: RuntimeWarning:\n",
      "\n",
      "overflow encountered in power\n",
      "\n"
     ]
    },
    {
     "name": "stdout",
     "output_type": "stream",
     "text": [
      "Анализ по скважине ['28074']\n",
      "Анализ по скважине ['28075']\n",
      "Анализ по скважине ['2808']\n",
      "Анализ по скважине ['28081']\n",
      "Анализ по скважине ['28082']\n"
     ]
    },
    {
     "name": "stderr",
     "output_type": "stream",
     "text": [
      "d:\\other\\my_software\\anaconda\\envs\\times\\lib\\site-packages\\petbox\\dca\\primary.py:123: RuntimeWarning:\n",
      "\n",
      "overflow encountered in power\n",
      "\n",
      "d:\\other\\my_software\\anaconda\\envs\\times\\lib\\site-packages\\petbox\\dca\\primary.py:123: RuntimeWarning:\n",
      "\n",
      "overflow encountered in power\n",
      "\n",
      "d:\\other\\my_software\\anaconda\\envs\\times\\lib\\site-packages\\petbox\\dca\\primary.py:123: RuntimeWarning:\n",
      "\n",
      "overflow encountered in power\n",
      "\n"
     ]
    },
    {
     "name": "stdout",
     "output_type": "stream",
     "text": [
      "Анализ по скважине ['28083']\n",
      "Анализ по скважине ['28084']\n",
      "Анализ по скважине ['28085']\n",
      "Анализ по скважине ['28086']\n",
      "Анализ по скважине ['28087']\n",
      "Анализ по скважине ['2809']\n",
      "Анализ по скважине ['28091']\n",
      "Анализ по скважине ['28092']\n"
     ]
    },
    {
     "name": "stderr",
     "output_type": "stream",
     "text": [
      "d:\\other\\my_software\\anaconda\\envs\\times\\lib\\site-packages\\petbox\\dca\\primary.py:123: RuntimeWarning:\n",
      "\n",
      "overflow encountered in power\n",
      "\n"
     ]
    },
    {
     "name": "stdout",
     "output_type": "stream",
     "text": [
      "Анализ по скважине ['28094']\n",
      "Анализ по скважине ['28095']\n",
      "Анализ по скважине ['28096']\n",
      "Анализ по скважине ['28097']\n"
     ]
    },
    {
     "name": "stderr",
     "output_type": "stream",
     "text": [
      "d:\\other\\my_software\\anaconda\\envs\\times\\lib\\site-packages\\petbox\\dca\\primary.py:123: RuntimeWarning:\n",
      "\n",
      "overflow encountered in power\n",
      "\n",
      "d:\\other\\my_software\\anaconda\\envs\\times\\lib\\site-packages\\petbox\\dca\\primary.py:123: RuntimeWarning:\n",
      "\n",
      "overflow encountered in power\n",
      "\n"
     ]
    },
    {
     "name": "stdout",
     "output_type": "stream",
     "text": [
      "Анализ по скважине ['28098']\n",
      "Анализ по скважине ['28099']\n",
      "Анализ по скважине ['28102']\n",
      "Анализ по скважине ['28103']\n",
      "Анализ по скважине ['28104']\n",
      "Анализ по скважине ['28105']\n"
     ]
    },
    {
     "name": "stderr",
     "output_type": "stream",
     "text": [
      "d:\\other\\my_software\\anaconda\\envs\\times\\lib\\site-packages\\petbox\\dca\\primary.py:123: RuntimeWarning:\n",
      "\n",
      "overflow encountered in power\n",
      "\n"
     ]
    },
    {
     "name": "stdout",
     "output_type": "stream",
     "text": [
      "Анализ по скважине ['28106']\n",
      "Анализ по скважине ['28107']\n",
      "Анализ по скважине ['28108']\n"
     ]
    },
    {
     "name": "stderr",
     "output_type": "stream",
     "text": [
      "d:\\other\\my_software\\anaconda\\envs\\times\\lib\\site-packages\\petbox\\dca\\primary.py:123: RuntimeWarning:\n",
      "\n",
      "overflow encountered in power\n",
      "\n",
      "d:\\other\\my_software\\anaconda\\envs\\times\\lib\\site-packages\\petbox\\dca\\primary.py:123: RuntimeWarning:\n",
      "\n",
      "overflow encountered in power\n",
      "\n"
     ]
    },
    {
     "name": "stdout",
     "output_type": "stream",
     "text": [
      "Анализ по скважине ['28109']\n",
      "Анализ по скважине ['2811']\n",
      "Анализ по скважине ['28110']\n",
      "Анализ по скважине ['28115']\n",
      "Анализ по скважине ['28116']\n",
      "Анализ по скважине ['28117']\n"
     ]
    },
    {
     "name": "stderr",
     "output_type": "stream",
     "text": [
      "d:\\other\\my_software\\anaconda\\envs\\times\\lib\\site-packages\\petbox\\dca\\primary.py:123: RuntimeWarning:\n",
      "\n",
      "overflow encountered in power\n",
      "\n",
      "d:\\other\\my_software\\anaconda\\envs\\times\\lib\\site-packages\\petbox\\dca\\primary.py:123: RuntimeWarning:\n",
      "\n",
      "overflow encountered in power\n",
      "\n"
     ]
    },
    {
     "name": "stdout",
     "output_type": "stream",
     "text": [
      "Анализ по скважине ['28120']\n",
      "Анализ по скважине ['28121']\n",
      "Анализ по скважине ['28122']\n",
      "Анализ по скважине ['28123']\n"
     ]
    },
    {
     "name": "stderr",
     "output_type": "stream",
     "text": [
      "d:\\other\\my_software\\anaconda\\envs\\times\\lib\\site-packages\\scipy\\optimize\\minpack.py:828: OptimizeWarning:\n",
      "\n",
      "Covariance of the parameters could not be estimated\n",
      "\n",
      "d:\\other\\my_software\\anaconda\\envs\\times\\lib\\site-packages\\petbox\\dca\\primary.py:123: RuntimeWarning:\n",
      "\n",
      "overflow encountered in power\n",
      "\n",
      "d:\\other\\my_software\\anaconda\\envs\\times\\lib\\site-packages\\petbox\\dca\\primary.py:123: RuntimeWarning:\n",
      "\n",
      "overflow encountered in power\n",
      "\n",
      "d:\\other\\my_software\\anaconda\\envs\\times\\lib\\site-packages\\petbox\\dca\\primary.py:123: RuntimeWarning:\n",
      "\n",
      "overflow encountered in power\n",
      "\n",
      "d:\\other\\my_software\\anaconda\\envs\\times\\lib\\site-packages\\petbox\\dca\\primary.py:123: RuntimeWarning:\n",
      "\n",
      "overflow encountered in power\n",
      "\n"
     ]
    },
    {
     "name": "stdout",
     "output_type": "stream",
     "text": [
      "Анализ по скважине ['28126']\n",
      "Анализ по скважине ['28128']\n",
      "Анализ по скважине ['2813']\n",
      "Анализ по скважине ['28131']\n",
      "Анализ по скважине ['28132']\n"
     ]
    },
    {
     "name": "stderr",
     "output_type": "stream",
     "text": [
      "d:\\other\\my_software\\anaconda\\envs\\times\\lib\\site-packages\\petbox\\dca\\primary.py:123: RuntimeWarning:\n",
      "\n",
      "overflow encountered in power\n",
      "\n",
      "d:\\other\\my_software\\anaconda\\envs\\times\\lib\\site-packages\\petbox\\dca\\primary.py:123: RuntimeWarning:\n",
      "\n",
      "overflow encountered in power\n",
      "\n"
     ]
    },
    {
     "name": "stdout",
     "output_type": "stream",
     "text": [
      "Анализ по скважине ['28133']\n",
      "Анализ по скважине ['28134']\n",
      "Анализ по скважине ['28135']\n",
      "Анализ по скважине ['28137']\n"
     ]
    },
    {
     "name": "stderr",
     "output_type": "stream",
     "text": [
      "d:\\other\\my_software\\anaconda\\envs\\times\\lib\\site-packages\\petbox\\dca\\primary.py:123: RuntimeWarning:\n",
      "\n",
      "overflow encountered in power\n",
      "\n"
     ]
    },
    {
     "name": "stdout",
     "output_type": "stream",
     "text": [
      "Анализ по скважине ['28139']\n",
      "Анализ по скважине ['2814']\n",
      "Анализ по скважине ['28140']\n"
     ]
    },
    {
     "name": "stderr",
     "output_type": "stream",
     "text": [
      "d:\\other\\my_software\\anaconda\\envs\\times\\lib\\site-packages\\petbox\\dca\\primary.py:123: RuntimeWarning:\n",
      "\n",
      "overflow encountered in power\n",
      "\n",
      "d:\\other\\my_software\\anaconda\\envs\\times\\lib\\site-packages\\petbox\\dca\\primary.py:123: RuntimeWarning:\n",
      "\n",
      "overflow encountered in power\n",
      "\n"
     ]
    },
    {
     "name": "stdout",
     "output_type": "stream",
     "text": [
      "Анализ по скважине ['28142']\n",
      "Анализ по скважине ['28143']\n",
      "Анализ по скважине ['28144']\n"
     ]
    },
    {
     "name": "stderr",
     "output_type": "stream",
     "text": [
      "d:\\other\\my_software\\anaconda\\envs\\times\\lib\\site-packages\\petbox\\dca\\primary.py:123: RuntimeWarning:\n",
      "\n",
      "overflow encountered in power\n",
      "\n",
      "d:\\other\\my_software\\anaconda\\envs\\times\\lib\\site-packages\\petbox\\dca\\primary.py:123: RuntimeWarning:\n",
      "\n",
      "overflow encountered in power\n",
      "\n"
     ]
    },
    {
     "name": "stdout",
     "output_type": "stream",
     "text": [
      "Анализ по скважине ['28145']\n",
      "Анализ по скважине ['28147']\n",
      "Анализ по скважине ['28148']\n"
     ]
    },
    {
     "name": "stderr",
     "output_type": "stream",
     "text": [
      "d:\\other\\my_software\\anaconda\\envs\\times\\lib\\site-packages\\petbox\\dca\\primary.py:123: RuntimeWarning:\n",
      "\n",
      "overflow encountered in power\n",
      "\n"
     ]
    },
    {
     "name": "stdout",
     "output_type": "stream",
     "text": [
      "Анализ по скважине ['28149']\n",
      "Анализ по скважине ['2815']\n",
      "Анализ по скважине ['28150']\n",
      "Анализ по скважине ['28151']\n",
      "Анализ по скважине ['28153']\n",
      "Анализ по скважине ['28154']\n"
     ]
    },
    {
     "name": "stderr",
     "output_type": "stream",
     "text": [
      "d:\\other\\my_software\\anaconda\\envs\\times\\lib\\site-packages\\petbox\\dca\\primary.py:123: RuntimeWarning:\n",
      "\n",
      "overflow encountered in power\n",
      "\n"
     ]
    },
    {
     "name": "stdout",
     "output_type": "stream",
     "text": [
      "Анализ по скважине ['28155']\n",
      "Анализ по скважине ['28156']\n",
      "Анализ по скважине ['28157']\n"
     ]
    },
    {
     "name": "stderr",
     "output_type": "stream",
     "text": [
      "d:\\other\\my_software\\anaconda\\envs\\times\\lib\\site-packages\\petbox\\dca\\primary.py:123: RuntimeWarning:\n",
      "\n",
      "overflow encountered in power\n",
      "\n",
      "d:\\other\\my_software\\anaconda\\envs\\times\\lib\\site-packages\\petbox\\dca\\primary.py:123: RuntimeWarning:\n",
      "\n",
      "overflow encountered in power\n",
      "\n"
     ]
    },
    {
     "name": "stdout",
     "output_type": "stream",
     "text": [
      "Анализ по скважине ['28158']\n",
      "Анализ по скважине ['28159']\n",
      "Анализ по скважине ['2816']\n",
      "Анализ по скважине ['28160']\n",
      "Анализ по скважине ['28162']\n",
      "Анализ по скважине ['28163']\n",
      "Анализ по скважине ['28164']\n",
      "Анализ по скважине ['28165']\n",
      "Анализ по скважине ['28166']\n",
      "Анализ по скважине ['28167']\n"
     ]
    },
    {
     "name": "stderr",
     "output_type": "stream",
     "text": [
      "d:\\other\\my_software\\anaconda\\envs\\times\\lib\\site-packages\\petbox\\dca\\primary.py:123: RuntimeWarning:\n",
      "\n",
      "overflow encountered in power\n",
      "\n"
     ]
    },
    {
     "name": "stdout",
     "output_type": "stream",
     "text": [
      "Анализ по скважине ['28168']\n",
      "Анализ по скважине ['28169']\n",
      "Анализ по скважине ['28170']\n"
     ]
    },
    {
     "name": "stderr",
     "output_type": "stream",
     "text": [
      "d:\\other\\my_software\\anaconda\\envs\\times\\lib\\site-packages\\petbox\\dca\\primary.py:123: RuntimeWarning:\n",
      "\n",
      "overflow encountered in power\n",
      "\n",
      "d:\\other\\my_software\\anaconda\\envs\\times\\lib\\site-packages\\petbox\\dca\\primary.py:123: RuntimeWarning:\n",
      "\n",
      "overflow encountered in power\n",
      "\n"
     ]
    },
    {
     "name": "stdout",
     "output_type": "stream",
     "text": [
      "Анализ по скважине ['28171']\n",
      "Анализ по скважине ['28172']\n",
      "Анализ по скважине ['28173']\n",
      "Анализ по скважине ['28175']\n"
     ]
    },
    {
     "name": "stderr",
     "output_type": "stream",
     "text": [
      "d:\\other\\my_software\\anaconda\\envs\\times\\lib\\site-packages\\petbox\\dca\\primary.py:123: RuntimeWarning:\n",
      "\n",
      "overflow encountered in power\n",
      "\n",
      "d:\\other\\my_software\\anaconda\\envs\\times\\lib\\site-packages\\petbox\\dca\\primary.py:123: RuntimeWarning:\n",
      "\n",
      "overflow encountered in power\n",
      "\n",
      "d:\\other\\my_software\\anaconda\\envs\\times\\lib\\site-packages\\petbox\\dca\\primary.py:123: RuntimeWarning:\n",
      "\n",
      "overflow encountered in power\n",
      "\n"
     ]
    },
    {
     "name": "stdout",
     "output_type": "stream",
     "text": [
      "Анализ по скважине ['28176']\n",
      "Анализ по скважине ['28177']\n",
      "Анализ по скважине ['28178']\n",
      "Анализ по скважине ['28181']\n"
     ]
    },
    {
     "name": "stderr",
     "output_type": "stream",
     "text": [
      "d:\\other\\my_software\\anaconda\\envs\\times\\lib\\site-packages\\petbox\\dca\\primary.py:123: RuntimeWarning:\n",
      "\n",
      "overflow encountered in power\n",
      "\n",
      "d:\\other\\my_software\\anaconda\\envs\\times\\lib\\site-packages\\petbox\\dca\\primary.py:123: RuntimeWarning:\n",
      "\n",
      "overflow encountered in power\n",
      "\n",
      "d:\\other\\my_software\\anaconda\\envs\\times\\lib\\site-packages\\petbox\\dca\\primary.py:123: RuntimeWarning:\n",
      "\n",
      "overflow encountered in power\n",
      "\n"
     ]
    },
    {
     "name": "stdout",
     "output_type": "stream",
     "text": [
      "Анализ по скважине ['28182']\n",
      "Анализ по скважине ['28183']\n",
      "Анализ по скважине ['28184']\n",
      "Анализ по скважине ['28185']\n",
      "Анализ по скважине ['28188']\n",
      "Анализ по скважине ['28190']\n",
      "Анализ по скважине ['28193']\n"
     ]
    },
    {
     "name": "stderr",
     "output_type": "stream",
     "text": [
      "d:\\other\\my_software\\anaconda\\envs\\times\\lib\\site-packages\\petbox\\dca\\primary.py:123: RuntimeWarning:\n",
      "\n",
      "overflow encountered in power\n",
      "\n"
     ]
    },
    {
     "name": "stdout",
     "output_type": "stream",
     "text": [
      "Анализ по скважине ['28195']\n",
      "Анализ по скважине ['28196']\n",
      "Анализ по скважине ['28199']\n",
      "Анализ по скважине ['28200']\n"
     ]
    },
    {
     "name": "stderr",
     "output_type": "stream",
     "text": [
      "d:\\other\\my_software\\anaconda\\envs\\times\\lib\\site-packages\\petbox\\dca\\primary.py:123: RuntimeWarning:\n",
      "\n",
      "overflow encountered in power\n",
      "\n",
      "d:\\other\\my_software\\anaconda\\envs\\times\\lib\\site-packages\\petbox\\dca\\primary.py:123: RuntimeWarning:\n",
      "\n",
      "overflow encountered in power\n",
      "\n",
      "d:\\other\\my_software\\anaconda\\envs\\times\\lib\\site-packages\\petbox\\dca\\primary.py:123: RuntimeWarning:\n",
      "\n",
      "overflow encountered in power\n",
      "\n"
     ]
    },
    {
     "name": "stdout",
     "output_type": "stream",
     "text": [
      "Анализ по скважине ['28201']\n",
      "Анализ по скважине ['28202']\n",
      "Анализ по скважине ['28203']\n"
     ]
    },
    {
     "name": "stderr",
     "output_type": "stream",
     "text": [
      "d:\\other\\my_software\\anaconda\\envs\\times\\lib\\site-packages\\petbox\\dca\\primary.py:123: RuntimeWarning:\n",
      "\n",
      "overflow encountered in power\n",
      "\n",
      "d:\\other\\my_software\\anaconda\\envs\\times\\lib\\site-packages\\petbox\\dca\\primary.py:123: RuntimeWarning:\n",
      "\n",
      "overflow encountered in power\n",
      "\n"
     ]
    },
    {
     "name": "stdout",
     "output_type": "stream",
     "text": [
      "Анализ по скважине ['28207']\n",
      "Анализ по скважине ['28208']\n"
     ]
    },
    {
     "name": "stderr",
     "output_type": "stream",
     "text": [
      "d:\\other\\my_software\\anaconda\\envs\\times\\lib\\site-packages\\petbox\\dca\\primary.py:123: RuntimeWarning:\n",
      "\n",
      "overflow encountered in power\n",
      "\n"
     ]
    },
    {
     "name": "stdout",
     "output_type": "stream",
     "text": [
      "Анализ по скважине ['28209']\n",
      "Анализ по скважине ['28210']\n",
      "Анализ по скважине ['28211']\n"
     ]
    },
    {
     "name": "stderr",
     "output_type": "stream",
     "text": [
      "d:\\other\\my_software\\anaconda\\envs\\times\\lib\\site-packages\\petbox\\dca\\primary.py:123: RuntimeWarning:\n",
      "\n",
      "overflow encountered in power\n",
      "\n"
     ]
    },
    {
     "name": "stdout",
     "output_type": "stream",
     "text": [
      "Анализ по скважине ['28212']\n",
      "Анализ по скважине ['28213']\n",
      "Анализ по скважине ['28214']\n",
      "Анализ по скважине ['28215']\n"
     ]
    },
    {
     "name": "stderr",
     "output_type": "stream",
     "text": [
      "d:\\other\\my_software\\anaconda\\envs\\times\\lib\\site-packages\\petbox\\dca\\primary.py:123: RuntimeWarning:\n",
      "\n",
      "overflow encountered in power\n",
      "\n"
     ]
    },
    {
     "name": "stdout",
     "output_type": "stream",
     "text": [
      "Анализ по скважине ['28216']\n",
      "Анализ по скважине ['28221']\n",
      "Анализ по скважине ['28222']\n",
      "Анализ по скважине ['28223']\n"
     ]
    },
    {
     "name": "stderr",
     "output_type": "stream",
     "text": [
      "d:\\other\\my_software\\anaconda\\envs\\times\\lib\\site-packages\\petbox\\dca\\primary.py:123: RuntimeWarning:\n",
      "\n",
      "overflow encountered in power\n",
      "\n"
     ]
    },
    {
     "name": "stdout",
     "output_type": "stream",
     "text": [
      "Анализ по скважине ['28224']\n",
      "Анализ по скважине ['28226']\n",
      "Анализ по скважине ['28232']\n",
      "Анализ по скважине ['28233']\n",
      "Анализ по скважине ['28234']\n",
      "Анализ по скважине ['28235']\n",
      "Анализ по скважине ['28236']\n",
      "Анализ по скважине ['28237']\n",
      "Анализ по скважине ['28238']\n"
     ]
    },
    {
     "name": "stderr",
     "output_type": "stream",
     "text": [
      "d:\\other\\my_software\\anaconda\\envs\\times\\lib\\site-packages\\petbox\\dca\\primary.py:123: RuntimeWarning:\n",
      "\n",
      "overflow encountered in power\n",
      "\n",
      "d:\\other\\my_software\\anaconda\\envs\\times\\lib\\site-packages\\petbox\\dca\\primary.py:123: RuntimeWarning:\n",
      "\n",
      "overflow encountered in power\n",
      "\n",
      "d:\\other\\my_software\\anaconda\\envs\\times\\lib\\site-packages\\petbox\\dca\\primary.py:123: RuntimeWarning:\n",
      "\n",
      "overflow encountered in power\n",
      "\n"
     ]
    },
    {
     "name": "stdout",
     "output_type": "stream",
     "text": [
      "Анализ по скважине ['28244']\n",
      "Анализ по скважине ['28245']\n",
      "Анализ по скважине ['28246']\n",
      "Анализ по скважине ['28247']\n",
      "Анализ по скважине ['28250']\n",
      "Анализ по скважине ['28251']\n"
     ]
    },
    {
     "name": "stderr",
     "output_type": "stream",
     "text": [
      "d:\\other\\my_software\\anaconda\\envs\\times\\lib\\site-packages\\petbox\\dca\\primary.py:123: RuntimeWarning:\n",
      "\n",
      "overflow encountered in power\n",
      "\n"
     ]
    },
    {
     "name": "stdout",
     "output_type": "stream",
     "text": [
      "Анализ по скважине ['28252']\n",
      "Анализ по скважине ['28256']\n",
      "Анализ по скважине ['28257']\n",
      "Анализ по скважине ['28258']\n",
      "Анализ по скважине ['28259']\n",
      "Анализ по скважине ['2826']\n",
      "Анализ по скважине ['28260']\n",
      "Анализ по скважине ['28261']\n"
     ]
    },
    {
     "name": "stderr",
     "output_type": "stream",
     "text": [
      "d:\\other\\my_software\\anaconda\\envs\\times\\lib\\site-packages\\petbox\\dca\\primary.py:123: RuntimeWarning:\n",
      "\n",
      "overflow encountered in power\n",
      "\n"
     ]
    },
    {
     "name": "stdout",
     "output_type": "stream",
     "text": [
      "Анализ по скважине ['28262']\n",
      "Анализ по скважине ['2827']\n",
      "Анализ по скважине ['28270']\n",
      "Анализ по скважине ['28272']\n"
     ]
    },
    {
     "name": "stderr",
     "output_type": "stream",
     "text": [
      "d:\\other\\my_software\\anaconda\\envs\\times\\lib\\site-packages\\petbox\\dca\\primary.py:123: RuntimeWarning:\n",
      "\n",
      "overflow encountered in power\n",
      "\n",
      "d:\\other\\my_software\\anaconda\\envs\\times\\lib\\site-packages\\petbox\\dca\\primary.py:123: RuntimeWarning:\n",
      "\n",
      "overflow encountered in power\n",
      "\n",
      "d:\\other\\my_software\\anaconda\\envs\\times\\lib\\site-packages\\petbox\\dca\\primary.py:123: RuntimeWarning:\n",
      "\n",
      "overflow encountered in power\n",
      "\n"
     ]
    },
    {
     "name": "stdout",
     "output_type": "stream",
     "text": [
      "Анализ по скважине ['28273']\n",
      "Анализ по скважине ['28274']\n",
      "Анализ по скважине ['28275']\n",
      "Анализ по скважине ['2828']\n"
     ]
    },
    {
     "name": "stderr",
     "output_type": "stream",
     "text": [
      "d:\\other\\my_software\\anaconda\\envs\\times\\lib\\site-packages\\petbox\\dca\\primary.py:123: RuntimeWarning:\n",
      "\n",
      "overflow encountered in power\n",
      "\n",
      "d:\\other\\my_software\\anaconda\\envs\\times\\lib\\site-packages\\petbox\\dca\\primary.py:123: RuntimeWarning:\n",
      "\n",
      "overflow encountered in power\n",
      "\n",
      "d:\\other\\my_software\\anaconda\\envs\\times\\lib\\site-packages\\petbox\\dca\\primary.py:123: RuntimeWarning:\n",
      "\n",
      "overflow encountered in power\n",
      "\n"
     ]
    },
    {
     "name": "stdout",
     "output_type": "stream",
     "text": [
      "Ошибка определения темпа для скважины ['2828']\n",
      "Анализ по скважине ['28282']\n",
      "Анализ по скважине ['28283']\n",
      "Ошибка определения темпа для скважины ['28283']\n",
      "Анализ по скважине ['28284']\n",
      "Анализ по скважине ['28285']\n"
     ]
    },
    {
     "name": "stderr",
     "output_type": "stream",
     "text": [
      "d:\\other\\my_software\\anaconda\\envs\\times\\lib\\site-packages\\scipy\\optimize\\minpack.py:828: OptimizeWarning:\n",
      "\n",
      "Covariance of the parameters could not be estimated\n",
      "\n"
     ]
    },
    {
     "name": "stdout",
     "output_type": "stream",
     "text": [
      "Анализ по скважине ['28286']\n",
      "Анализ по скважине ['28287']\n",
      "Анализ по скважине ['2829']\n",
      "Анализ по скважине ['28296']\n",
      "Анализ по скважине ['28297']\n",
      "Анализ по скважине ['28298']\n"
     ]
    },
    {
     "name": "stderr",
     "output_type": "stream",
     "text": [
      "d:\\other\\my_software\\anaconda\\envs\\times\\lib\\site-packages\\petbox\\dca\\primary.py:123: RuntimeWarning:\n",
      "\n",
      "overflow encountered in power\n",
      "\n",
      "d:\\other\\my_software\\anaconda\\envs\\times\\lib\\site-packages\\petbox\\dca\\primary.py:123: RuntimeWarning:\n",
      "\n",
      "overflow encountered in power\n",
      "\n",
      "d:\\other\\my_software\\anaconda\\envs\\times\\lib\\site-packages\\petbox\\dca\\primary.py:123: RuntimeWarning:\n",
      "\n",
      "overflow encountered in power\n",
      "\n"
     ]
    },
    {
     "name": "stdout",
     "output_type": "stream",
     "text": [
      "Анализ по скважине ['28299']\n",
      "Анализ по скважине ['28308']\n",
      "Анализ по скважине ['28309']\n"
     ]
    },
    {
     "name": "stderr",
     "output_type": "stream",
     "text": [
      "d:\\other\\my_software\\anaconda\\envs\\times\\lib\\site-packages\\petbox\\dca\\primary.py:123: RuntimeWarning:\n",
      "\n",
      "overflow encountered in power\n",
      "\n"
     ]
    },
    {
     "name": "stdout",
     "output_type": "stream",
     "text": [
      "Анализ по скважине ['2831']\n",
      "Анализ по скважине ['28310']\n",
      "Анализ по скважине ['28311']\n"
     ]
    },
    {
     "name": "stderr",
     "output_type": "stream",
     "text": [
      "d:\\other\\my_software\\anaconda\\envs\\times\\lib\\site-packages\\petbox\\dca\\primary.py:123: RuntimeWarning:\n",
      "\n",
      "overflow encountered in power\n",
      "\n",
      "d:\\other\\my_software\\anaconda\\envs\\times\\lib\\site-packages\\petbox\\dca\\primary.py:123: RuntimeWarning:\n",
      "\n",
      "overflow encountered in power\n",
      "\n",
      "d:\\other\\my_software\\anaconda\\envs\\times\\lib\\site-packages\\petbox\\dca\\primary.py:123: RuntimeWarning:\n",
      "\n",
      "overflow encountered in power\n",
      "\n",
      "d:\\other\\my_software\\anaconda\\envs\\times\\lib\\site-packages\\petbox\\dca\\primary.py:123: RuntimeWarning:\n",
      "\n",
      "overflow encountered in power\n",
      "\n"
     ]
    },
    {
     "name": "stdout",
     "output_type": "stream",
     "text": [
      "Анализ по скважине ['28312']\n",
      "Анализ по скважине ['28319']\n",
      "Анализ по скважине ['28321']\n",
      "Анализ по скважине ['28322']\n",
      "Анализ по скважине ['28323']\n",
      "Анализ по скважине ['28324']\n",
      "Анализ по скважине ['28325']\n",
      "Анализ по скважине ['28326']\n"
     ]
    },
    {
     "name": "stderr",
     "output_type": "stream",
     "text": [
      "d:\\other\\my_software\\anaconda\\envs\\times\\lib\\site-packages\\petbox\\dca\\primary.py:123: RuntimeWarning:\n",
      "\n",
      "overflow encountered in power\n",
      "\n"
     ]
    },
    {
     "name": "stdout",
     "output_type": "stream",
     "text": [
      "Анализ по скважине ['2833']\n",
      "Анализ по скважине ['28333']\n",
      "Анализ по скважине ['28334']\n",
      "Анализ по скважине ['28335']\n"
     ]
    },
    {
     "name": "stderr",
     "output_type": "stream",
     "text": [
      "d:\\other\\my_software\\anaconda\\envs\\times\\lib\\site-packages\\petbox\\dca\\primary.py:123: RuntimeWarning:\n",
      "\n",
      "overflow encountered in power\n",
      "\n",
      "d:\\other\\my_software\\anaconda\\envs\\times\\lib\\site-packages\\petbox\\dca\\primary.py:123: RuntimeWarning:\n",
      "\n",
      "overflow encountered in power\n",
      "\n"
     ]
    },
    {
     "name": "stdout",
     "output_type": "stream",
     "text": [
      "Анализ по скважине ['28336']\n",
      "Анализ по скважине ['28337']\n",
      "Анализ по скважине ['28338']\n",
      "Анализ по скважине ['28339']\n"
     ]
    },
    {
     "name": "stderr",
     "output_type": "stream",
     "text": [
      "d:\\other\\my_software\\anaconda\\envs\\times\\lib\\site-packages\\petbox\\dca\\primary.py:123: RuntimeWarning:\n",
      "\n",
      "overflow encountered in power\n",
      "\n",
      "d:\\other\\my_software\\anaconda\\envs\\times\\lib\\site-packages\\petbox\\dca\\primary.py:123: RuntimeWarning:\n",
      "\n",
      "overflow encountered in power\n",
      "\n"
     ]
    },
    {
     "name": "stdout",
     "output_type": "stream",
     "text": [
      "Анализ по скважине ['28340']\n",
      "Анализ по скважине ['28341']\n",
      "Анализ по скважине ['28348']\n",
      "Анализ по скважине ['2835']\n",
      "Анализ по скважине ['28350']\n",
      "Анализ по скважине ['28351']\n",
      "Анализ по скважине ['28352']\n",
      "Анализ по скважине ['28353']\n"
     ]
    },
    {
     "name": "stderr",
     "output_type": "stream",
     "text": [
      "d:\\other\\my_software\\anaconda\\envs\\times\\lib\\site-packages\\petbox\\dca\\primary.py:123: RuntimeWarning:\n",
      "\n",
      "overflow encountered in power\n",
      "\n",
      "d:\\other\\my_software\\anaconda\\envs\\times\\lib\\site-packages\\petbox\\dca\\primary.py:123: RuntimeWarning:\n",
      "\n",
      "overflow encountered in power\n",
      "\n"
     ]
    },
    {
     "name": "stdout",
     "output_type": "stream",
     "text": [
      "Анализ по скважине ['28354']\n",
      "Анализ по скважине ['28355']\n",
      "Анализ по скважине ['28360']\n"
     ]
    },
    {
     "name": "stderr",
     "output_type": "stream",
     "text": [
      "d:\\other\\my_software\\anaconda\\envs\\times\\lib\\site-packages\\petbox\\dca\\primary.py:123: RuntimeWarning:\n",
      "\n",
      "overflow encountered in power\n",
      "\n",
      "d:\\other\\my_software\\anaconda\\envs\\times\\lib\\site-packages\\petbox\\dca\\primary.py:123: RuntimeWarning:\n",
      "\n",
      "overflow encountered in power\n",
      "\n",
      "d:\\other\\my_software\\anaconda\\envs\\times\\lib\\site-packages\\petbox\\dca\\primary.py:123: RuntimeWarning:\n",
      "\n",
      "overflow encountered in power\n",
      "\n",
      "d:\\other\\my_software\\anaconda\\envs\\times\\lib\\site-packages\\petbox\\dca\\primary.py:123: RuntimeWarning:\n",
      "\n",
      "overflow encountered in power\n",
      "\n"
     ]
    },
    {
     "name": "stdout",
     "output_type": "stream",
     "text": [
      "Анализ по скважине ['28361']\n",
      "Анализ по скважине ['28362']\n",
      "Анализ по скважине ['28363']\n",
      "Анализ по скважине ['28364']\n",
      "Анализ по скважине ['28365']\n"
     ]
    },
    {
     "name": "stderr",
     "output_type": "stream",
     "text": [
      "d:\\other\\my_software\\anaconda\\envs\\times\\lib\\site-packages\\scipy\\optimize\\minpack.py:828: OptimizeWarning:\n",
      "\n",
      "Covariance of the parameters could not be estimated\n",
      "\n",
      "d:\\other\\my_software\\anaconda\\envs\\times\\lib\\site-packages\\petbox\\dca\\primary.py:123: RuntimeWarning:\n",
      "\n",
      "overflow encountered in power\n",
      "\n"
     ]
    },
    {
     "name": "stdout",
     "output_type": "stream",
     "text": [
      "Анализ по скважине ['28366']\n",
      "Анализ по скважине ['28367']\n",
      "Анализ по скважине ['28372']\n"
     ]
    },
    {
     "name": "stderr",
     "output_type": "stream",
     "text": [
      "d:\\other\\my_software\\anaconda\\envs\\times\\lib\\site-packages\\petbox\\dca\\primary.py:123: RuntimeWarning:\n",
      "\n",
      "overflow encountered in power\n",
      "\n",
      "d:\\other\\my_software\\anaconda\\envs\\times\\lib\\site-packages\\petbox\\dca\\primary.py:123: RuntimeWarning:\n",
      "\n",
      "overflow encountered in power\n",
      "\n"
     ]
    },
    {
     "name": "stdout",
     "output_type": "stream",
     "text": [
      "Анализ по скважине ['28373']\n",
      "Анализ по скважине ['28374']\n",
      "Анализ по скважине ['28375']\n",
      "Анализ по скважине ['28376']\n"
     ]
    },
    {
     "name": "stderr",
     "output_type": "stream",
     "text": [
      "d:\\other\\my_software\\anaconda\\envs\\times\\lib\\site-packages\\petbox\\dca\\primary.py:123: RuntimeWarning:\n",
      "\n",
      "overflow encountered in power\n",
      "\n"
     ]
    },
    {
     "name": "stdout",
     "output_type": "stream",
     "text": [
      "Анализ по скважине ['28377']\n",
      "Анализ по скважине ['28378']\n",
      "Анализ по скважине ['2838']\n",
      "Анализ по скважине ['28381']\n"
     ]
    },
    {
     "name": "stderr",
     "output_type": "stream",
     "text": [
      "d:\\other\\my_software\\anaconda\\envs\\times\\lib\\site-packages\\petbox\\dca\\primary.py:123: RuntimeWarning:\n",
      "\n",
      "overflow encountered in power\n",
      "\n",
      "d:\\other\\my_software\\anaconda\\envs\\times\\lib\\site-packages\\petbox\\dca\\primary.py:123: RuntimeWarning:\n",
      "\n",
      "overflow encountered in power\n",
      "\n"
     ]
    },
    {
     "name": "stdout",
     "output_type": "stream",
     "text": [
      "Анализ по скважине ['28382']\n",
      "Анализ по скважине ['28383']\n",
      "Анализ по скважине ['28384']\n",
      "Анализ по скважине ['28385']\n"
     ]
    },
    {
     "name": "stderr",
     "output_type": "stream",
     "text": [
      "d:\\other\\my_software\\anaconda\\envs\\times\\lib\\site-packages\\petbox\\dca\\primary.py:123: RuntimeWarning:\n",
      "\n",
      "overflow encountered in power\n",
      "\n",
      "d:\\other\\my_software\\anaconda\\envs\\times\\lib\\site-packages\\petbox\\dca\\primary.py:123: RuntimeWarning:\n",
      "\n",
      "overflow encountered in power\n",
      "\n",
      "d:\\other\\my_software\\anaconda\\envs\\times\\lib\\site-packages\\petbox\\dca\\primary.py:123: RuntimeWarning:\n",
      "\n",
      "overflow encountered in power\n",
      "\n",
      "d:\\other\\my_software\\anaconda\\envs\\times\\lib\\site-packages\\petbox\\dca\\primary.py:123: RuntimeWarning:\n",
      "\n",
      "overflow encountered in power\n",
      "\n"
     ]
    },
    {
     "name": "stdout",
     "output_type": "stream",
     "text": [
      "Анализ по скважине ['28386']\n",
      "Анализ по скважине ['28387']\n",
      "Анализ по скважине ['28391']\n",
      "Анализ по скважине ['28392']\n",
      "Анализ по скважине ['28393']\n",
      "Анализ по скважине ['28394']\n",
      "Анализ по скважине ['28395']\n",
      "Анализ по скважине ['28398']\n",
      "Анализ по скважине ['28399']\n",
      "Анализ по скважине ['28400']\n",
      "Анализ по скважине ['28401']\n",
      "Анализ по скважине ['28402']\n",
      "Анализ по скважине ['28445']\n",
      "Анализ по скважине ['28446']\n",
      "Анализ по скважине ['28447']\n",
      "Анализ по скважине ['28448']\n",
      "Анализ по скважине ['28449']\n",
      "Анализ по скважине ['28450']\n",
      "Анализ по скважине ['28451']\n",
      "Анализ по скважине ['28452']\n",
      "Анализ по скважине ['28453']\n"
     ]
    },
    {
     "name": "stderr",
     "output_type": "stream",
     "text": [
      "d:\\other\\my_software\\anaconda\\envs\\times\\lib\\site-packages\\petbox\\dca\\primary.py:123: RuntimeWarning:\n",
      "\n",
      "overflow encountered in power\n",
      "\n",
      "d:\\other\\my_software\\anaconda\\envs\\times\\lib\\site-packages\\petbox\\dca\\primary.py:123: RuntimeWarning:\n",
      "\n",
      "overflow encountered in power\n",
      "\n",
      "d:\\other\\my_software\\anaconda\\envs\\times\\lib\\site-packages\\petbox\\dca\\primary.py:123: RuntimeWarning:\n",
      "\n",
      "overflow encountered in power\n",
      "\n"
     ]
    },
    {
     "name": "stdout",
     "output_type": "stream",
     "text": [
      "Анализ по скважине ['28455']\n",
      "Анализ по скважине ['28456']\n",
      "Анализ по скважине ['28457']\n",
      "Ошибка определения темпа для скважины ['28457']\n",
      "Анализ по скважине ['28461']\n",
      "Анализ по скважине ['28462']\n",
      "Анализ по скважине ['28464']\n"
     ]
    },
    {
     "name": "stderr",
     "output_type": "stream",
     "text": [
      "d:\\other\\my_software\\anaconda\\envs\\times\\lib\\site-packages\\petbox\\dca\\primary.py:123: RuntimeWarning:\n",
      "\n",
      "overflow encountered in power\n",
      "\n",
      "d:\\other\\my_software\\anaconda\\envs\\times\\lib\\site-packages\\petbox\\dca\\primary.py:123: RuntimeWarning:\n",
      "\n",
      "overflow encountered in power\n",
      "\n",
      "d:\\other\\my_software\\anaconda\\envs\\times\\lib\\site-packages\\petbox\\dca\\primary.py:123: RuntimeWarning:\n",
      "\n",
      "overflow encountered in power\n",
      "\n",
      "d:\\other\\my_software\\anaconda\\envs\\times\\lib\\site-packages\\petbox\\dca\\primary.py:123: RuntimeWarning:\n",
      "\n",
      "overflow encountered in power\n",
      "\n"
     ]
    },
    {
     "name": "stdout",
     "output_type": "stream",
     "text": [
      "Анализ по скважине ['28465']\n",
      "Анализ по скважине ['28466']\n",
      "Анализ по скважине ['28467']\n",
      "Анализ по скважине ['28469']\n",
      "Анализ по скважине ['28472']\n"
     ]
    },
    {
     "name": "stderr",
     "output_type": "stream",
     "text": [
      "d:\\other\\my_software\\anaconda\\envs\\times\\lib\\site-packages\\petbox\\dca\\primary.py:123: RuntimeWarning:\n",
      "\n",
      "overflow encountered in power\n",
      "\n",
      "d:\\other\\my_software\\anaconda\\envs\\times\\lib\\site-packages\\petbox\\dca\\primary.py:123: RuntimeWarning:\n",
      "\n",
      "overflow encountered in power\n",
      "\n"
     ]
    },
    {
     "name": "stdout",
     "output_type": "stream",
     "text": [
      "Анализ по скважине ['28473']\n",
      "Анализ по скважине ['28475']\n",
      "Анализ по скважине ['28476']\n",
      "Анализ по скважине ['28477']\n",
      "Анализ по скважине ['28478']\n",
      "Анализ по скважине ['28482']\n",
      "Анализ по скважине ['28483']\n",
      "Анализ по скважине ['28485']\n"
     ]
    },
    {
     "name": "stderr",
     "output_type": "stream",
     "text": [
      "d:\\other\\my_software\\anaconda\\envs\\times\\lib\\site-packages\\petbox\\dca\\primary.py:123: RuntimeWarning:\n",
      "\n",
      "overflow encountered in power\n",
      "\n",
      "d:\\other\\my_software\\anaconda\\envs\\times\\lib\\site-packages\\petbox\\dca\\primary.py:123: RuntimeWarning:\n",
      "\n",
      "overflow encountered in power\n",
      "\n"
     ]
    },
    {
     "name": "stdout",
     "output_type": "stream",
     "text": [
      "Анализ по скважине ['28486']\n",
      "Анализ по скважине ['28487']\n",
      "Анализ по скважине ['28488']\n",
      "Анализ по скважине ['28489']\n",
      "Анализ по скважине ['28493']\n",
      "Анализ по скважине ['28494']\n",
      "Анализ по скважине ['28496']\n",
      "Анализ по скважине ['28498']\n",
      "Анализ по скважине ['28499']\n",
      "Анализ по скважине ['28500']\n",
      "Анализ по скважине ['28501']\n"
     ]
    },
    {
     "name": "stderr",
     "output_type": "stream",
     "text": [
      "d:\\other\\my_software\\anaconda\\envs\\times\\lib\\site-packages\\petbox\\dca\\primary.py:123: RuntimeWarning:\n",
      "\n",
      "overflow encountered in power\n",
      "\n",
      "d:\\other\\my_software\\anaconda\\envs\\times\\lib\\site-packages\\petbox\\dca\\primary.py:123: RuntimeWarning:\n",
      "\n",
      "overflow encountered in power\n",
      "\n",
      "d:\\other\\my_software\\anaconda\\envs\\times\\lib\\site-packages\\petbox\\dca\\primary.py:123: RuntimeWarning:\n",
      "\n",
      "overflow encountered in power\n",
      "\n",
      "d:\\other\\my_software\\anaconda\\envs\\times\\lib\\site-packages\\petbox\\dca\\primary.py:123: RuntimeWarning:\n",
      "\n",
      "overflow encountered in power\n",
      "\n",
      "d:\\other\\my_software\\anaconda\\envs\\times\\lib\\site-packages\\petbox\\dca\\primary.py:123: RuntimeWarning:\n",
      "\n",
      "overflow encountered in power\n",
      "\n",
      "d:\\other\\my_software\\anaconda\\envs\\times\\lib\\site-packages\\petbox\\dca\\primary.py:123: RuntimeWarning:\n",
      "\n",
      "overflow encountered in power\n",
      "\n",
      "d:\\other\\my_software\\anaconda\\envs\\times\\lib\\site-packages\\petbox\\dca\\primary.py:123: RuntimeWarning:\n",
      "\n",
      "overflow encountered in power\n",
      "\n"
     ]
    },
    {
     "name": "stdout",
     "output_type": "stream",
     "text": [
      "Анализ по скважине ['28503']\n",
      "Анализ по скважине ['28504']\n",
      "Анализ по скважине ['28505']\n",
      "Анализ по скважине ['28506']\n",
      "Анализ по скважине ['28507']\n",
      "Анализ по скважине ['28508']\n",
      "Анализ по скважине ['28509']\n",
      "Анализ по скважине ['2851']\n"
     ]
    },
    {
     "name": "stderr",
     "output_type": "stream",
     "text": [
      "d:\\other\\my_software\\anaconda\\envs\\times\\lib\\site-packages\\petbox\\dca\\primary.py:123: RuntimeWarning:\n",
      "\n",
      "overflow encountered in power\n",
      "\n",
      "d:\\other\\my_software\\anaconda\\envs\\times\\lib\\site-packages\\petbox\\dca\\primary.py:123: RuntimeWarning:\n",
      "\n",
      "overflow encountered in power\n",
      "\n"
     ]
    },
    {
     "name": "stdout",
     "output_type": "stream",
     "text": [
      "Анализ по скважине ['28510']\n",
      "Анализ по скважине ['28511']\n",
      "Анализ по скважине ['28512']\n",
      "Анализ по скважине ['28513']\n"
     ]
    },
    {
     "name": "stderr",
     "output_type": "stream",
     "text": [
      "d:\\other\\my_software\\anaconda\\envs\\times\\lib\\site-packages\\petbox\\dca\\primary.py:123: RuntimeWarning:\n",
      "\n",
      "overflow encountered in power\n",
      "\n",
      "d:\\other\\my_software\\anaconda\\envs\\times\\lib\\site-packages\\petbox\\dca\\primary.py:123: RuntimeWarning:\n",
      "\n",
      "overflow encountered in power\n",
      "\n",
      "d:\\other\\my_software\\anaconda\\envs\\times\\lib\\site-packages\\petbox\\dca\\primary.py:123: RuntimeWarning:\n",
      "\n",
      "overflow encountered in power\n",
      "\n",
      "d:\\other\\my_software\\anaconda\\envs\\times\\lib\\site-packages\\petbox\\dca\\primary.py:123: RuntimeWarning:\n",
      "\n",
      "overflow encountered in power\n",
      "\n"
     ]
    },
    {
     "name": "stdout",
     "output_type": "stream",
     "text": [
      "Анализ по скважине ['28514']\n",
      "Анализ по скважине ['28516']\n",
      "Анализ по скважине ['28517']\n",
      "Анализ по скважине ['28518']\n"
     ]
    },
    {
     "name": "stderr",
     "output_type": "stream",
     "text": [
      "d:\\other\\my_software\\anaconda\\envs\\times\\lib\\site-packages\\petbox\\dca\\primary.py:123: RuntimeWarning:\n",
      "\n",
      "overflow encountered in power\n",
      "\n",
      "d:\\other\\my_software\\anaconda\\envs\\times\\lib\\site-packages\\petbox\\dca\\primary.py:123: RuntimeWarning:\n",
      "\n",
      "overflow encountered in power\n",
      "\n"
     ]
    },
    {
     "name": "stdout",
     "output_type": "stream",
     "text": [
      "Анализ по скважине ['28519']\n",
      "Анализ по скважине ['28520']\n",
      "Анализ по скважине ['28521']\n",
      "Анализ по скважине ['28522']\n",
      "Анализ по скважине ['28523']\n"
     ]
    },
    {
     "name": "stderr",
     "output_type": "stream",
     "text": [
      "d:\\other\\my_software\\anaconda\\envs\\times\\lib\\site-packages\\petbox\\dca\\primary.py:123: RuntimeWarning:\n",
      "\n",
      "overflow encountered in power\n",
      "\n",
      "d:\\other\\my_software\\anaconda\\envs\\times\\lib\\site-packages\\petbox\\dca\\primary.py:123: RuntimeWarning:\n",
      "\n",
      "overflow encountered in power\n",
      "\n",
      "d:\\other\\my_software\\anaconda\\envs\\times\\lib\\site-packages\\petbox\\dca\\primary.py:123: RuntimeWarning:\n",
      "\n",
      "overflow encountered in power\n",
      "\n",
      "d:\\other\\my_software\\anaconda\\envs\\times\\lib\\site-packages\\petbox\\dca\\primary.py:123: RuntimeWarning:\n",
      "\n",
      "overflow encountered in power\n",
      "\n"
     ]
    },
    {
     "name": "stdout",
     "output_type": "stream",
     "text": [
      "Анализ по скважине ['28525']\n",
      "Анализ по скважине ['28526']\n",
      "Анализ по скважине ['28527']\n",
      "Анализ по скважине ['28528']\n"
     ]
    },
    {
     "name": "stderr",
     "output_type": "stream",
     "text": [
      "d:\\other\\my_software\\anaconda\\envs\\times\\lib\\site-packages\\petbox\\dca\\primary.py:123: RuntimeWarning:\n",
      "\n",
      "overflow encountered in power\n",
      "\n",
      "d:\\other\\my_software\\anaconda\\envs\\times\\lib\\site-packages\\petbox\\dca\\primary.py:123: RuntimeWarning:\n",
      "\n",
      "overflow encountered in power\n",
      "\n"
     ]
    },
    {
     "name": "stdout",
     "output_type": "stream",
     "text": [
      "Анализ по скважине ['28529']\n",
      "Анализ по скважине ['28530']\n",
      "Анализ по скважине ['28531']\n",
      "Анализ по скважине ['28534']\n",
      "Анализ по скважине ['28535']\n",
      "Анализ по скважине ['28536']\n"
     ]
    },
    {
     "name": "stderr",
     "output_type": "stream",
     "text": [
      "d:\\other\\my_software\\anaconda\\envs\\times\\lib\\site-packages\\petbox\\dca\\primary.py:123: RuntimeWarning:\n",
      "\n",
      "overflow encountered in power\n",
      "\n",
      "d:\\other\\my_software\\anaconda\\envs\\times\\lib\\site-packages\\petbox\\dca\\primary.py:123: RuntimeWarning:\n",
      "\n",
      "overflow encountered in power\n",
      "\n"
     ]
    },
    {
     "name": "stdout",
     "output_type": "stream",
     "text": [
      "Анализ по скважине ['28538']\n",
      "Анализ по скважине ['28539']\n",
      "Анализ по скважине ['28540']\n",
      "Анализ по скважине ['28542']\n",
      "Анализ по скважине ['28543']\n",
      "Анализ по скважине ['28544']\n"
     ]
    },
    {
     "name": "stderr",
     "output_type": "stream",
     "text": [
      "d:\\other\\my_software\\anaconda\\envs\\times\\lib\\site-packages\\petbox\\dca\\primary.py:123: RuntimeWarning:\n",
      "\n",
      "overflow encountered in power\n",
      "\n"
     ]
    },
    {
     "name": "stdout",
     "output_type": "stream",
     "text": [
      "Анализ по скважине ['28548']\n",
      "Анализ по скважине ['28549']\n",
      "Анализ по скважине ['28550']\n",
      "Анализ по скважине ['28553']\n"
     ]
    },
    {
     "name": "stderr",
     "output_type": "stream",
     "text": [
      "d:\\other\\my_software\\anaconda\\envs\\times\\lib\\site-packages\\petbox\\dca\\primary.py:123: RuntimeWarning:\n",
      "\n",
      "overflow encountered in power\n",
      "\n"
     ]
    },
    {
     "name": "stdout",
     "output_type": "stream",
     "text": [
      "Анализ по скважине ['28554']\n",
      "Анализ по скважине ['28555']\n",
      "Анализ по скважине ['28556']\n",
      "Анализ по скважине ['28557']\n",
      "Анализ по скважине ['28558']\n"
     ]
    },
    {
     "name": "stderr",
     "output_type": "stream",
     "text": [
      "d:\\other\\my_software\\anaconda\\envs\\times\\lib\\site-packages\\petbox\\dca\\primary.py:123: RuntimeWarning:\n",
      "\n",
      "overflow encountered in power\n",
      "\n"
     ]
    },
    {
     "name": "stdout",
     "output_type": "stream",
     "text": [
      "Анализ по скважине ['2856']\n",
      "Анализ по скважине ['28562']\n",
      "Анализ по скважине ['28563']\n",
      "Анализ по скважине ['28564']\n",
      "Анализ по скважине ['28565']\n"
     ]
    },
    {
     "name": "stderr",
     "output_type": "stream",
     "text": [
      "d:\\other\\my_software\\anaconda\\envs\\times\\lib\\site-packages\\petbox\\dca\\primary.py:123: RuntimeWarning:\n",
      "\n",
      "overflow encountered in power\n",
      "\n"
     ]
    },
    {
     "name": "stdout",
     "output_type": "stream",
     "text": [
      "Анализ по скважине ['28566']\n",
      "Анализ по скважине ['28571']\n",
      "Анализ по скважине ['28572']\n",
      "Анализ по скважине ['28573']\n",
      "Анализ по скважине ['28574']\n",
      "Анализ по скважине ['28575']\n",
      "Анализ по скважине ['28576']\n",
      "Анализ по скважине ['28577']\n",
      "Анализ по скважине ['2858']\n"
     ]
    },
    {
     "name": "stderr",
     "output_type": "stream",
     "text": [
      "d:\\other\\my_software\\anaconda\\envs\\times\\lib\\site-packages\\petbox\\dca\\primary.py:123: RuntimeWarning:\n",
      "\n",
      "overflow encountered in power\n",
      "\n",
      "d:\\other\\my_software\\anaconda\\envs\\times\\lib\\site-packages\\petbox\\dca\\primary.py:123: RuntimeWarning:\n",
      "\n",
      "overflow encountered in power\n",
      "\n"
     ]
    },
    {
     "name": "stdout",
     "output_type": "stream",
     "text": [
      "Анализ по скважине ['28588']\n",
      "Анализ по скважине ['28589']\n",
      "Анализ по скважине ['28598']\n",
      "Анализ по скважине ['28599']\n"
     ]
    },
    {
     "name": "stderr",
     "output_type": "stream",
     "text": [
      "d:\\other\\my_software\\anaconda\\envs\\times\\lib\\site-packages\\petbox\\dca\\primary.py:123: RuntimeWarning:\n",
      "\n",
      "overflow encountered in power\n",
      "\n",
      "d:\\other\\my_software\\anaconda\\envs\\times\\lib\\site-packages\\petbox\\dca\\primary.py:123: RuntimeWarning:\n",
      "\n",
      "overflow encountered in power\n",
      "\n"
     ]
    },
    {
     "name": "stdout",
     "output_type": "stream",
     "text": [
      "Анализ по скважине ['28600']\n",
      "Анализ по скважине ['28601']\n",
      "Анализ по скважине ['28602']\n"
     ]
    },
    {
     "name": "stderr",
     "output_type": "stream",
     "text": [
      "d:\\other\\my_software\\anaconda\\envs\\times\\lib\\site-packages\\petbox\\dca\\primary.py:123: RuntimeWarning:\n",
      "\n",
      "overflow encountered in power\n",
      "\n"
     ]
    },
    {
     "name": "stdout",
     "output_type": "stream",
     "text": [
      "Анализ по скважине ['28603']\n",
      "Анализ по скважине ['28604']\n",
      "Анализ по скважине ['28605']\n",
      "Анализ по скважине ['28606']\n",
      "Анализ по скважине ['28607']\n",
      "Анализ по скважине ['28608']\n",
      "Анализ по скважине ['28610']\n",
      "Анализ по скважине ['28611']\n",
      "Анализ по скважине ['28612']\n",
      "Анализ по скважине ['28613']\n",
      "Ошибка определения темпа для скважины ['28613']\n",
      "Анализ по скважине ['28614']\n",
      "Анализ по скважине ['28615']\n",
      "Анализ по скважине ['28616']\n",
      "Анализ по скважине ['28617']\n"
     ]
    },
    {
     "name": "stderr",
     "output_type": "stream",
     "text": [
      "d:\\other\\my_software\\anaconda\\envs\\times\\lib\\site-packages\\petbox\\dca\\primary.py:123: RuntimeWarning:\n",
      "\n",
      "overflow encountered in power\n",
      "\n",
      "d:\\other\\my_software\\anaconda\\envs\\times\\lib\\site-packages\\petbox\\dca\\primary.py:123: RuntimeWarning:\n",
      "\n",
      "overflow encountered in power\n",
      "\n"
     ]
    },
    {
     "name": "stdout",
     "output_type": "stream",
     "text": [
      "Анализ по скважине ['28618']\n",
      "Анализ по скважине ['28619']\n",
      "Анализ по скважине ['28620']\n",
      "Анализ по скважине ['28629']\n",
      "Анализ по скважине ['28633']\n",
      "Анализ по скважине ['28634']\n",
      "Анализ по скважине ['28635']\n"
     ]
    },
    {
     "name": "stderr",
     "output_type": "stream",
     "text": [
      "d:\\other\\my_software\\anaconda\\envs\\times\\lib\\site-packages\\petbox\\dca\\primary.py:123: RuntimeWarning:\n",
      "\n",
      "overflow encountered in power\n",
      "\n",
      "d:\\other\\my_software\\anaconda\\envs\\times\\lib\\site-packages\\petbox\\dca\\primary.py:123: RuntimeWarning:\n",
      "\n",
      "overflow encountered in power\n",
      "\n",
      "d:\\other\\my_software\\anaconda\\envs\\times\\lib\\site-packages\\petbox\\dca\\primary.py:123: RuntimeWarning:\n",
      "\n",
      "overflow encountered in power\n",
      "\n",
      "d:\\other\\my_software\\anaconda\\envs\\times\\lib\\site-packages\\petbox\\dca\\primary.py:123: RuntimeWarning:\n",
      "\n",
      "overflow encountered in power\n",
      "\n",
      "d:\\other\\my_software\\anaconda\\envs\\times\\lib\\site-packages\\petbox\\dca\\primary.py:123: RuntimeWarning:\n",
      "\n",
      "overflow encountered in power\n",
      "\n",
      "d:\\other\\my_software\\anaconda\\envs\\times\\lib\\site-packages\\petbox\\dca\\primary.py:123: RuntimeWarning:\n",
      "\n",
      "overflow encountered in power\n",
      "\n"
     ]
    },
    {
     "name": "stdout",
     "output_type": "stream",
     "text": [
      "Анализ по скважине ['28639']\n",
      "Анализ по скважине ['28640']\n",
      "Анализ по скважине ['28641']\n",
      "Анализ по скважине ['28643']\n",
      "Анализ по скважине ['28644']\n",
      "Анализ по скважине ['28645']\n",
      "Ошибка определения темпа для скважины ['28645']\n",
      "Анализ по скважине ['28647']\n",
      "Анализ по скважине ['28648']\n"
     ]
    },
    {
     "name": "stderr",
     "output_type": "stream",
     "text": [
      "d:\\other\\my_software\\anaconda\\envs\\times\\lib\\site-packages\\petbox\\dca\\primary.py:123: RuntimeWarning:\n",
      "\n",
      "overflow encountered in power\n",
      "\n",
      "d:\\other\\my_software\\anaconda\\envs\\times\\lib\\site-packages\\petbox\\dca\\primary.py:123: RuntimeWarning:\n",
      "\n",
      "overflow encountered in power\n",
      "\n",
      "d:\\other\\my_software\\anaconda\\envs\\times\\lib\\site-packages\\petbox\\dca\\primary.py:123: RuntimeWarning:\n",
      "\n",
      "overflow encountered in power\n",
      "\n",
      "d:\\other\\my_software\\anaconda\\envs\\times\\lib\\site-packages\\petbox\\dca\\primary.py:123: RuntimeWarning:\n",
      "\n",
      "overflow encountered in power\n",
      "\n"
     ]
    },
    {
     "name": "stdout",
     "output_type": "stream",
     "text": [
      "Анализ по скважине ['28649']\n",
      "Анализ по скважине ['28651']\n",
      "Анализ по скважине ['28652']\n",
      "Анализ по скважине ['28653']\n",
      "Анализ по скважине ['28654']\n",
      "Анализ по скважине ['28656']\n",
      "Ошибка определения темпа для скважины ['28656']\n",
      "Анализ по скважине ['28660']\n"
     ]
    },
    {
     "name": "stderr",
     "output_type": "stream",
     "text": [
      "d:\\other\\my_software\\anaconda\\envs\\times\\lib\\site-packages\\petbox\\dca\\primary.py:123: RuntimeWarning:\n",
      "\n",
      "overflow encountered in power\n",
      "\n"
     ]
    },
    {
     "name": "stdout",
     "output_type": "stream",
     "text": [
      "Анализ по скважине ['28661']\n",
      "Анализ по скважине ['28662']\n",
      "Анализ по скважине ['28666']\n"
     ]
    },
    {
     "name": "stderr",
     "output_type": "stream",
     "text": [
      "d:\\other\\my_software\\anaconda\\envs\\times\\lib\\site-packages\\petbox\\dca\\primary.py:123: RuntimeWarning:\n",
      "\n",
      "overflow encountered in power\n",
      "\n",
      "d:\\other\\my_software\\anaconda\\envs\\times\\lib\\site-packages\\petbox\\dca\\primary.py:123: RuntimeWarning:\n",
      "\n",
      "overflow encountered in power\n",
      "\n"
     ]
    },
    {
     "name": "stdout",
     "output_type": "stream",
     "text": [
      "Анализ по скважине ['28667']\n",
      "Анализ по скважине ['28669']\n",
      "Анализ по скважине ['28672']\n",
      "Анализ по скважине ['28674']\n"
     ]
    },
    {
     "name": "stderr",
     "output_type": "stream",
     "text": [
      "d:\\other\\my_software\\anaconda\\envs\\times\\lib\\site-packages\\petbox\\dca\\primary.py:123: RuntimeWarning:\n",
      "\n",
      "overflow encountered in power\n",
      "\n",
      "d:\\other\\my_software\\anaconda\\envs\\times\\lib\\site-packages\\petbox\\dca\\primary.py:123: RuntimeWarning:\n",
      "\n",
      "overflow encountered in power\n",
      "\n",
      "d:\\other\\my_software\\anaconda\\envs\\times\\lib\\site-packages\\petbox\\dca\\primary.py:123: RuntimeWarning:\n",
      "\n",
      "overflow encountered in power\n",
      "\n"
     ]
    },
    {
     "name": "stdout",
     "output_type": "stream",
     "text": [
      "Анализ по скважине ['28675']\n",
      "Анализ по скважине ['28677']\n",
      "Анализ по скважине ['28678']\n",
      "Анализ по скважине ['28679']\n",
      "Анализ по скважине ['28682']\n"
     ]
    },
    {
     "name": "stderr",
     "output_type": "stream",
     "text": [
      "d:\\other\\my_software\\anaconda\\envs\\times\\lib\\site-packages\\petbox\\dca\\primary.py:123: RuntimeWarning:\n",
      "\n",
      "overflow encountered in power\n",
      "\n",
      "d:\\other\\my_software\\anaconda\\envs\\times\\lib\\site-packages\\petbox\\dca\\primary.py:123: RuntimeWarning:\n",
      "\n",
      "overflow encountered in power\n",
      "\n",
      "d:\\other\\my_software\\anaconda\\envs\\times\\lib\\site-packages\\petbox\\dca\\primary.py:123: RuntimeWarning:\n",
      "\n",
      "overflow encountered in power\n",
      "\n"
     ]
    },
    {
     "name": "stdout",
     "output_type": "stream",
     "text": [
      "Анализ по скважине ['28687']\n",
      "Анализ по скважине ['28688']\n",
      "Анализ по скважине ['28689']\n",
      "Анализ по скважине ['28690']\n"
     ]
    },
    {
     "name": "stderr",
     "output_type": "stream",
     "text": [
      "d:\\other\\my_software\\anaconda\\envs\\times\\lib\\site-packages\\petbox\\dca\\primary.py:123: RuntimeWarning:\n",
      "\n",
      "overflow encountered in power\n",
      "\n",
      "d:\\other\\my_software\\anaconda\\envs\\times\\lib\\site-packages\\scipy\\optimize\\minpack.py:828: OptimizeWarning:\n",
      "\n",
      "Covariance of the parameters could not be estimated\n",
      "\n",
      "d:\\other\\my_software\\anaconda\\envs\\times\\lib\\site-packages\\petbox\\dca\\primary.py:123: RuntimeWarning:\n",
      "\n",
      "overflow encountered in power\n",
      "\n"
     ]
    },
    {
     "name": "stdout",
     "output_type": "stream",
     "text": [
      "Анализ по скважине ['28691']\n",
      "Анализ по скважине ['28696']\n",
      "Анализ по скважине ['28698']\n",
      "Анализ по скважине ['28699']\n",
      "Анализ по скважине ['28700']\n"
     ]
    },
    {
     "name": "stderr",
     "output_type": "stream",
     "text": [
      "d:\\other\\my_software\\anaconda\\envs\\times\\lib\\site-packages\\petbox\\dca\\primary.py:123: RuntimeWarning:\n",
      "\n",
      "overflow encountered in power\n",
      "\n",
      "d:\\other\\my_software\\anaconda\\envs\\times\\lib\\site-packages\\petbox\\dca\\primary.py:123: RuntimeWarning:\n",
      "\n",
      "overflow encountered in power\n",
      "\n",
      "d:\\other\\my_software\\anaconda\\envs\\times\\lib\\site-packages\\scipy\\optimize\\minpack.py:828: OptimizeWarning:\n",
      "\n",
      "Covariance of the parameters could not be estimated\n",
      "\n"
     ]
    },
    {
     "name": "stdout",
     "output_type": "stream",
     "text": [
      "Анализ по скважине ['28701']\n",
      "Анализ по скважине ['28703']\n",
      "Анализ по скважине ['28709']\n",
      "Анализ по скважине ['28710']\n",
      "Анализ по скважине ['28711']\n",
      "Анализ по скважине ['28712']\n",
      "Анализ по скважине ['28713']\n"
     ]
    },
    {
     "name": "stderr",
     "output_type": "stream",
     "text": [
      "d:\\other\\my_software\\anaconda\\envs\\times\\lib\\site-packages\\petbox\\dca\\primary.py:123: RuntimeWarning:\n",
      "\n",
      "overflow encountered in power\n",
      "\n",
      "d:\\other\\my_software\\anaconda\\envs\\times\\lib\\site-packages\\petbox\\dca\\primary.py:123: RuntimeWarning:\n",
      "\n",
      "overflow encountered in power\n",
      "\n",
      "d:\\other\\my_software\\anaconda\\envs\\times\\lib\\site-packages\\petbox\\dca\\primary.py:123: RuntimeWarning:\n",
      "\n",
      "overflow encountered in power\n",
      "\n"
     ]
    },
    {
     "name": "stdout",
     "output_type": "stream",
     "text": [
      "Анализ по скважине ['28717']\n",
      "Анализ по скважине ['28718']\n",
      "Анализ по скважине ['28720']\n",
      "Анализ по скважине ['28722']\n"
     ]
    },
    {
     "name": "stderr",
     "output_type": "stream",
     "text": [
      "d:\\other\\my_software\\anaconda\\envs\\times\\lib\\site-packages\\petbox\\dca\\primary.py:123: RuntimeWarning:\n",
      "\n",
      "overflow encountered in power\n",
      "\n",
      "d:\\other\\my_software\\anaconda\\envs\\times\\lib\\site-packages\\petbox\\dca\\primary.py:123: RuntimeWarning:\n",
      "\n",
      "overflow encountered in power\n",
      "\n"
     ]
    },
    {
     "name": "stdout",
     "output_type": "stream",
     "text": [
      "Анализ по скважине ['28723']\n",
      "Анализ по скважине ['28726']\n",
      "Анализ по скважине ['28727']\n",
      "Анализ по скважине ['28728']\n",
      "Анализ по скважине ['28729']\n",
      "Анализ по скважине ['28730']\n",
      "Анализ по скважине ['28731']\n"
     ]
    },
    {
     "name": "stderr",
     "output_type": "stream",
     "text": [
      "d:\\other\\my_software\\anaconda\\envs\\times\\lib\\site-packages\\petbox\\dca\\primary.py:123: RuntimeWarning:\n",
      "\n",
      "overflow encountered in power\n",
      "\n",
      "d:\\other\\my_software\\anaconda\\envs\\times\\lib\\site-packages\\scipy\\optimize\\minpack.py:828: OptimizeWarning:\n",
      "\n",
      "Covariance of the parameters could not be estimated\n",
      "\n"
     ]
    },
    {
     "name": "stdout",
     "output_type": "stream",
     "text": [
      "Анализ по скважине ['28732']\n",
      "Анализ по скважине ['28733']\n",
      "Анализ по скважине ['28734']\n",
      "Анализ по скважине ['28735']\n",
      "Анализ по скважине ['28736']\n",
      "Анализ по скважине ['28737']\n",
      "Анализ по скважине ['28738']\n"
     ]
    },
    {
     "name": "stderr",
     "output_type": "stream",
     "text": [
      "d:\\other\\my_software\\anaconda\\envs\\times\\lib\\site-packages\\petbox\\dca\\primary.py:123: RuntimeWarning:\n",
      "\n",
      "overflow encountered in power\n",
      "\n"
     ]
    },
    {
     "name": "stdout",
     "output_type": "stream",
     "text": [
      "Анализ по скважине ['28739']\n",
      "Анализ по скважине ['28742']\n",
      "Анализ по скважине ['28743']\n"
     ]
    },
    {
     "name": "stderr",
     "output_type": "stream",
     "text": [
      "d:\\other\\my_software\\anaconda\\envs\\times\\lib\\site-packages\\petbox\\dca\\primary.py:123: RuntimeWarning:\n",
      "\n",
      "overflow encountered in power\n",
      "\n"
     ]
    },
    {
     "name": "stdout",
     "output_type": "stream",
     "text": [
      "Анализ по скважине ['28744']\n",
      "Анализ по скважине ['28747']\n",
      "Анализ по скважине ['28748']\n",
      "Анализ по скважине ['28749']\n"
     ]
    },
    {
     "name": "stderr",
     "output_type": "stream",
     "text": [
      "d:\\other\\my_software\\anaconda\\envs\\times\\lib\\site-packages\\petbox\\dca\\primary.py:123: RuntimeWarning:\n",
      "\n",
      "overflow encountered in power\n",
      "\n",
      "d:\\other\\my_software\\anaconda\\envs\\times\\lib\\site-packages\\petbox\\dca\\primary.py:123: RuntimeWarning:\n",
      "\n",
      "overflow encountered in power\n",
      "\n"
     ]
    },
    {
     "name": "stdout",
     "output_type": "stream",
     "text": [
      "Анализ по скважине ['28750']\n",
      "Анализ по скважине ['2877']\n",
      "Анализ по скважине ['2878']\n",
      "Анализ по скважине ['2880']\n"
     ]
    },
    {
     "name": "stderr",
     "output_type": "stream",
     "text": [
      "d:\\other\\my_software\\anaconda\\envs\\times\\lib\\site-packages\\petbox\\dca\\primary.py:123: RuntimeWarning:\n",
      "\n",
      "overflow encountered in power\n",
      "\n"
     ]
    },
    {
     "name": "stdout",
     "output_type": "stream",
     "text": [
      "Анализ по скважине ['2881']\n",
      "Анализ по скважине ['2883']\n",
      "Анализ по скважине ['2886']\n"
     ]
    },
    {
     "name": "stderr",
     "output_type": "stream",
     "text": [
      "d:\\other\\my_software\\anaconda\\envs\\times\\lib\\site-packages\\petbox\\dca\\primary.py:123: RuntimeWarning:\n",
      "\n",
      "overflow encountered in power\n",
      "\n"
     ]
    },
    {
     "name": "stdout",
     "output_type": "stream",
     "text": [
      "Анализ по скважине ['2888']\n",
      "Анализ по скважине ['2889']\n",
      "Анализ по скважине ['2905']\n",
      "Анализ по скважине ['2907']\n"
     ]
    },
    {
     "name": "stderr",
     "output_type": "stream",
     "text": [
      "d:\\other\\my_software\\anaconda\\envs\\times\\lib\\site-packages\\petbox\\dca\\primary.py:123: RuntimeWarning:\n",
      "\n",
      "overflow encountered in power\n",
      "\n",
      "d:\\other\\my_software\\anaconda\\envs\\times\\lib\\site-packages\\petbox\\dca\\primary.py:123: RuntimeWarning:\n",
      "\n",
      "overflow encountered in power\n",
      "\n",
      "d:\\other\\my_software\\anaconda\\envs\\times\\lib\\site-packages\\petbox\\dca\\primary.py:123: RuntimeWarning:\n",
      "\n",
      "overflow encountered in power\n",
      "\n"
     ]
    },
    {
     "name": "stdout",
     "output_type": "stream",
     "text": [
      "Анализ по скважине ['2908']\n",
      "Анализ по скважине ['2909']\n",
      "Анализ по скважине ['2910']\n",
      "Анализ по скважине ['2911']\n",
      "Анализ по скважине ['2914']\n",
      "Анализ по скважине ['2916']\n"
     ]
    },
    {
     "name": "stderr",
     "output_type": "stream",
     "text": [
      "d:\\other\\my_software\\anaconda\\envs\\times\\lib\\site-packages\\petbox\\dca\\primary.py:123: RuntimeWarning:\n",
      "\n",
      "overflow encountered in power\n",
      "\n",
      "d:\\other\\my_software\\anaconda\\envs\\times\\lib\\site-packages\\petbox\\dca\\primary.py:123: RuntimeWarning:\n",
      "\n",
      "overflow encountered in power\n",
      "\n"
     ]
    },
    {
     "name": "stdout",
     "output_type": "stream",
     "text": [
      "Анализ по скважине ['2919']\n",
      "Анализ по скважине ['2924']\n",
      "Анализ по скважине ['2925']\n",
      "Анализ по скважине ['2926']\n",
      "Анализ по скважине ['2927']\n",
      "Анализ по скважине ['2929']\n"
     ]
    },
    {
     "name": "stderr",
     "output_type": "stream",
     "text": [
      "d:\\other\\my_software\\anaconda\\envs\\times\\lib\\site-packages\\petbox\\dca\\primary.py:123: RuntimeWarning:\n",
      "\n",
      "overflow encountered in power\n",
      "\n",
      "d:\\other\\my_software\\anaconda\\envs\\times\\lib\\site-packages\\petbox\\dca\\primary.py:123: RuntimeWarning:\n",
      "\n",
      "overflow encountered in power\n",
      "\n",
      "d:\\other\\my_software\\anaconda\\envs\\times\\lib\\site-packages\\petbox\\dca\\primary.py:123: RuntimeWarning:\n",
      "\n",
      "overflow encountered in power\n",
      "\n"
     ]
    },
    {
     "name": "stdout",
     "output_type": "stream",
     "text": [
      "Анализ по скважине ['2933']\n",
      "Анализ по скважине ['2935']\n",
      "Анализ по скважине ['301Б']\n",
      "Анализ по скважине ['303Б']\n",
      "Анализ по скважине ['304Б']\n",
      "Анализ по скважине ['307А']\n",
      "Анализ по скважине ['314А']\n",
      "Анализ по скважине ['322А']\n",
      "Анализ по скважине ['323Б']\n"
     ]
    },
    {
     "name": "stderr",
     "output_type": "stream",
     "text": [
      "d:\\other\\my_software\\anaconda\\envs\\times\\lib\\site-packages\\petbox\\dca\\primary.py:123: RuntimeWarning:\n",
      "\n",
      "overflow encountered in power\n",
      "\n",
      "d:\\other\\my_software\\anaconda\\envs\\times\\lib\\site-packages\\petbox\\dca\\primary.py:123: RuntimeWarning:\n",
      "\n",
      "overflow encountered in power\n",
      "\n"
     ]
    },
    {
     "name": "stdout",
     "output_type": "stream",
     "text": [
      "Анализ по скважине ['324А']\n",
      "Анализ по скважине ['324Б']\n",
      "Анализ по скважине ['327А']\n"
     ]
    },
    {
     "name": "stderr",
     "output_type": "stream",
     "text": [
      "d:\\other\\my_software\\anaconda\\envs\\times\\lib\\site-packages\\petbox\\dca\\primary.py:123: RuntimeWarning:\n",
      "\n",
      "overflow encountered in power\n",
      "\n",
      "d:\\other\\my_software\\anaconda\\envs\\times\\lib\\site-packages\\petbox\\dca\\primary.py:123: RuntimeWarning:\n",
      "\n",
      "overflow encountered in power\n",
      "\n",
      "d:\\other\\my_software\\anaconda\\envs\\times\\lib\\site-packages\\petbox\\dca\\primary.py:123: RuntimeWarning:\n",
      "\n",
      "overflow encountered in power\n",
      "\n"
     ]
    },
    {
     "name": "stdout",
     "output_type": "stream",
     "text": [
      "Анализ по скважине ['329Б']\n",
      "Анализ по скважине ['336А']\n",
      "Анализ по скважине ['337Б']\n",
      "Анализ по скважине ['340А']\n"
     ]
    },
    {
     "name": "stderr",
     "output_type": "stream",
     "text": [
      "d:\\other\\my_software\\anaconda\\envs\\times\\lib\\site-packages\\petbox\\dca\\primary.py:123: RuntimeWarning:\n",
      "\n",
      "overflow encountered in power\n",
      "\n",
      "d:\\other\\my_software\\anaconda\\envs\\times\\lib\\site-packages\\petbox\\dca\\primary.py:123: RuntimeWarning:\n",
      "\n",
      "overflow encountered in power\n",
      "\n"
     ]
    },
    {
     "name": "stdout",
     "output_type": "stream",
     "text": [
      "Анализ по скважине ['340Б']\n",
      "Анализ по скважине ['348А']\n",
      "Анализ по скважине ['350']\n",
      "Анализ по скважине ['367А']\n",
      "Анализ по скважине ['368А']\n",
      "Анализ по скважине ['370А']\n",
      "Анализ по скважине ['372А']\n",
      "Анализ по скважине ['375А']\n"
     ]
    },
    {
     "name": "stderr",
     "output_type": "stream",
     "text": [
      "d:\\other\\my_software\\anaconda\\envs\\times\\lib\\site-packages\\petbox\\dca\\primary.py:123: RuntimeWarning:\n",
      "\n",
      "overflow encountered in power\n",
      "\n",
      "d:\\other\\my_software\\anaconda\\envs\\times\\lib\\site-packages\\petbox\\dca\\primary.py:123: RuntimeWarning:\n",
      "\n",
      "overflow encountered in power\n",
      "\n"
     ]
    },
    {
     "name": "stdout",
     "output_type": "stream",
     "text": [
      "Анализ по скважине ['376А']\n",
      "Анализ по скважине ['378А']\n",
      "Анализ по скважине ['383А']\n"
     ]
    },
    {
     "name": "stderr",
     "output_type": "stream",
     "text": [
      "d:\\other\\my_software\\anaconda\\envs\\times\\lib\\site-packages\\petbox\\dca\\primary.py:123: RuntimeWarning:\n",
      "\n",
      "overflow encountered in power\n",
      "\n"
     ]
    },
    {
     "name": "stdout",
     "output_type": "stream",
     "text": [
      "Анализ по скважине ['385А']\n",
      "Анализ по скважине ['389А']\n",
      "Анализ по скважине ['391А']\n",
      "Анализ по скважине ['392']\n",
      "Анализ по скважине ['392А']\n",
      "Анализ по скважине ['393А']\n"
     ]
    },
    {
     "name": "stderr",
     "output_type": "stream",
     "text": [
      "d:\\other\\my_software\\anaconda\\envs\\times\\lib\\site-packages\\petbox\\dca\\primary.py:123: RuntimeWarning:\n",
      "\n",
      "overflow encountered in power\n",
      "\n",
      "d:\\other\\my_software\\anaconda\\envs\\times\\lib\\site-packages\\petbox\\dca\\primary.py:123: RuntimeWarning:\n",
      "\n",
      "overflow encountered in power\n",
      "\n"
     ]
    },
    {
     "name": "stdout",
     "output_type": "stream",
     "text": [
      "Анализ по скважине ['394А']\n",
      "Анализ по скважине ['453А']\n",
      "Анализ по скважине ['454А']\n",
      "Анализ по скважине ['462А']\n",
      "Анализ по скважине ['467А']\n",
      "Ошибка определения темпа для скважины ['467А']\n",
      "Анализ по скважине ['60']\n",
      "Анализ по скважине ['651']\n",
      "Анализ по скважине ['652']\n",
      "Анализ по скважине ['81']\n"
     ]
    },
    {
     "name": "stderr",
     "output_type": "stream",
     "text": [
      "d:\\other\\my_software\\anaconda\\envs\\times\\lib\\site-packages\\petbox\\dca\\primary.py:123: RuntimeWarning:\n",
      "\n",
      "overflow encountered in power\n",
      "\n",
      "d:\\other\\my_software\\anaconda\\envs\\times\\lib\\site-packages\\petbox\\dca\\primary.py:123: RuntimeWarning:\n",
      "\n",
      "overflow encountered in power\n",
      "\n"
     ]
    },
    {
     "name": "stdout",
     "output_type": "stream",
     "text": [
      "Анализ по скважине ['936']\n",
      "Анализ по скважине ['937']\n",
      "Анализ по скважине ['975']\n",
      "Ошибка определения темпа для скважины ['975']\n",
      "Анализ по скважине ['980']\n"
     ]
    },
    {
     "name": "stderr",
     "output_type": "stream",
     "text": [
      "d:\\other\\my_software\\anaconda\\envs\\times\\lib\\site-packages\\petbox\\dca\\primary.py:123: RuntimeWarning:\n",
      "\n",
      "overflow encountered in power\n",
      "\n",
      "d:\\other\\my_software\\anaconda\\envs\\times\\lib\\site-packages\\petbox\\dca\\primary.py:123: RuntimeWarning:\n",
      "\n",
      "overflow encountered in power\n",
      "\n",
      "d:\\other\\my_software\\anaconda\\envs\\times\\lib\\site-packages\\petbox\\dca\\primary.py:123: RuntimeWarning:\n",
      "\n",
      "overflow encountered in power\n",
      "\n"
     ]
    },
    {
     "name": "stdout",
     "output_type": "stream",
     "text": [
      "Анализ по скважине ['981']\n",
      "Анализ по скважине ['982Б']\n"
     ]
    }
   ],
   "source": [
    "predict=pd.DataFrame(columns=['well', 'date', 'SOIL', 'QOIL', 'Time_x', 'Time_y', 'rate', 'month_prod'])\n",
    "for name, fr in df.loc[df.well.isin(names)].groupby('well'):\n",
    "    predict = pd.concat([predict, dec_predict(fr)], ignore_index=True)"
   ]
  },
  {
   "cell_type": "markdown",
   "metadata": {},
   "source": [
    "df.loc[df.well=='719',['well', 'date', 'SOIL', 'QOIL']].head(10)"
   ]
  },
  {
   "cell_type": "code",
   "execution_count": 84,
   "metadata": {},
   "outputs": [
    {
     "data": {
      "text/plain": [
       "<AxesSubplot:xlabel='date'>"
      ]
     },
     "execution_count": 84,
     "metadata": {},
     "output_type": "execute_result"
    },
    {
     "data": {
      "image/png": "[encoded data removed]",
      "text/plain": [
       "<Figure size 432x288 with 1 Axes>"
      ]
     },
     "metadata": {
      "needs_background": "light"
     },
     "output_type": "display_data"
    }
   ],
   "source": [
    "predict[['date','QOIL', 'rate']].groupby('date').agg('sum').plot()"
   ]
  },
  {
   "cell_type": "markdown",
   "metadata": {},
   "source": [
    "## Участок анализ отклонений"
   ]
  },
  {
   "cell_type": "code",
   "execution_count": 85,
   "metadata": {},
   "outputs": [],
   "source": [
    "predict.to_csv(f'decline_M_{str(w.value)}.csv')"
   ]
  },
  {
   "cell_type": "code",
   "execution_count": 57,
   "metadata": {},
   "outputs": [
    {
     "data": {
      "text/plain": [
       "'e:\\\\FOX_EXPORT\\\\АКС-МОКШ\\\\16.02.2022 14.05.12'"
      ]
     },
     "execution_count": 57,
     "metadata": {},
     "output_type": "execute_result"
    }
   ],
   "source": [
    "os.getcwd()"
   ]
  },
  {
   "cell_type": "code",
   "execution_count": 58,
   "metadata": {},
   "outputs": [],
   "source": [
    "predict['dif'] = abs(predict['rate']-predict['QOIL'])"
   ]
  },
  {
   "cell_type": "code",
   "execution_count": 59,
   "metadata": {},
   "outputs": [],
   "source": [
    "predict.reset_index(inplace=True, drop=True)"
   ]
  },
  {
   "cell_type": "code",
   "execution_count": 60,
   "metadata": {},
   "outputs": [
    {
     "data": {
      "text/plain": [
       "well\n",
       "165А     0.091304\n",
       "462А     0.192654\n",
       "348А     0.246697\n",
       "340А     0.302951\n",
       "350      0.374979\n",
       "179А     0.400112\n",
       "466А     0.486844\n",
       "1108Р    0.708813\n",
       "338А     0.835242\n",
       "415      1.844614\n",
       "320А     1.923491\n",
       "207А     2.101355\n",
       "2813     2.436269\n",
       "341А     2.571655\n",
       "Name: dif, dtype: float64"
      ]
     },
     "execution_count": 60,
     "metadata": {},
     "output_type": "execute_result"
    }
   ],
   "source": [
    "predict.groupby('well')['dif'].agg('mean').sort_values()#.hist(bins=100)"
   ]
  },
  {
   "cell_type": "markdown",
   "metadata": {},
   "source": [
    "### Участок с тестированием отдельных участков кода для функции"
   ]
  },
  {
   "cell_type": "code",
   "execution_count": 369,
   "metadata": {},
   "outputs": [],
   "source": [
    "t = dca.get_time()\n",
    "month = dca.get_time_monthly_vol()"
   ]
  },
  {
   "cell_type": "code",
   "execution_count": 370,
   "metadata": {},
   "outputs": [],
   "source": [
    "well='10785'"
   ]
  },
  {
   "cell_type": "code",
   "execution_count": 371,
   "metadata": {},
   "outputs": [],
   "source": [
    "data = df.loc[(df['well']==well)&(df['date']>'2012')&(df.status=='prod')]#, ['date', 'SOIL', 'QOIL']]"
   ]
  },
  {
   "cell_type": "code",
   "execution_count": 352,
   "metadata": {},
   "outputs": [
    {
     "data": {
      "text/html": [
       "<div>\n",
       "<style scoped>\n",
       "    .dataframe tbody tr th:only-of-type {\n",
       "        vertical-align: middle;\n",
       "    }\n",
       "\n",
       "    .dataframe tbody tr th {\n",
       "        vertical-align: top;\n",
       "    }\n",
       "\n",
       "    .dataframe thead th {\n",
       "        text-align: right;\n",
       "    }\n",
       "</style>\n",
       "<table border=\"1\" class=\"dataframe\">\n",
       "  <thead>\n",
       "    <tr style=\"text-align: right;\">\n",
       "      <th></th>\n",
       "      <th>№ скваж</th>\n",
       "      <th>Дата</th>\n",
       "      <th>Горизонт_x</th>\n",
       "      <th>Кол-во часов экспл всего по доб. скваж</th>\n",
       "      <th>Добыча нефти за мес по скваж, т</th>\n",
       "      <th>Добыча воды за мес по скваж, т</th>\n",
       "      <th>Добыча воды за мес по скважине, м3</th>\n",
       "      <th>Кол-во часов работы всего по нагн. скваж</th>\n",
       "      <th>Общая закачка всего по скваж за мес, м3</th>\n",
       "      <th>Горизонт_y</th>\n",
       "      <th>...</th>\n",
       "      <th>date</th>\n",
       "      <th>WCT</th>\n",
       "      <th>status</th>\n",
       "      <th>SBHPH</th>\n",
       "      <th>STHPH</th>\n",
       "      <th>SQLIQ</th>\n",
       "      <th>SWCT</th>\n",
       "      <th>SPROD</th>\n",
       "      <th>SOIL</th>\n",
       "      <th>PROD</th>\n",
       "    </tr>\n",
       "  </thead>\n",
       "  <tbody>\n",
       "    <tr>\n",
       "      <th>17542</th>\n",
       "      <td>10785</td>\n",
       "      <td>2012-02-01</td>\n",
       "      <td>531.0</td>\n",
       "      <td>576.0</td>\n",
       "      <td>1.0</td>\n",
       "      <td>2.0</td>\n",
       "      <td>2.0</td>\n",
       "      <td>0.0</td>\n",
       "      <td>0.0</td>\n",
       "      <td>NaN</td>\n",
       "      <td>...</td>\n",
       "      <td>2012-02-01</td>\n",
       "      <td>0.666667</td>\n",
       "      <td>prod</td>\n",
       "      <td>128.342139</td>\n",
       "      <td>175.624573</td>\n",
       "      <td>1.039124</td>\n",
       "      <td>0.707095</td>\n",
       "      <td>0.021977</td>\n",
       "      <td>0.304365</td>\n",
       "      <td>NaN</td>\n",
       "    </tr>\n",
       "    <tr>\n",
       "      <th>17543</th>\n",
       "      <td>10785</td>\n",
       "      <td>2012-03-01</td>\n",
       "      <td>531.0</td>\n",
       "      <td>624.0</td>\n",
       "      <td>1.0</td>\n",
       "      <td>2.0</td>\n",
       "      <td>2.0</td>\n",
       "      <td>0.0</td>\n",
       "      <td>0.0</td>\n",
       "      <td>531.0</td>\n",
       "      <td>...</td>\n",
       "      <td>2012-03-01</td>\n",
       "      <td>0.666667</td>\n",
       "      <td>prod</td>\n",
       "      <td>126.361132</td>\n",
       "      <td>176.365249</td>\n",
       "      <td>0.958794</td>\n",
       "      <td>0.713118</td>\n",
       "      <td>0.019174</td>\n",
       "      <td>0.275061</td>\n",
       "      <td>0.002157</td>\n",
       "    </tr>\n",
       "    <tr>\n",
       "      <th>17544</th>\n",
       "      <td>10785</td>\n",
       "      <td>2012-04-01</td>\n",
       "      <td>531.0</td>\n",
       "      <td>600.0</td>\n",
       "      <td>1.0</td>\n",
       "      <td>2.0</td>\n",
       "      <td>2.0</td>\n",
       "      <td>0.0</td>\n",
       "      <td>0.0</td>\n",
       "      <td>NaN</td>\n",
       "      <td>...</td>\n",
       "      <td>2012-04-01</td>\n",
       "      <td>0.666667</td>\n",
       "      <td>prod</td>\n",
       "      <td>124.522950</td>\n",
       "      <td>176.797671</td>\n",
       "      <td>0.880607</td>\n",
       "      <td>0.719127</td>\n",
       "      <td>0.016846</td>\n",
       "      <td>0.247339</td>\n",
       "      <td>NaN</td>\n",
       "    </tr>\n",
       "    <tr>\n",
       "      <th>17545</th>\n",
       "      <td>10785</td>\n",
       "      <td>2012-05-01</td>\n",
       "      <td>531.0</td>\n",
       "      <td>624.0</td>\n",
       "      <td>1.0</td>\n",
       "      <td>2.0</td>\n",
       "      <td>2.0</td>\n",
       "      <td>0.0</td>\n",
       "      <td>0.0</td>\n",
       "      <td>NaN</td>\n",
       "      <td>...</td>\n",
       "      <td>2012-05-01</td>\n",
       "      <td>0.666667</td>\n",
       "      <td>prod</td>\n",
       "      <td>122.846306</td>\n",
       "      <td>176.944708</td>\n",
       "      <td>0.805209</td>\n",
       "      <td>0.724906</td>\n",
       "      <td>0.014884</td>\n",
       "      <td>0.221508</td>\n",
       "      <td>NaN</td>\n",
       "    </tr>\n",
       "    <tr>\n",
       "      <th>17546</th>\n",
       "      <td>10785</td>\n",
       "      <td>2012-06-01</td>\n",
       "      <td>531.0</td>\n",
       "      <td>600.0</td>\n",
       "      <td>1.0</td>\n",
       "      <td>22.0</td>\n",
       "      <td>21.0</td>\n",
       "      <td>0.0</td>\n",
       "      <td>0.0</td>\n",
       "      <td>531.0</td>\n",
       "      <td>...</td>\n",
       "      <td>2012-06-01</td>\n",
       "      <td>0.956522</td>\n",
       "      <td>prod</td>\n",
       "      <td>121.380174</td>\n",
       "      <td>176.882846</td>\n",
       "      <td>0.732810</td>\n",
       "      <td>0.730218</td>\n",
       "      <td>0.013203</td>\n",
       "      <td>0.197699</td>\n",
       "      <td>NaN</td>\n",
       "    </tr>\n",
       "    <tr>\n",
       "      <th>17547</th>\n",
       "      <td>10785</td>\n",
       "      <td>2012-07-01</td>\n",
       "      <td>531.0</td>\n",
       "      <td>624.0</td>\n",
       "      <td>2.0</td>\n",
       "      <td>59.0</td>\n",
       "      <td>56.0</td>\n",
       "      <td>0.0</td>\n",
       "      <td>0.0</td>\n",
       "      <td>531.0</td>\n",
       "      <td>...</td>\n",
       "      <td>2012-07-01</td>\n",
       "      <td>0.967213</td>\n",
       "      <td>prod</td>\n",
       "      <td>120.180154</td>\n",
       "      <td>176.712667</td>\n",
       "      <td>0.663405</td>\n",
       "      <td>0.734847</td>\n",
       "      <td>0.011735</td>\n",
       "      <td>0.175904</td>\n",
       "      <td>NaN</td>\n",
       "    </tr>\n",
       "    <tr>\n",
       "      <th>17548</th>\n",
       "      <td>10785</td>\n",
       "      <td>2012-08-01</td>\n",
       "      <td>531.0</td>\n",
       "      <td>624.0</td>\n",
       "      <td>1.0</td>\n",
       "      <td>2.0</td>\n",
       "      <td>2.0</td>\n",
       "      <td>0.0</td>\n",
       "      <td>0.0</td>\n",
       "      <td>531.0</td>\n",
       "      <td>...</td>\n",
       "      <td>2012-08-01</td>\n",
       "      <td>0.666667</td>\n",
       "      <td>prod</td>\n",
       "      <td>119.277019</td>\n",
       "      <td>176.527070</td>\n",
       "      <td>0.597134</td>\n",
       "      <td>0.738650</td>\n",
       "      <td>0.010430</td>\n",
       "      <td>0.156061</td>\n",
       "      <td>NaN</td>\n",
       "    </tr>\n",
       "    <tr>\n",
       "      <th>17549</th>\n",
       "      <td>10785</td>\n",
       "      <td>2012-09-01</td>\n",
       "      <td>531.0</td>\n",
       "      <td>600.0</td>\n",
       "      <td>1.0</td>\n",
       "      <td>2.0</td>\n",
       "      <td>2.0</td>\n",
       "      <td>0.0</td>\n",
       "      <td>0.0</td>\n",
       "      <td>NaN</td>\n",
       "      <td>...</td>\n",
       "      <td>2012-09-01</td>\n",
       "      <td>0.666667</td>\n",
       "      <td>prod</td>\n",
       "      <td>118.657495</td>\n",
       "      <td>176.385649</td>\n",
       "      <td>0.534442</td>\n",
       "      <td>0.741558</td>\n",
       "      <td>0.009258</td>\n",
       "      <td>0.138122</td>\n",
       "      <td>NaN</td>\n",
       "    </tr>\n",
       "    <tr>\n",
       "      <th>17550</th>\n",
       "      <td>10785</td>\n",
       "      <td>2012-10-01</td>\n",
       "      <td>531.0</td>\n",
       "      <td>624.0</td>\n",
       "      <td>1.0</td>\n",
       "      <td>5.0</td>\n",
       "      <td>4.0</td>\n",
       "      <td>0.0</td>\n",
       "      <td>0.0</td>\n",
       "      <td>531.0</td>\n",
       "      <td>...</td>\n",
       "      <td>2012-10-01</td>\n",
       "      <td>0.833333</td>\n",
       "      <td>prod</td>\n",
       "      <td>118.276026</td>\n",
       "      <td>176.309486</td>\n",
       "      <td>0.475849</td>\n",
       "      <td>0.743520</td>\n",
       "      <td>0.008200</td>\n",
       "      <td>0.122046</td>\n",
       "      <td>0.004070</td>\n",
       "    </tr>\n",
       "    <tr>\n",
       "      <th>17551</th>\n",
       "      <td>10785</td>\n",
       "      <td>2012-11-01</td>\n",
       "      <td>531.0</td>\n",
       "      <td>600.0</td>\n",
       "      <td>1.0</td>\n",
       "      <td>5.0</td>\n",
       "      <td>4.0</td>\n",
       "      <td>0.0</td>\n",
       "      <td>0.0</td>\n",
       "      <td>531.0</td>\n",
       "      <td>...</td>\n",
       "      <td>2012-11-01</td>\n",
       "      <td>0.833333</td>\n",
       "      <td>prod</td>\n",
       "      <td>118.063828</td>\n",
       "      <td>176.302057</td>\n",
       "      <td>0.421732</td>\n",
       "      <td>0.744483</td>\n",
       "      <td>0.007242</td>\n",
       "      <td>0.107760</td>\n",
       "      <td>NaN</td>\n",
       "    </tr>\n",
       "    <tr>\n",
       "      <th>17552</th>\n",
       "      <td>10785</td>\n",
       "      <td>2012-12-01</td>\n",
       "      <td>531.0</td>\n",
       "      <td>624.0</td>\n",
       "      <td>1.0</td>\n",
       "      <td>5.0</td>\n",
       "      <td>4.0</td>\n",
       "      <td>0.0</td>\n",
       "      <td>0.0</td>\n",
       "      <td>531.0</td>\n",
       "      <td>...</td>\n",
       "      <td>2012-12-01</td>\n",
       "      <td>0.833333</td>\n",
       "      <td>prod</td>\n",
       "      <td>117.885691</td>\n",
       "      <td>176.374965</td>\n",
       "      <td>0.372293</td>\n",
       "      <td>0.744418</td>\n",
       "      <td>0.006365</td>\n",
       "      <td>0.095151</td>\n",
       "      <td>NaN</td>\n",
       "    </tr>\n",
       "    <tr>\n",
       "      <th>17553</th>\n",
       "      <td>10785</td>\n",
       "      <td>2013-01-01</td>\n",
       "      <td>531.0</td>\n",
       "      <td>624.0</td>\n",
       "      <td>1.0</td>\n",
       "      <td>5.0</td>\n",
       "      <td>4.0</td>\n",
       "      <td>0.0</td>\n",
       "      <td>0.0</td>\n",
       "      <td>NaN</td>\n",
       "      <td>...</td>\n",
       "      <td>2013-01-01</td>\n",
       "      <td>0.833333</td>\n",
       "      <td>prod</td>\n",
       "      <td>117.511392</td>\n",
       "      <td>176.556143</td>\n",
       "      <td>0.327612</td>\n",
       "      <td>0.743345</td>\n",
       "      <td>0.005549</td>\n",
       "      <td>0.084083</td>\n",
       "      <td>NaN</td>\n",
       "    </tr>\n",
       "    <tr>\n",
       "      <th>17554</th>\n",
       "      <td>10785</td>\n",
       "      <td>2013-02-01</td>\n",
       "      <td>531.0</td>\n",
       "      <td>552.0</td>\n",
       "      <td>1.0</td>\n",
       "      <td>5.0</td>\n",
       "      <td>4.0</td>\n",
       "      <td>0.0</td>\n",
       "      <td>0.0</td>\n",
       "      <td>531.0</td>\n",
       "      <td>...</td>\n",
       "      <td>2013-02-01</td>\n",
       "      <td>0.833333</td>\n",
       "      <td>prod</td>\n",
       "      <td>116.696115</td>\n",
       "      <td>176.882751</td>\n",
       "      <td>0.287685</td>\n",
       "      <td>0.741337</td>\n",
       "      <td>0.004780</td>\n",
       "      <td>0.074413</td>\n",
       "      <td>NaN</td>\n",
       "    </tr>\n",
       "    <tr>\n",
       "      <th>17555</th>\n",
       "      <td>10785</td>\n",
       "      <td>2013-03-01</td>\n",
       "      <td>531.0</td>\n",
       "      <td>624.0</td>\n",
       "      <td>1.0</td>\n",
       "      <td>5.0</td>\n",
       "      <td>4.0</td>\n",
       "      <td>0.0</td>\n",
       "      <td>0.0</td>\n",
       "      <td>531.0</td>\n",
       "      <td>...</td>\n",
       "      <td>2013-03-01</td>\n",
       "      <td>0.833333</td>\n",
       "      <td>prod</td>\n",
       "      <td>115.302488</td>\n",
       "      <td>177.389367</td>\n",
       "      <td>0.252454</td>\n",
       "      <td>0.738525</td>\n",
       "      <td>0.004066</td>\n",
       "      <td>0.066010</td>\n",
       "      <td>NaN</td>\n",
       "    </tr>\n",
       "    <tr>\n",
       "      <th>17556</th>\n",
       "      <td>10785</td>\n",
       "      <td>2013-04-01</td>\n",
       "      <td>531.0</td>\n",
       "      <td>600.0</td>\n",
       "      <td>1.0</td>\n",
       "      <td>5.0</td>\n",
       "      <td>4.0</td>\n",
       "      <td>0.0</td>\n",
       "      <td>0.0</td>\n",
       "      <td>531.0</td>\n",
       "      <td>...</td>\n",
       "      <td>2013-04-01</td>\n",
       "      <td>0.833333</td>\n",
       "      <td>prod</td>\n",
       "      <td>113.347543</td>\n",
       "      <td>178.094842</td>\n",
       "      <td>0.221827</td>\n",
       "      <td>0.735095</td>\n",
       "      <td>0.003426</td>\n",
       "      <td>0.058763</td>\n",
       "      <td>NaN</td>\n",
       "    </tr>\n",
       "    <tr>\n",
       "      <th>17557</th>\n",
       "      <td>10785</td>\n",
       "      <td>2013-05-01</td>\n",
       "      <td>531.0</td>\n",
       "      <td>624.0</td>\n",
       "      <td>1.0</td>\n",
       "      <td>2.0</td>\n",
       "      <td>2.0</td>\n",
       "      <td>0.0</td>\n",
       "      <td>0.0</td>\n",
       "      <td>NaN</td>\n",
       "      <td>...</td>\n",
       "      <td>2013-05-01</td>\n",
       "      <td>0.666667</td>\n",
       "      <td>prod</td>\n",
       "      <td>110.974861</td>\n",
       "      <td>178.990115</td>\n",
       "      <td>0.195703</td>\n",
       "      <td>0.731284</td>\n",
       "      <td>0.002877</td>\n",
       "      <td>0.052589</td>\n",
       "      <td>NaN</td>\n",
       "    </tr>\n",
       "    <tr>\n",
       "      <th>17558</th>\n",
       "      <td>10785</td>\n",
       "      <td>2013-06-01</td>\n",
       "      <td>531.0</td>\n",
       "      <td>600.0</td>\n",
       "      <td>1.0</td>\n",
       "      <td>2.0</td>\n",
       "      <td>2.0</td>\n",
       "      <td>0.0</td>\n",
       "      <td>0.0</td>\n",
       "      <td>531.0</td>\n",
       "      <td>...</td>\n",
       "      <td>2013-06-01</td>\n",
       "      <td>0.666667</td>\n",
       "      <td>prod</td>\n",
       "      <td>108.414959</td>\n",
       "      <td>180.034432</td>\n",
       "      <td>0.173965</td>\n",
       "      <td>0.727361</td>\n",
       "      <td>0.002429</td>\n",
       "      <td>0.047430</td>\n",
       "      <td>NaN</td>\n",
       "    </tr>\n",
       "    <tr>\n",
       "      <th>17559</th>\n",
       "      <td>10785</td>\n",
       "      <td>2013-07-01</td>\n",
       "      <td>531.0</td>\n",
       "      <td>624.0</td>\n",
       "      <td>1.0</td>\n",
       "      <td>2.0</td>\n",
       "      <td>2.0</td>\n",
       "      <td>0.0</td>\n",
       "      <td>0.0</td>\n",
       "      <td>NaN</td>\n",
       "      <td>...</td>\n",
       "      <td>2013-07-01</td>\n",
       "      <td>0.666667</td>\n",
       "      <td>prod</td>\n",
       "      <td>105.962188</td>\n",
       "      <td>181.165326</td>\n",
       "      <td>0.156470</td>\n",
       "      <td>0.723584</td>\n",
       "      <td>0.002081</td>\n",
       "      <td>0.043251</td>\n",
       "      <td>NaN</td>\n",
       "    </tr>\n",
       "    <tr>\n",
       "      <th>17560</th>\n",
       "      <td>10785</td>\n",
       "      <td>2013-08-01</td>\n",
       "      <td>531.0</td>\n",
       "      <td>624.0</td>\n",
       "      <td>1.0</td>\n",
       "      <td>2.0</td>\n",
       "      <td>2.0</td>\n",
       "      <td>0.0</td>\n",
       "      <td>0.0</td>\n",
       "      <td>NaN</td>\n",
       "      <td>...</td>\n",
       "      <td>2013-08-01</td>\n",
       "      <td>0.666667</td>\n",
       "      <td>prod</td>\n",
       "      <td>103.955666</td>\n",
       "      <td>182.317666</td>\n",
       "      <td>0.143043</td>\n",
       "      <td>0.720181</td>\n",
       "      <td>0.001825</td>\n",
       "      <td>0.040026</td>\n",
       "      <td>NaN</td>\n",
       "    </tr>\n",
       "    <tr>\n",
       "      <th>17561</th>\n",
       "      <td>10785</td>\n",
       "      <td>2013-09-01</td>\n",
       "      <td>531.0</td>\n",
       "      <td>600.0</td>\n",
       "      <td>1.0</td>\n",
       "      <td>2.0</td>\n",
       "      <td>2.0</td>\n",
       "      <td>0.0</td>\n",
       "      <td>0.0</td>\n",
       "      <td>531.0</td>\n",
       "      <td>...</td>\n",
       "      <td>2013-09-01</td>\n",
       "      <td>0.666667</td>\n",
       "      <td>prod</td>\n",
       "      <td>102.751526</td>\n",
       "      <td>183.444570</td>\n",
       "      <td>0.133483</td>\n",
       "      <td>0.717346</td>\n",
       "      <td>0.001654</td>\n",
       "      <td>0.037730</td>\n",
       "      <td>0.001293</td>\n",
       "    </tr>\n",
       "    <tr>\n",
       "      <th>17562</th>\n",
       "      <td>10785</td>\n",
       "      <td>2013-10-01</td>\n",
       "      <td>531.0</td>\n",
       "      <td>624.0</td>\n",
       "      <td>1.0</td>\n",
       "      <td>2.0</td>\n",
       "      <td>2.0</td>\n",
       "      <td>0.0</td>\n",
       "      <td>0.0</td>\n",
       "      <td>NaN</td>\n",
       "      <td>...</td>\n",
       "      <td>2013-10-01</td>\n",
       "      <td>0.666667</td>\n",
       "      <td>prod</td>\n",
       "      <td>102.691729</td>\n",
       "      <td>184.535962</td>\n",
       "      <td>0.127573</td>\n",
       "      <td>0.715239</td>\n",
       "      <td>0.001559</td>\n",
       "      <td>0.036328</td>\n",
       "      <td>NaN</td>\n",
       "    </tr>\n",
       "    <tr>\n",
       "      <th>17563</th>\n",
       "      <td>10785</td>\n",
       "      <td>2013-11-01</td>\n",
       "      <td>531.0</td>\n",
       "      <td>600.0</td>\n",
       "      <td>1.0</td>\n",
       "      <td>2.0</td>\n",
       "      <td>2.0</td>\n",
       "      <td>0.0</td>\n",
       "      <td>0.0</td>\n",
       "      <td>531.0</td>\n",
       "      <td>...</td>\n",
       "      <td>2013-11-01</td>\n",
       "      <td>0.666667</td>\n",
       "      <td>prod</td>\n",
       "      <td>104.088805</td>\n",
       "      <td>185.628454</td>\n",
       "      <td>0.125085</td>\n",
       "      <td>0.713989</td>\n",
       "      <td>0.001534</td>\n",
       "      <td>0.035776</td>\n",
       "      <td>NaN</td>\n",
       "    </tr>\n",
       "    <tr>\n",
       "      <th>17564</th>\n",
       "      <td>10785</td>\n",
       "      <td>2013-12-01</td>\n",
       "      <td>531.0</td>\n",
       "      <td>624.0</td>\n",
       "      <td>1.0</td>\n",
       "      <td>2.0</td>\n",
       "      <td>2.0</td>\n",
       "      <td>0.0</td>\n",
       "      <td>0.0</td>\n",
       "      <td>NaN</td>\n",
       "      <td>...</td>\n",
       "      <td>2013-12-01</td>\n",
       "      <td>0.666667</td>\n",
       "      <td>prod</td>\n",
       "      <td>107.229780</td>\n",
       "      <td>186.801995</td>\n",
       "      <td>0.125782</td>\n",
       "      <td>0.713694</td>\n",
       "      <td>0.001581</td>\n",
       "      <td>0.036012</td>\n",
       "      <td>NaN</td>\n",
       "    </tr>\n",
       "    <tr>\n",
       "      <th>17565</th>\n",
       "      <td>10785</td>\n",
       "      <td>2014-01-01</td>\n",
       "      <td>531.0</td>\n",
       "      <td>624.0</td>\n",
       "      <td>1.0</td>\n",
       "      <td>2.0</td>\n",
       "      <td>2.0</td>\n",
       "      <td>0.0</td>\n",
       "      <td>0.0</td>\n",
       "      <td>531.0</td>\n",
       "      <td>...</td>\n",
       "      <td>2014-01-01</td>\n",
       "      <td>0.666667</td>\n",
       "      <td>prod</td>\n",
       "      <td>112.360088</td>\n",
       "      <td>188.167318</td>\n",
       "      <td>0.129424</td>\n",
       "      <td>0.714425</td>\n",
       "      <td>0.001707</td>\n",
       "      <td>0.036960</td>\n",
       "      <td>NaN</td>\n",
       "    </tr>\n",
       "    <tr>\n",
       "      <th>17566</th>\n",
       "      <td>10785</td>\n",
       "      <td>2014-02-01</td>\n",
       "      <td>531.0</td>\n",
       "      <td>552.0</td>\n",
       "      <td>1.0</td>\n",
       "      <td>2.0</td>\n",
       "      <td>2.0</td>\n",
       "      <td>0.0</td>\n",
       "      <td>0.0</td>\n",
       "      <td>NaN</td>\n",
       "      <td>...</td>\n",
       "      <td>2014-02-01</td>\n",
       "      <td>0.666667</td>\n",
       "      <td>prod</td>\n",
       "      <td>119.624610</td>\n",
       "      <td>189.850183</td>\n",
       "      <td>0.135763</td>\n",
       "      <td>0.716221</td>\n",
       "      <td>0.001933</td>\n",
       "      <td>0.038527</td>\n",
       "      <td>NaN</td>\n",
       "    </tr>\n",
       "    <tr>\n",
       "      <th>17567</th>\n",
       "      <td>10785</td>\n",
       "      <td>2014-03-01</td>\n",
       "      <td>531.0</td>\n",
       "      <td>624.0</td>\n",
       "      <td>1.0</td>\n",
       "      <td>2.0</td>\n",
       "      <td>2.0</td>\n",
       "      <td>0.0</td>\n",
       "      <td>0.0</td>\n",
       "      <td>531.0</td>\n",
       "      <td>...</td>\n",
       "      <td>2014-03-01</td>\n",
       "      <td>0.666667</td>\n",
       "      <td>prod</td>\n",
       "      <td>129.017445</td>\n",
       "      <td>191.973605</td>\n",
       "      <td>0.144544</td>\n",
       "      <td>0.719093</td>\n",
       "      <td>0.002296</td>\n",
       "      <td>0.040603</td>\n",
       "      <td>0.001720</td>\n",
       "    </tr>\n",
       "    <tr>\n",
       "      <th>17568</th>\n",
       "      <td>10785</td>\n",
       "      <td>2014-04-01</td>\n",
       "      <td>531.0</td>\n",
       "      <td>600.0</td>\n",
       "      <td>1.0</td>\n",
       "      <td>2.0</td>\n",
       "      <td>2.0</td>\n",
       "      <td>0.0</td>\n",
       "      <td>0.0</td>\n",
       "      <td>NaN</td>\n",
       "      <td>...</td>\n",
       "      <td>2014-04-01</td>\n",
       "      <td>0.666667</td>\n",
       "      <td>prod</td>\n",
       "      <td>140.395196</td>\n",
       "      <td>194.638366</td>\n",
       "      <td>0.155504</td>\n",
       "      <td>0.723021</td>\n",
       "      <td>0.002867</td>\n",
       "      <td>0.043071</td>\n",
       "      <td>NaN</td>\n",
       "    </tr>\n",
       "    <tr>\n",
       "      <th>17569</th>\n",
       "      <td>10785</td>\n",
       "      <td>2014-05-01</td>\n",
       "      <td>531.0</td>\n",
       "      <td>624.0</td>\n",
       "      <td>1.0</td>\n",
       "      <td>2.0</td>\n",
       "      <td>2.0</td>\n",
       "      <td>0.0</td>\n",
       "      <td>0.0</td>\n",
       "      <td>NaN</td>\n",
       "      <td>...</td>\n",
       "      <td>2014-05-01</td>\n",
       "      <td>0.666667</td>\n",
       "      <td>prod</td>\n",
       "      <td>153.542644</td>\n",
       "      <td>197.904905</td>\n",
       "      <td>0.168362</td>\n",
       "      <td>0.727952</td>\n",
       "      <td>0.003795</td>\n",
       "      <td>0.045803</td>\n",
       "      <td>NaN</td>\n",
       "    </tr>\n",
       "    <tr>\n",
       "      <th>17570</th>\n",
       "      <td>10785</td>\n",
       "      <td>2014-06-01</td>\n",
       "      <td>531.0</td>\n",
       "      <td>600.0</td>\n",
       "      <td>1.0</td>\n",
       "      <td>2.0</td>\n",
       "      <td>2.0</td>\n",
       "      <td>0.0</td>\n",
       "      <td>0.0</td>\n",
       "      <td>531.0</td>\n",
       "      <td>...</td>\n",
       "      <td>2014-06-01</td>\n",
       "      <td>0.666667</td>\n",
       "      <td>prod</td>\n",
       "      <td>168.256178</td>\n",
       "      <td>201.778329</td>\n",
       "      <td>0.182818</td>\n",
       "      <td>0.733799</td>\n",
       "      <td>0.005454</td>\n",
       "      <td>0.048666</td>\n",
       "      <td>NaN</td>\n",
       "    </tr>\n",
       "    <tr>\n",
       "      <th>17571</th>\n",
       "      <td>10785</td>\n",
       "      <td>2014-07-01</td>\n",
       "      <td>531.0</td>\n",
       "      <td>624.0</td>\n",
       "      <td>1.0</td>\n",
       "      <td>2.0</td>\n",
       "      <td>2.0</td>\n",
       "      <td>0.0</td>\n",
       "      <td>0.0</td>\n",
       "      <td>NaN</td>\n",
       "      <td>...</td>\n",
       "      <td>2014-07-01</td>\n",
       "      <td>0.666667</td>\n",
       "      <td>prod</td>\n",
       "      <td>184.404108</td>\n",
       "      <td>206.193174</td>\n",
       "      <td>0.198534</td>\n",
       "      <td>0.740436</td>\n",
       "      <td>0.009112</td>\n",
       "      <td>0.051532</td>\n",
       "      <td>NaN</td>\n",
       "    </tr>\n",
       "    <tr>\n",
       "      <th>17572</th>\n",
       "      <td>10785</td>\n",
       "      <td>2014-08-01</td>\n",
       "      <td>531.0</td>\n",
       "      <td>624.0</td>\n",
       "      <td>1.0</td>\n",
       "      <td>2.0</td>\n",
       "      <td>2.0</td>\n",
       "      <td>0.0</td>\n",
       "      <td>0.0</td>\n",
       "      <td>NaN</td>\n",
       "      <td>...</td>\n",
       "      <td>2014-08-01</td>\n",
       "      <td>0.666667</td>\n",
       "      <td>prod</td>\n",
       "      <td>201.889686</td>\n",
       "      <td>210.993772</td>\n",
       "      <td>0.215138</td>\n",
       "      <td>0.747697</td>\n",
       "      <td>0.023631</td>\n",
       "      <td>0.054280</td>\n",
       "      <td>NaN</td>\n",
       "    </tr>\n",
       "    <tr>\n",
       "      <th>17573</th>\n",
       "      <td>10785</td>\n",
       "      <td>2014-09-01</td>\n",
       "      <td>531.0</td>\n",
       "      <td>371.0</td>\n",
       "      <td>1.0</td>\n",
       "      <td>5.0</td>\n",
       "      <td>4.0</td>\n",
       "      <td>0.0</td>\n",
       "      <td>0.0</td>\n",
       "      <td>531.0</td>\n",
       "      <td>...</td>\n",
       "      <td>2014-09-01</td>\n",
       "      <td>0.833333</td>\n",
       "      <td>prod</td>\n",
       "      <td>220.470287</td>\n",
       "      <td>215.909665</td>\n",
       "      <td>0.232213</td>\n",
       "      <td>0.755375</td>\n",
       "      <td>-0.050917</td>\n",
       "      <td>0.056805</td>\n",
       "      <td>0.007522</td>\n",
       "    </tr>\n",
       "  </tbody>\n",
       "</table>\n",
       "<p>32 rows × 27 columns</p>\n",
       "</div>"
      ],
      "text/plain": [
       "      № скваж       Дата  Горизонт_x  Кол-во часов экспл всего по доб. скваж  \\\n",
       "17542   10785 2012-02-01       531.0                                   576.0   \n",
       "17543   10785 2012-03-01       531.0                                   624.0   \n",
       "17544   10785 2012-04-01       531.0                                   600.0   \n",
       "17545   10785 2012-05-01       531.0                                   624.0   \n",
       "17546   10785 2012-06-01       531.0                                   600.0   \n",
       "17547   10785 2012-07-01       531.0                                   624.0   \n",
       "17548   10785 2012-08-01       531.0                                   624.0   \n",
       "17549   10785 2012-09-01       531.0                                   600.0   \n",
       "17550   10785 2012-10-01       531.0                                   624.0   \n",
       "17551   10785 2012-11-01       531.0                                   600.0   \n",
       "17552   10785 2012-12-01       531.0                                   624.0   \n",
       "17553   10785 2013-01-01       531.0                                   624.0   \n",
       "17554   10785 2013-02-01       531.0                                   552.0   \n",
       "17555   10785 2013-03-01       531.0                                   624.0   \n",
       "17556   10785 2013-04-01       531.0                                   600.0   \n",
       "17557   10785 2013-05-01       531.0                                   624.0   \n",
       "17558   10785 2013-06-01       531.0                                   600.0   \n",
       "17559   10785 2013-07-01       531.0                                   624.0   \n",
       "17560   10785 2013-08-01       531.0                                   624.0   \n",
       "17561   10785 2013-09-01       531.0                                   600.0   \n",
       "17562   10785 2013-10-01       531.0                                   624.0   \n",
       "17563   10785 2013-11-01       531.0                                   600.0   \n",
       "17564   10785 2013-12-01       531.0                                   624.0   \n",
       "17565   10785 2014-01-01       531.0                                   624.0   \n",
       "17566   10785 2014-02-01       531.0                                   552.0   \n",
       "17567   10785 2014-03-01       531.0                                   624.0   \n",
       "17568   10785 2014-04-01       531.0                                   600.0   \n",
       "17569   10785 2014-05-01       531.0                                   624.0   \n",
       "17570   10785 2014-06-01       531.0                                   600.0   \n",
       "17571   10785 2014-07-01       531.0                                   624.0   \n",
       "17572   10785 2014-08-01       531.0                                   624.0   \n",
       "17573   10785 2014-09-01       531.0                                   371.0   \n",
       "\n",
       "       Добыча нефти за мес по скваж, т  Добыча воды за мес по скваж, т  \\\n",
       "17542                              1.0                             2.0   \n",
       "17543                              1.0                             2.0   \n",
       "17544                              1.0                             2.0   \n",
       "17545                              1.0                             2.0   \n",
       "17546                              1.0                            22.0   \n",
       "17547                              2.0                            59.0   \n",
       "17548                              1.0                             2.0   \n",
       "17549                              1.0                             2.0   \n",
       "17550                              1.0                             5.0   \n",
       "17551                              1.0                             5.0   \n",
       "17552                              1.0                             5.0   \n",
       "17553                              1.0                             5.0   \n",
       "17554                              1.0                             5.0   \n",
       "17555                              1.0                             5.0   \n",
       "17556                              1.0                             5.0   \n",
       "17557                              1.0                             2.0   \n",
       "17558                              1.0                             2.0   \n",
       "17559                              1.0                             2.0   \n",
       "17560                              1.0                             2.0   \n",
       "17561                              1.0                             2.0   \n",
       "17562                              1.0                             2.0   \n",
       "17563                              1.0                             2.0   \n",
       "17564                              1.0                             2.0   \n",
       "17565                              1.0                             2.0   \n",
       "17566                              1.0                             2.0   \n",
       "17567                              1.0                             2.0   \n",
       "17568                              1.0                             2.0   \n",
       "17569                              1.0                             2.0   \n",
       "17570                              1.0                             2.0   \n",
       "17571                              1.0                             2.0   \n",
       "17572                              1.0                             2.0   \n",
       "17573                              1.0                             5.0   \n",
       "\n",
       "       Добыча воды за мес по скважине, м3  \\\n",
       "17542                                 2.0   \n",
       "17543                                 2.0   \n",
       "17544                                 2.0   \n",
       "17545                                 2.0   \n",
       "17546                                21.0   \n",
       "17547                                56.0   \n",
       "17548                                 2.0   \n",
       "17549                                 2.0   \n",
       "17550                                 4.0   \n",
       "17551                                 4.0   \n",
       "17552                                 4.0   \n",
       "17553                                 4.0   \n",
       "17554                                 4.0   \n",
       "17555                                 4.0   \n",
       "17556                                 4.0   \n",
       "17557                                 2.0   \n",
       "17558                                 2.0   \n",
       "17559                                 2.0   \n",
       "17560                                 2.0   \n",
       "17561                                 2.0   \n",
       "17562                                 2.0   \n",
       "17563                                 2.0   \n",
       "17564                                 2.0   \n",
       "17565                                 2.0   \n",
       "17566                                 2.0   \n",
       "17567                                 2.0   \n",
       "17568                                 2.0   \n",
       "17569                                 2.0   \n",
       "17570                                 2.0   \n",
       "17571                                 2.0   \n",
       "17572                                 2.0   \n",
       "17573                                 4.0   \n",
       "\n",
       "       Кол-во часов работы всего по нагн. скваж  \\\n",
       "17542                                       0.0   \n",
       "17543                                       0.0   \n",
       "17544                                       0.0   \n",
       "17545                                       0.0   \n",
       "17546                                       0.0   \n",
       "17547                                       0.0   \n",
       "17548                                       0.0   \n",
       "17549                                       0.0   \n",
       "17550                                       0.0   \n",
       "17551                                       0.0   \n",
       "17552                                       0.0   \n",
       "17553                                       0.0   \n",
       "17554                                       0.0   \n",
       "17555                                       0.0   \n",
       "17556                                       0.0   \n",
       "17557                                       0.0   \n",
       "17558                                       0.0   \n",
       "17559                                       0.0   \n",
       "17560                                       0.0   \n",
       "17561                                       0.0   \n",
       "17562                                       0.0   \n",
       "17563                                       0.0   \n",
       "17564                                       0.0   \n",
       "17565                                       0.0   \n",
       "17566                                       0.0   \n",
       "17567                                       0.0   \n",
       "17568                                       0.0   \n",
       "17569                                       0.0   \n",
       "17570                                       0.0   \n",
       "17571                                       0.0   \n",
       "17572                                       0.0   \n",
       "17573                                       0.0   \n",
       "\n",
       "       Общая закачка всего по скваж за мес, м3  Горизонт_y  ...       date  \\\n",
       "17542                                      0.0         NaN  ... 2012-02-01   \n",
       "17543                                      0.0       531.0  ... 2012-03-01   \n",
       "17544                                      0.0         NaN  ... 2012-04-01   \n",
       "17545                                      0.0         NaN  ... 2012-05-01   \n",
       "17546                                      0.0       531.0  ... 2012-06-01   \n",
       "17547                                      0.0       531.0  ... 2012-07-01   \n",
       "17548                                      0.0       531.0  ... 2012-08-01   \n",
       "17549                                      0.0         NaN  ... 2012-09-01   \n",
       "17550                                      0.0       531.0  ... 2012-10-01   \n",
       "17551                                      0.0       531.0  ... 2012-11-01   \n",
       "17552                                      0.0       531.0  ... 2012-12-01   \n",
       "17553                                      0.0         NaN  ... 2013-01-01   \n",
       "17554                                      0.0       531.0  ... 2013-02-01   \n",
       "17555                                      0.0       531.0  ... 2013-03-01   \n",
       "17556                                      0.0       531.0  ... 2013-04-01   \n",
       "17557                                      0.0         NaN  ... 2013-05-01   \n",
       "17558                                      0.0       531.0  ... 2013-06-01   \n",
       "17559                                      0.0         NaN  ... 2013-07-01   \n",
       "17560                                      0.0         NaN  ... 2013-08-01   \n",
       "17561                                      0.0       531.0  ... 2013-09-01   \n",
       "17562                                      0.0         NaN  ... 2013-10-01   \n",
       "17563                                      0.0       531.0  ... 2013-11-01   \n",
       "17564                                      0.0         NaN  ... 2013-12-01   \n",
       "17565                                      0.0       531.0  ... 2014-01-01   \n",
       "17566                                      0.0         NaN  ... 2014-02-01   \n",
       "17567                                      0.0       531.0  ... 2014-03-01   \n",
       "17568                                      0.0         NaN  ... 2014-04-01   \n",
       "17569                                      0.0         NaN  ... 2014-05-01   \n",
       "17570                                      0.0       531.0  ... 2014-06-01   \n",
       "17571                                      0.0         NaN  ... 2014-07-01   \n",
       "17572                                      0.0         NaN  ... 2014-08-01   \n",
       "17573                                      0.0       531.0  ... 2014-09-01   \n",
       "\n",
       "            WCT  status       SBHPH       STHPH     SQLIQ      SWCT     SPROD  \\\n",
       "17542  0.666667    prod  128.342139  175.624573  1.039124  0.707095  0.021977   \n",
       "17543  0.666667    prod  126.361132  176.365249  0.958794  0.713118  0.019174   \n",
       "17544  0.666667    prod  124.522950  176.797671  0.880607  0.719127  0.016846   \n",
       "17545  0.666667    prod  122.846306  176.944708  0.805209  0.724906  0.014884   \n",
       "17546  0.956522    prod  121.380174  176.882846  0.732810  0.730218  0.013203   \n",
       "17547  0.967213    prod  120.180154  176.712667  0.663405  0.734847  0.011735   \n",
       "17548  0.666667    prod  119.277019  176.527070  0.597134  0.738650  0.010430   \n",
       "17549  0.666667    prod  118.657495  176.385649  0.534442  0.741558  0.009258   \n",
       "17550  0.833333    prod  118.276026  176.309486  0.475849  0.743520  0.008200   \n",
       "17551  0.833333    prod  118.063828  176.302057  0.421732  0.744483  0.007242   \n",
       "17552  0.833333    prod  117.885691  176.374965  0.372293  0.744418  0.006365   \n",
       "17553  0.833333    prod  117.511392  176.556143  0.327612  0.743345  0.005549   \n",
       "17554  0.833333    prod  116.696115  176.882751  0.287685  0.741337  0.004780   \n",
       "17555  0.833333    prod  115.302488  177.389367  0.252454  0.738525  0.004066   \n",
       "17556  0.833333    prod  113.347543  178.094842  0.221827  0.735095  0.003426   \n",
       "17557  0.666667    prod  110.974861  178.990115  0.195703  0.731284  0.002877   \n",
       "17558  0.666667    prod  108.414959  180.034432  0.173965  0.727361  0.002429   \n",
       "17559  0.666667    prod  105.962188  181.165326  0.156470  0.723584  0.002081   \n",
       "17560  0.666667    prod  103.955666  182.317666  0.143043  0.720181  0.001825   \n",
       "17561  0.666667    prod  102.751526  183.444570  0.133483  0.717346  0.001654   \n",
       "17562  0.666667    prod  102.691729  184.535962  0.127573  0.715239  0.001559   \n",
       "17563  0.666667    prod  104.088805  185.628454  0.125085  0.713989  0.001534   \n",
       "17564  0.666667    prod  107.229780  186.801995  0.125782  0.713694  0.001581   \n",
       "17565  0.666667    prod  112.360088  188.167318  0.129424  0.714425  0.001707   \n",
       "17566  0.666667    prod  119.624610  189.850183  0.135763  0.716221  0.001933   \n",
       "17567  0.666667    prod  129.017445  191.973605  0.144544  0.719093  0.002296   \n",
       "17568  0.666667    prod  140.395196  194.638366  0.155504  0.723021  0.002867   \n",
       "17569  0.666667    prod  153.542644  197.904905  0.168362  0.727952  0.003795   \n",
       "17570  0.666667    prod  168.256178  201.778329  0.182818  0.733799  0.005454   \n",
       "17571  0.666667    prod  184.404108  206.193174  0.198534  0.740436  0.009112   \n",
       "17572  0.666667    prod  201.889686  210.993772  0.215138  0.747697  0.023631   \n",
       "17573  0.833333    prod  220.470287  215.909665  0.232213  0.755375 -0.050917   \n",
       "\n",
       "           SOIL      PROD  \n",
       "17542  0.304365       NaN  \n",
       "17543  0.275061  0.002157  \n",
       "17544  0.247339       NaN  \n",
       "17545  0.221508       NaN  \n",
       "17546  0.197699       NaN  \n",
       "17547  0.175904       NaN  \n",
       "17548  0.156061       NaN  \n",
       "17549  0.138122       NaN  \n",
       "17550  0.122046  0.004070  \n",
       "17551  0.107760       NaN  \n",
       "17552  0.095151       NaN  \n",
       "17553  0.084083       NaN  \n",
       "17554  0.074413       NaN  \n",
       "17555  0.066010       NaN  \n",
       "17556  0.058763       NaN  \n",
       "17557  0.052589       NaN  \n",
       "17558  0.047430       NaN  \n",
       "17559  0.043251       NaN  \n",
       "17560  0.040026       NaN  \n",
       "17561  0.037730  0.001293  \n",
       "17562  0.036328       NaN  \n",
       "17563  0.035776       NaN  \n",
       "17564  0.036012       NaN  \n",
       "17565  0.036960       NaN  \n",
       "17566  0.038527       NaN  \n",
       "17567  0.040603  0.001720  \n",
       "17568  0.043071       NaN  \n",
       "17569  0.045803       NaN  \n",
       "17570  0.048666       NaN  \n",
       "17571  0.051532       NaN  \n",
       "17572  0.054280       NaN  \n",
       "17573  0.056805  0.007522  \n",
       "\n",
       "[32 rows x 27 columns]"
      ]
     },
     "execution_count": 352,
     "metadata": {},
     "output_type": "execute_result"
    }
   ],
   "source": [
    "data"
   ]
  },
  {
   "cell_type": "code",
   "execution_count": 372,
   "metadata": {},
   "outputs": [
    {
     "data": {
      "text/plain": [
       "0.0646900269541779"
      ]
     },
     "execution_count": 372,
     "metadata": {},
     "output_type": "execute_result"
    }
   ],
   "source": [
    "float(data['QOIL'].tail(1).values)"
   ]
  },
  {
   "cell_type": "code",
   "execution_count": 354,
   "metadata": {},
   "outputs": [
    {
     "data": {
      "text/plain": [
       "Series([], Name: QOIL, dtype: float64)"
      ]
     },
     "execution_count": 354,
     "metadata": {},
     "output_type": "execute_result"
    }
   ],
   "source": [
    "last_deb = data.loc[data['date']>data['date'].max(), 'QOIL']\n",
    "last_deb"
   ]
  },
  {
   "cell_type": "markdown",
   "metadata": {},
   "source": [
    "#### блок нормализации времени от начала работы скважины"
   ]
  },
  {
   "cell_type": "code",
   "execution_count": 355,
   "metadata": {},
   "outputs": [
    {
     "name": "stderr",
     "output_type": "stream",
     "text": [
      "<ipython-input-355-9a16526b44c0>:1: SettingWithCopyWarning:\n",
      "\n",
      "\n",
      "A value is trying to be set on a copy of a slice from a DataFrame.\n",
      "Try using .loc[row_indexer,col_indexer] = value instead\n",
      "\n",
      "See the caveats in the documentation: https://pandas.pydata.org/pandas-docs/stable/user_guide/indexing.html#returning-a-view-versus-a-copy\n",
      "\n",
      "<ipython-input-355-9a16526b44c0>:2: SettingWithCopyWarning:\n",
      "\n",
      "\n",
      "A value is trying to be set on a copy of a slice from a DataFrame.\n",
      "Try using .loc[row_indexer,col_indexer] = value instead\n",
      "\n",
      "See the caveats in the documentation: https://pandas.pydata.org/pandas-docs/stable/user_guide/indexing.html#returning-a-view-versus-a-copy\n",
      "\n"
     ]
    }
   ],
   "source": [
    "data['Time'] = data['date']-data['date'].min()\n",
    "data['Time'] = data['Time'] / np.timedelta64(1, \"D\")"
   ]
  },
  {
   "cell_type": "markdown",
   "metadata": {},
   "source": [
    "### Вот тут находим максимальный уровень добычи, чтобы от него начать падение отстраивать"
   ]
  },
  {
   "cell_type": "code",
   "execution_count": 356,
   "metadata": {},
   "outputs": [
    {
     "data": {
      "text/plain": [
       "151"
      ]
     },
     "execution_count": 356,
     "metadata": {},
     "output_type": "execute_result"
    }
   ],
   "source": [
    "shift = data.loc[data['QOIL']==data['QOIL'].max(), 'Time']\n",
    "shift = int(shift.head(1).values)\n",
    "shift"
   ]
  },
  {
   "cell_type": "code",
   "execution_count": 357,
   "metadata": {},
   "outputs": [
    {
     "name": "stderr",
     "output_type": "stream",
     "text": [
      "<ipython-input-357-556fdff809bd>:1: SettingWithCopyWarning:\n",
      "\n",
      "\n",
      "A value is trying to be set on a copy of a slice from a DataFrame.\n",
      "Try using .loc[row_indexer,col_indexer] = value instead\n",
      "\n",
      "See the caveats in the documentation: https://pandas.pydata.org/pandas-docs/stable/user_guide/indexing.html#returning-a-view-versus-a-copy\n",
      "\n",
      "<ipython-input-357-556fdff809bd>:3: SettingWithCopyWarning:\n",
      "\n",
      "\n",
      "A value is trying to be set on a copy of a slice from a DataFrame.\n",
      "Try using .loc[row_indexer,col_indexer] = value instead\n",
      "\n",
      "See the caveats in the documentation: https://pandas.pydata.org/pandas-docs/stable/user_guide/indexing.html#returning-a-view-versus-a-copy\n",
      "\n"
     ]
    }
   ],
   "source": [
    "data['Time']=data['Time']-shift\n",
    "sub=data.loc[data.Time>=0]\n",
    "data['Time']=data['Time']+shift"
   ]
  },
  {
   "cell_type": "code",
   "execution_count": 358,
   "metadata": {},
   "outputs": [],
   "source": [
    "qi, Di = curve_fit(MH, sub['Time'], np.array(sub['QOIL']), bounds=(0, [100, 1, 1, 0.1]), method='trf')"
   ]
  },
  {
   "cell_type": "code",
   "execution_count": 359,
   "metadata": {},
   "outputs": [],
   "source": [
    "qi[3]=qi[1]*qi[3]"
   ]
  },
  {
   "cell_type": "code",
   "execution_count": 360,
   "metadata": {},
   "outputs": [
    {
     "data": {
      "text/plain": [
       "array([0.04336123, 0.0362901 , 0.99999752, 0.00181451])"
      ]
     },
     "execution_count": 360,
     "metadata": {},
     "output_type": "execute_result"
    }
   ],
   "source": [
    "qi"
   ]
  },
  {
   "cell_type": "markdown",
   "metadata": {},
   "source": [
    "['10852'] 943 [2.60751641e+00 1.00000000e-01 1.54890671e-06 3.50000000e-02] 0.6869829650959391\\"
   ]
  },
  {
   "cell_type": "code",
   "execution_count": 361,
   "metadata": {},
   "outputs": [],
   "source": [
    "mh = dca.MH(*qi)"
   ]
  },
  {
   "cell_type": "code",
   "execution_count": 362,
   "metadata": {},
   "outputs": [],
   "source": [
    "q_mh = mh.rate(t)"
   ]
  },
  {
   "cell_type": "code",
   "execution_count": 363,
   "metadata": {},
   "outputs": [
    {
     "data": {
      "text/plain": [
       "<matplotlib.legend.Legend at 0x15b19c33d00>"
      ]
     },
     "execution_count": 363,
     "metadata": {},
     "output_type": "execute_result"
    },
    {
     "data": {
      "image/png": "[encoded data removed]",
      "text/plain": [
       "<Figure size 1080x540 with 2 Axes>"
      ]
     },
     "metadata": {
      "needs_background": "light"
     },
     "output_type": "display_data"
    }
   ],
   "source": [
    "# Rate vs Time\n",
    "fig = plt.figure(figsize=(15, 7.5))\n",
    "ax1 = fig.add_subplot(121)\n",
    "ax2 = fig.add_subplot(122)\n",
    "\n",
    "ax1.plot(data['Time'], data['SOIL'], 'o', mfc='w', label='Data')\n",
    "ax1.plot(data['Time'], data['QOIL'], 'o', mfc='w', label='Data')\n",
    "#ax1.plot(t, q_thm, label='THM Transient')\n",
    "#ax1.plot(t, q_trans, ls='--', label='THM Approx')\n",
    "ax1.plot(t+shift, q_mh, label='MH')\n",
    "#ax1.plot(t, q_ple, label='PLE')\n",
    "#ax1.plot(t, q_se, label='SE')\n",
    "#ax1.plot(t, q_dg, label='Duong')\n",
    "\n",
    "#ax1.set(xscale='log', yscale='log', ylabel='Rate, BPD', xlabel='Time, Days')\n",
    "ax1.set(ylim=(0, data['QOIL'].max()), xlim=(0, 1e4))\n",
    "#ax1.set_aspect(1)\n",
    "ax1.grid()\n",
    "ax1.legend()\n",
    "\n",
    "ax2.plot(data['Time'], data['SOIL'], '+', mfc='w', label='Smooth')\n",
    "ax2.plot(data['Time'], data['QOIL'], 'o', mfc='w', label='Data')\n",
    "#ax2.plot(t, q_thm, label='THM Transient')\n",
    "#ax2.plot(t, q_trans, ls='--', label='THM Approx')\n",
    "ax2.plot(t+shift, q_mh, label='MH')\n",
    "#ax2.plot(t, q_ple, label='PLE')\n",
    "#ax2.plot(t, q_se, label='SE')\n",
    "#ax2.plot(t, q_dg, label='Duong')\n",
    "\n",
    "ax2.set(xscale='log', yscale='log', ylabel='Rate, BPD', xlabel='Time, Days')\n",
    "ax2.set(ylim=(1e-1, 9e1))#, xlim=(1e0, 1e5))\n",
    "#ax2.set_aspect(1)\n",
    "ax2.grid()\n",
    "ax2.legend()\n"
   ]
  },
  {
   "cell_type": "code",
   "execution_count": 364,
   "metadata": {},
   "outputs": [],
   "source": [
    "pred = pd.DataFrame(np.concatenate((sub.date, pd.date_range(sub.date.max(), periods=120, freq='MS'))))\n",
    "pred.columns=['date']"
   ]
  },
  {
   "cell_type": "code",
   "execution_count": 365,
   "metadata": {},
   "outputs": [],
   "source": [
    "pred['Time'] = pred['date']-pred['date'].min()\n",
    "pred['Time'] = pred['Time'] / np.timedelta64(1, \"D\")"
   ]
  },
  {
   "cell_type": "code",
   "execution_count": 366,
   "metadata": {},
   "outputs": [],
   "source": [
    "pred['rate'] = mh.rate(pred.Time)"
   ]
  },
  {
   "cell_type": "code",
   "execution_count": 367,
   "metadata": {},
   "outputs": [],
   "source": [
    "pred['month_prod'] = mh.monthly_vol(pred.Time)"
   ]
  },
  {
   "cell_type": "code",
   "execution_count": 368,
   "metadata": {},
   "outputs": [
    {
     "data": {
      "text/plain": [
       "<AxesSubplot:>"
      ]
     },
     "execution_count": 368,
     "metadata": {},
     "output_type": "execute_result"
    },
    {
     "data": {
      "image/png": "[encoded data removed]",
      "text/plain": [
       "<Figure size 432x288 with 1 Axes>"
      ]
     },
     "metadata": {
      "needs_background": "light"
     },
     "output_type": "display_data"
    }
   ],
   "source": [
    "pd.merge(data, pred, left_on='date', right_on ='date', how='outer').loc[:,['QOIL', 'rate']].plot()#.iloc[100:,0]"
   ]
  },
  {
   "cell_type": "code",
   "execution_count": 272,
   "metadata": {},
   "outputs": [
    {
     "data": {
      "text/html": [
       "<div>\n",
       "<style scoped>\n",
       "    .dataframe tbody tr th:only-of-type {\n",
       "        vertical-align: middle;\n",
       "    }\n",
       "\n",
       "    .dataframe tbody tr th {\n",
       "        vertical-align: top;\n",
       "    }\n",
       "\n",
       "    .dataframe thead th {\n",
       "        text-align: right;\n",
       "    }\n",
       "</style>\n",
       "<table border=\"1\" class=\"dataframe\">\n",
       "  <thead>\n",
       "    <tr style=\"text-align: right;\">\n",
       "      <th></th>\n",
       "      <th>№ скваж</th>\n",
       "      <th>Дата</th>\n",
       "      <th>Горизонт_x</th>\n",
       "      <th>Кол-во часов экспл всего по доб. скваж</th>\n",
       "      <th>Добыча нефти за мес по скваж, т</th>\n",
       "      <th>Добыча воды за мес по скваж, т</th>\n",
       "      <th>Добыча воды за мес по скважине, м3</th>\n",
       "      <th>Кол-во часов работы всего по нагн. скваж</th>\n",
       "      <th>Общая закачка всего по скваж за мес, м3</th>\n",
       "      <th>Горизонт_y</th>\n",
       "      <th>...</th>\n",
       "      <th>STHPH</th>\n",
       "      <th>SQLIQ</th>\n",
       "      <th>SWCT</th>\n",
       "      <th>SPROD</th>\n",
       "      <th>SOIL</th>\n",
       "      <th>PROD</th>\n",
       "      <th>Time_x</th>\n",
       "      <th>Time_y</th>\n",
       "      <th>rate</th>\n",
       "      <th>month_prod</th>\n",
       "    </tr>\n",
       "  </thead>\n",
       "  <tbody>\n",
       "    <tr>\n",
       "      <th>0</th>\n",
       "      <td>10852</td>\n",
       "      <td>2016-02-01</td>\n",
       "      <td>531.0</td>\n",
       "      <td>695.0</td>\n",
       "      <td>128.0</td>\n",
       "      <td>172.0</td>\n",
       "      <td>161.0</td>\n",
       "      <td>0.0</td>\n",
       "      <td>0.0</td>\n",
       "      <td>531.0</td>\n",
       "      <td>...</td>\n",
       "      <td>168.887216</td>\n",
       "      <td>10.006256</td>\n",
       "      <td>0.604899</td>\n",
       "      <td>0.155903</td>\n",
       "      <td>3.953483</td>\n",
       "      <td>NaN</td>\n",
       "      <td>0.0</td>\n",
       "      <td>NaN</td>\n",
       "      <td>NaN</td>\n",
       "      <td>NaN</td>\n",
       "    </tr>\n",
       "    <tr>\n",
       "      <th>1</th>\n",
       "      <td>10852</td>\n",
       "      <td>2016-03-01</td>\n",
       "      <td>531.0</td>\n",
       "      <td>724.0</td>\n",
       "      <td>146.0</td>\n",
       "      <td>161.0</td>\n",
       "      <td>151.0</td>\n",
       "      <td>0.0</td>\n",
       "      <td>0.0</td>\n",
       "      <td>NaN</td>\n",
       "      <td>...</td>\n",
       "      <td>168.872528</td>\n",
       "      <td>10.127875</td>\n",
       "      <td>0.611532</td>\n",
       "      <td>0.149737</td>\n",
       "      <td>3.934359</td>\n",
       "      <td>NaN</td>\n",
       "      <td>29.0</td>\n",
       "      <td>NaN</td>\n",
       "      <td>NaN</td>\n",
       "      <td>NaN</td>\n",
       "    </tr>\n",
       "    <tr>\n",
       "      <th>2</th>\n",
       "      <td>10852</td>\n",
       "      <td>2016-04-01</td>\n",
       "      <td>531.0</td>\n",
       "      <td>720.0</td>\n",
       "      <td>137.0</td>\n",
       "      <td>156.0</td>\n",
       "      <td>146.0</td>\n",
       "      <td>0.0</td>\n",
       "      <td>0.0</td>\n",
       "      <td>531.0</td>\n",
       "      <td>...</td>\n",
       "      <td>168.517501</td>\n",
       "      <td>10.245509</td>\n",
       "      <td>0.617554</td>\n",
       "      <td>0.144226</td>\n",
       "      <td>3.918358</td>\n",
       "      <td>NaN</td>\n",
       "      <td>60.0</td>\n",
       "      <td>NaN</td>\n",
       "      <td>NaN</td>\n",
       "      <td>NaN</td>\n",
       "    </tr>\n",
       "    <tr>\n",
       "      <th>3</th>\n",
       "      <td>10852</td>\n",
       "      <td>2016-05-01</td>\n",
       "      <td>531.0</td>\n",
       "      <td>605.0</td>\n",
       "      <td>108.0</td>\n",
       "      <td>175.0</td>\n",
       "      <td>163.0</td>\n",
       "      <td>0.0</td>\n",
       "      <td>0.0</td>\n",
       "      <td>531.0</td>\n",
       "      <td>...</td>\n",
       "      <td>167.935361</td>\n",
       "      <td>10.361948</td>\n",
       "      <td>0.623265</td>\n",
       "      <td>0.139671</td>\n",
       "      <td>3.903709</td>\n",
       "      <td>NaN</td>\n",
       "      <td>90.0</td>\n",
       "      <td>NaN</td>\n",
       "      <td>NaN</td>\n",
       "      <td>NaN</td>\n",
       "    </tr>\n",
       "    <tr>\n",
       "      <th>4</th>\n",
       "      <td>10852</td>\n",
       "      <td>2016-06-01</td>\n",
       "      <td>531.0</td>\n",
       "      <td>688.0</td>\n",
       "      <td>169.0</td>\n",
       "      <td>84.0</td>\n",
       "      <td>79.0</td>\n",
       "      <td>0.0</td>\n",
       "      <td>0.0</td>\n",
       "      <td>531.0</td>\n",
       "      <td>...</td>\n",
       "      <td>167.250771</td>\n",
       "      <td>10.479963</td>\n",
       "      <td>0.628919</td>\n",
       "      <td>0.136286</td>\n",
       "      <td>3.888911</td>\n",
       "      <td>NaN</td>\n",
       "      <td>121.0</td>\n",
       "      <td>NaN</td>\n",
       "      <td>NaN</td>\n",
       "      <td>NaN</td>\n",
       "    </tr>\n",
       "    <tr>\n",
       "      <th>...</th>\n",
       "      <td>...</td>\n",
       "      <td>...</td>\n",
       "      <td>...</td>\n",
       "      <td>...</td>\n",
       "      <td>...</td>\n",
       "      <td>...</td>\n",
       "      <td>...</td>\n",
       "      <td>...</td>\n",
       "      <td>...</td>\n",
       "      <td>...</td>\n",
       "      <td>...</td>\n",
       "      <td>...</td>\n",
       "      <td>...</td>\n",
       "      <td>...</td>\n",
       "      <td>...</td>\n",
       "      <td>...</td>\n",
       "      <td>...</td>\n",
       "      <td>...</td>\n",
       "      <td>...</td>\n",
       "      <td>...</td>\n",
       "      <td>...</td>\n",
       "    </tr>\n",
       "    <tr>\n",
       "      <th>181</th>\n",
       "      <td>NaN</td>\n",
       "      <td>NaT</td>\n",
       "      <td>NaN</td>\n",
       "      <td>NaN</td>\n",
       "      <td>NaN</td>\n",
       "      <td>NaN</td>\n",
       "      <td>NaN</td>\n",
       "      <td>NaN</td>\n",
       "      <td>NaN</td>\n",
       "      <td>NaN</td>\n",
       "      <td>...</td>\n",
       "      <td>NaN</td>\n",
       "      <td>NaN</td>\n",
       "      <td>NaN</td>\n",
       "      <td>NaN</td>\n",
       "      <td>NaN</td>\n",
       "      <td>NaN</td>\n",
       "      <td>NaN</td>\n",
       "      <td>4625.0</td>\n",
       "      <td>0.001540</td>\n",
       "      <td>0.048102</td>\n",
       "    </tr>\n",
       "    <tr>\n",
       "      <th>182</th>\n",
       "      <td>NaN</td>\n",
       "      <td>NaT</td>\n",
       "      <td>NaN</td>\n",
       "      <td>NaN</td>\n",
       "      <td>NaN</td>\n",
       "      <td>NaN</td>\n",
       "      <td>NaN</td>\n",
       "      <td>NaN</td>\n",
       "      <td>NaN</td>\n",
       "      <td>NaN</td>\n",
       "      <td>...</td>\n",
       "      <td>NaN</td>\n",
       "      <td>NaN</td>\n",
       "      <td>NaN</td>\n",
       "      <td>NaN</td>\n",
       "      <td>NaN</td>\n",
       "      <td>NaN</td>\n",
       "      <td>NaN</td>\n",
       "      <td>4656.0</td>\n",
       "      <td>0.001460</td>\n",
       "      <td>0.045623</td>\n",
       "    </tr>\n",
       "    <tr>\n",
       "      <th>183</th>\n",
       "      <td>NaN</td>\n",
       "      <td>NaT</td>\n",
       "      <td>NaN</td>\n",
       "      <td>NaN</td>\n",
       "      <td>NaN</td>\n",
       "      <td>NaN</td>\n",
       "      <td>NaN</td>\n",
       "      <td>NaN</td>\n",
       "      <td>NaN</td>\n",
       "      <td>NaN</td>\n",
       "      <td>...</td>\n",
       "      <td>NaN</td>\n",
       "      <td>NaN</td>\n",
       "      <td>NaN</td>\n",
       "      <td>NaN</td>\n",
       "      <td>NaN</td>\n",
       "      <td>NaN</td>\n",
       "      <td>NaN</td>\n",
       "      <td>4686.0</td>\n",
       "      <td>0.001387</td>\n",
       "      <td>0.043345</td>\n",
       "    </tr>\n",
       "    <tr>\n",
       "      <th>184</th>\n",
       "      <td>NaN</td>\n",
       "      <td>NaT</td>\n",
       "      <td>NaN</td>\n",
       "      <td>NaN</td>\n",
       "      <td>NaN</td>\n",
       "      <td>NaN</td>\n",
       "      <td>NaN</td>\n",
       "      <td>NaN</td>\n",
       "      <td>NaN</td>\n",
       "      <td>NaN</td>\n",
       "      <td>...</td>\n",
       "      <td>NaN</td>\n",
       "      <td>NaN</td>\n",
       "      <td>NaN</td>\n",
       "      <td>NaN</td>\n",
       "      <td>NaN</td>\n",
       "      <td>NaN</td>\n",
       "      <td>NaN</td>\n",
       "      <td>4717.0</td>\n",
       "      <td>0.001316</td>\n",
       "      <td>0.041111</td>\n",
       "    </tr>\n",
       "    <tr>\n",
       "      <th>185</th>\n",
       "      <td>NaN</td>\n",
       "      <td>NaT</td>\n",
       "      <td>NaN</td>\n",
       "      <td>NaN</td>\n",
       "      <td>NaN</td>\n",
       "      <td>NaN</td>\n",
       "      <td>NaN</td>\n",
       "      <td>NaN</td>\n",
       "      <td>NaN</td>\n",
       "      <td>NaN</td>\n",
       "      <td>...</td>\n",
       "      <td>NaN</td>\n",
       "      <td>NaN</td>\n",
       "      <td>NaN</td>\n",
       "      <td>NaN</td>\n",
       "      <td>NaN</td>\n",
       "      <td>NaN</td>\n",
       "      <td>NaN</td>\n",
       "      <td>4748.0</td>\n",
       "      <td>0.001248</td>\n",
       "      <td>0.038992</td>\n",
       "    </tr>\n",
       "  </tbody>\n",
       "</table>\n",
       "<p>186 rows × 31 columns</p>\n",
       "</div>"
      ],
      "text/plain": [
       "    № скваж       Дата  Горизонт_x  Кол-во часов экспл всего по доб. скваж  \\\n",
       "0     10852 2016-02-01       531.0                                   695.0   \n",
       "1     10852 2016-03-01       531.0                                   724.0   \n",
       "2     10852 2016-04-01       531.0                                   720.0   \n",
       "3     10852 2016-05-01       531.0                                   605.0   \n",
       "4     10852 2016-06-01       531.0                                   688.0   \n",
       "..      ...        ...         ...                                     ...   \n",
       "181     NaN        NaT         NaN                                     NaN   \n",
       "182     NaN        NaT         NaN                                     NaN   \n",
       "183     NaN        NaT         NaN                                     NaN   \n",
       "184     NaN        NaT         NaN                                     NaN   \n",
       "185     NaN        NaT         NaN                                     NaN   \n",
       "\n",
       "     Добыча нефти за мес по скваж, т  Добыча воды за мес по скваж, т  \\\n",
       "0                              128.0                           172.0   \n",
       "1                              146.0                           161.0   \n",
       "2                              137.0                           156.0   \n",
       "3                              108.0                           175.0   \n",
       "4                              169.0                            84.0   \n",
       "..                               ...                             ...   \n",
       "181                              NaN                             NaN   \n",
       "182                              NaN                             NaN   \n",
       "183                              NaN                             NaN   \n",
       "184                              NaN                             NaN   \n",
       "185                              NaN                             NaN   \n",
       "\n",
       "     Добыча воды за мес по скважине, м3  \\\n",
       "0                                 161.0   \n",
       "1                                 151.0   \n",
       "2                                 146.0   \n",
       "3                                 163.0   \n",
       "4                                  79.0   \n",
       "..                                  ...   \n",
       "181                                 NaN   \n",
       "182                                 NaN   \n",
       "183                                 NaN   \n",
       "184                                 NaN   \n",
       "185                                 NaN   \n",
       "\n",
       "     Кол-во часов работы всего по нагн. скваж  \\\n",
       "0                                         0.0   \n",
       "1                                         0.0   \n",
       "2                                         0.0   \n",
       "3                                         0.0   \n",
       "4                                         0.0   \n",
       "..                                        ...   \n",
       "181                                       NaN   \n",
       "182                                       NaN   \n",
       "183                                       NaN   \n",
       "184                                       NaN   \n",
       "185                                       NaN   \n",
       "\n",
       "     Общая закачка всего по скваж за мес, м3  Горизонт_y  ...       STHPH  \\\n",
       "0                                        0.0       531.0  ...  168.887216   \n",
       "1                                        0.0         NaN  ...  168.872528   \n",
       "2                                        0.0       531.0  ...  168.517501   \n",
       "3                                        0.0       531.0  ...  167.935361   \n",
       "4                                        0.0       531.0  ...  167.250771   \n",
       "..                                       ...         ...  ...         ...   \n",
       "181                                      NaN         NaN  ...         NaN   \n",
       "182                                      NaN         NaN  ...         NaN   \n",
       "183                                      NaN         NaN  ...         NaN   \n",
       "184                                      NaN         NaN  ...         NaN   \n",
       "185                                      NaN         NaN  ...         NaN   \n",
       "\n",
       "         SQLIQ      SWCT     SPROD      SOIL  PROD Time_x  Time_y      rate  \\\n",
       "0    10.006256  0.604899  0.155903  3.953483   NaN    0.0     NaN       NaN   \n",
       "1    10.127875  0.611532  0.149737  3.934359   NaN   29.0     NaN       NaN   \n",
       "2    10.245509  0.617554  0.144226  3.918358   NaN   60.0     NaN       NaN   \n",
       "3    10.361948  0.623265  0.139671  3.903709   NaN   90.0     NaN       NaN   \n",
       "4    10.479963  0.628919  0.136286  3.888911   NaN  121.0     NaN       NaN   \n",
       "..         ...       ...       ...       ...   ...    ...     ...       ...   \n",
       "181        NaN       NaN       NaN       NaN   NaN    NaN  4625.0  0.001540   \n",
       "182        NaN       NaN       NaN       NaN   NaN    NaN  4656.0  0.001460   \n",
       "183        NaN       NaN       NaN       NaN   NaN    NaN  4686.0  0.001387   \n",
       "184        NaN       NaN       NaN       NaN   NaN    NaN  4717.0  0.001316   \n",
       "185        NaN       NaN       NaN       NaN   NaN    NaN  4748.0  0.001248   \n",
       "\n",
       "    month_prod  \n",
       "0          NaN  \n",
       "1          NaN  \n",
       "2          NaN  \n",
       "3          NaN  \n",
       "4          NaN  \n",
       "..         ...  \n",
       "181   0.048102  \n",
       "182   0.045623  \n",
       "183   0.043345  \n",
       "184   0.041111  \n",
       "185   0.038992  \n",
       "\n",
       "[186 rows x 31 columns]"
      ]
     },
     "execution_count": 272,
     "metadata": {},
     "output_type": "execute_result"
    }
   ],
   "source": [
    "pd.merge(data, pred, left_on='date', right_on ='date', how='outer')"
   ]
  },
  {
   "cell_type": "code",
   "execution_count": 536,
   "metadata": {},
   "outputs": [
    {
     "data": {
      "text/html": [
       "<div>\n",
       "<style scoped>\n",
       "    .dataframe tbody tr th:only-of-type {\n",
       "        vertical-align: middle;\n",
       "    }\n",
       "\n",
       "    .dataframe tbody tr th {\n",
       "        vertical-align: top;\n",
       "    }\n",
       "\n",
       "    .dataframe thead th {\n",
       "        text-align: right;\n",
       "    }\n",
       "</style>\n",
       "<table border=\"1\" class=\"dataframe\">\n",
       "  <thead>\n",
       "    <tr style=\"text-align: right;\">\n",
       "      <th></th>\n",
       "      <th>date</th>\n",
       "      <th>Time</th>\n",
       "      <th>rate</th>\n",
       "      <th>month_prod</th>\n",
       "    </tr>\n",
       "  </thead>\n",
       "  <tbody>\n",
       "    <tr>\n",
       "      <th>0</th>\n",
       "      <td>2020-03-01</td>\n",
       "      <td>0.0</td>\n",
       "      <td>1.605817</td>\n",
       "      <td>0.000000</td>\n",
       "    </tr>\n",
       "    <tr>\n",
       "      <th>1</th>\n",
       "      <td>2020-04-01</td>\n",
       "      <td>31.0</td>\n",
       "      <td>0.572623</td>\n",
       "      <td>29.073764</td>\n",
       "    </tr>\n",
       "    <tr>\n",
       "      <th>2</th>\n",
       "      <td>2020-05-01</td>\n",
       "      <td>61.0</td>\n",
       "      <td>0.283540</td>\n",
       "      <td>12.385621</td>\n",
       "    </tr>\n",
       "    <tr>\n",
       "      <th>3</th>\n",
       "      <td>2020-12-01</td>\n",
       "      <td>275.0</td>\n",
       "      <td>0.023218</td>\n",
       "      <td>0.794595</td>\n",
       "    </tr>\n",
       "    <tr>\n",
       "      <th>4</th>\n",
       "      <td>2020-12-01</td>\n",
       "      <td>275.0</td>\n",
       "      <td>0.023218</td>\n",
       "      <td>0.794595</td>\n",
       "    </tr>\n",
       "    <tr>\n",
       "      <th>...</th>\n",
       "      <td>...</td>\n",
       "      <td>...</td>\n",
       "      <td>...</td>\n",
       "      <td>...</td>\n",
       "    </tr>\n",
       "    <tr>\n",
       "      <th>119</th>\n",
       "      <td>2030-07-01</td>\n",
       "      <td>3774.0</td>\n",
       "      <td>0.000059</td>\n",
       "      <td>0.001825</td>\n",
       "    </tr>\n",
       "    <tr>\n",
       "      <th>120</th>\n",
       "      <td>2030-08-01</td>\n",
       "      <td>3805.0</td>\n",
       "      <td>0.000058</td>\n",
       "      <td>0.001789</td>\n",
       "    </tr>\n",
       "    <tr>\n",
       "      <th>121</th>\n",
       "      <td>2030-09-01</td>\n",
       "      <td>3836.0</td>\n",
       "      <td>0.000057</td>\n",
       "      <td>0.001755</td>\n",
       "    </tr>\n",
       "    <tr>\n",
       "      <th>122</th>\n",
       "      <td>2030-10-01</td>\n",
       "      <td>3866.0</td>\n",
       "      <td>0.000056</td>\n",
       "      <td>0.001722</td>\n",
       "    </tr>\n",
       "    <tr>\n",
       "      <th>123</th>\n",
       "      <td>2030-11-01</td>\n",
       "      <td>3897.0</td>\n",
       "      <td>0.000055</td>\n",
       "      <td>0.001689</td>\n",
       "    </tr>\n",
       "  </tbody>\n",
       "</table>\n",
       "<p>124 rows × 4 columns</p>\n",
       "</div>"
      ],
      "text/plain": [
       "          date    Time      rate  month_prod\n",
       "0   2020-03-01     0.0  1.605817    0.000000\n",
       "1   2020-04-01    31.0  0.572623   29.073764\n",
       "2   2020-05-01    61.0  0.283540   12.385621\n",
       "3   2020-12-01   275.0  0.023218    0.794595\n",
       "4   2020-12-01   275.0  0.023218    0.794595\n",
       "..         ...     ...       ...         ...\n",
       "119 2030-07-01  3774.0  0.000059    0.001825\n",
       "120 2030-08-01  3805.0  0.000058    0.001789\n",
       "121 2030-09-01  3836.0  0.000057    0.001755\n",
       "122 2030-10-01  3866.0  0.000056    0.001722\n",
       "123 2030-11-01  3897.0  0.000055    0.001689\n",
       "\n",
       "[124 rows x 4 columns]"
      ]
     },
     "execution_count": 536,
     "metadata": {},
     "output_type": "execute_result"
    }
   ],
   "source": [
    "pred"
   ]
  },
  {
   "cell_type": "code",
   "execution_count": 32,
   "metadata": {},
   "outputs": [],
   "source": [
    "df_new = pd.read_sql(\"select ngdu, god, mes, skw_id, t_rab, qnt_do, qn_ot from dbo.ot_dobf where ngdu=738\", con=engine)"
   ]
  },
  {
   "cell_type": "code",
   "execution_count": 33,
   "metadata": {},
   "outputs": [
    {
     "data": {
      "text/html": [
       "<div>\n",
       "<style scoped>\n",
       "    .dataframe tbody tr th:only-of-type {\n",
       "        vertical-align: middle;\n",
       "    }\n",
       "\n",
       "    .dataframe tbody tr th {\n",
       "        vertical-align: top;\n",
       "    }\n",
       "\n",
       "    .dataframe thead th {\n",
       "        text-align: right;\n",
       "    }\n",
       "</style>\n",
       "<table border=\"1\" class=\"dataframe\">\n",
       "  <thead>\n",
       "    <tr style=\"text-align: right;\">\n",
       "      <th></th>\n",
       "      <th>ngdu</th>\n",
       "      <th>god</th>\n",
       "      <th>mes</th>\n",
       "      <th>skw_id</th>\n",
       "      <th>t_rab</th>\n",
       "      <th>qnt_do</th>\n",
       "      <th>qn_ot</th>\n",
       "    </tr>\n",
       "  </thead>\n",
       "  <tbody>\n",
       "    <tr>\n",
       "      <th>0</th>\n",
       "      <td>738</td>\n",
       "      <td>2017</td>\n",
       "      <td>3</td>\n",
       "      <td>34099</td>\n",
       "      <td>743.0</td>\n",
       "      <td>2.795</td>\n",
       "      <td>2.903</td>\n",
       "    </tr>\n",
       "    <tr>\n",
       "      <th>1</th>\n",
       "      <td>738</td>\n",
       "      <td>2017</td>\n",
       "      <td>3</td>\n",
       "      <td>34101</td>\n",
       "      <td>744.0</td>\n",
       "      <td>8.540</td>\n",
       "      <td>7.884</td>\n",
       "    </tr>\n",
       "    <tr>\n",
       "      <th>2</th>\n",
       "      <td>738</td>\n",
       "      <td>2017</td>\n",
       "      <td>3</td>\n",
       "      <td>34102</td>\n",
       "      <td>641.9</td>\n",
       "      <td>12.049</td>\n",
       "      <td>12.517</td>\n",
       "    </tr>\n",
       "    <tr>\n",
       "      <th>3</th>\n",
       "      <td>738</td>\n",
       "      <td>2017</td>\n",
       "      <td>3</td>\n",
       "      <td>34106</td>\n",
       "      <td>742.2</td>\n",
       "      <td>2.686</td>\n",
       "      <td>2.480</td>\n",
       "    </tr>\n",
       "    <tr>\n",
       "      <th>4</th>\n",
       "      <td>738</td>\n",
       "      <td>2017</td>\n",
       "      <td>3</td>\n",
       "      <td>34108</td>\n",
       "      <td>743.0</td>\n",
       "      <td>14.697</td>\n",
       "      <td>13.569</td>\n",
       "    </tr>\n",
       "    <tr>\n",
       "      <th>...</th>\n",
       "      <td>...</td>\n",
       "      <td>...</td>\n",
       "      <td>...</td>\n",
       "      <td>...</td>\n",
       "      <td>...</td>\n",
       "      <td>...</td>\n",
       "      <td>...</td>\n",
       "    </tr>\n",
       "    <tr>\n",
       "      <th>16057</th>\n",
       "      <td>738</td>\n",
       "      <td>2021</td>\n",
       "      <td>8</td>\n",
       "      <td>48230</td>\n",
       "      <td>0.0</td>\n",
       "      <td>0.000</td>\n",
       "      <td>0.000</td>\n",
       "    </tr>\n",
       "    <tr>\n",
       "      <th>16058</th>\n",
       "      <td>738</td>\n",
       "      <td>2021</td>\n",
       "      <td>8</td>\n",
       "      <td>47854</td>\n",
       "      <td>0.0</td>\n",
       "      <td>0.000</td>\n",
       "      <td>0.000</td>\n",
       "    </tr>\n",
       "    <tr>\n",
       "      <th>16059</th>\n",
       "      <td>738</td>\n",
       "      <td>2021</td>\n",
       "      <td>8</td>\n",
       "      <td>50295</td>\n",
       "      <td>0.0</td>\n",
       "      <td>0.000</td>\n",
       "      <td>0.000</td>\n",
       "    </tr>\n",
       "    <tr>\n",
       "      <th>16060</th>\n",
       "      <td>738</td>\n",
       "      <td>2021</td>\n",
       "      <td>8</td>\n",
       "      <td>56790</td>\n",
       "      <td>0.0</td>\n",
       "      <td>0.000</td>\n",
       "      <td>0.000</td>\n",
       "    </tr>\n",
       "    <tr>\n",
       "      <th>16061</th>\n",
       "      <td>738</td>\n",
       "      <td>2021</td>\n",
       "      <td>8</td>\n",
       "      <td>60323</td>\n",
       "      <td>0.0</td>\n",
       "      <td>0.000</td>\n",
       "      <td>0.000</td>\n",
       "    </tr>\n",
       "  </tbody>\n",
       "</table>\n",
       "<p>16062 rows × 7 columns</p>\n",
       "</div>"
      ],
      "text/plain": [
       "       ngdu   god  mes  skw_id  t_rab  qnt_do   qn_ot\n",
       "0       738  2017    3   34099  743.0   2.795   2.903\n",
       "1       738  2017    3   34101  744.0   8.540   7.884\n",
       "2       738  2017    3   34102  641.9  12.049  12.517\n",
       "3       738  2017    3   34106  742.2   2.686   2.480\n",
       "4       738  2017    3   34108  743.0  14.697  13.569\n",
       "...     ...   ...  ...     ...    ...     ...     ...\n",
       "16057   738  2021    8   48230    0.0   0.000   0.000\n",
       "16058   738  2021    8   47854    0.0   0.000   0.000\n",
       "16059   738  2021    8   50295    0.0   0.000   0.000\n",
       "16060   738  2021    8   56790    0.0   0.000   0.000\n",
       "16061   738  2021    8   60323    0.0   0.000   0.000\n",
       "\n",
       "[16062 rows x 7 columns]"
      ]
     },
     "execution_count": 33,
     "metadata": {},
     "output_type": "execute_result"
    }
   ],
   "source": [
    "df_new"
   ]
  },
  {
   "cell_type": "code",
   "execution_count": null,
   "metadata": {},
   "outputs": [],
   "source": [
    "os"
   ]
  }
 ],
 "metadata": {
  "kernelspec": {
   "display_name": "Python 3",
   "language": "python",
   "name": "python3"
  },
  "language_info": {
   "codemirror_mode": {
    "name": "ipython",
    "version": 3
   },
   "file_extension": ".py",
   "mimetype": "text/x-python",
   "name": "python",
   "nbconvert_exporter": "python",
   "pygments_lexer": "ipython3",
   "version": "3.6.4"
  },
  "varInspector": {
   "cols": {
    "lenName": 16,
    "lenType": 16,
    "lenVar": 40
   },
   "kernels_config": {
    "python": {
     "delete_cmd_postfix": "",
     "delete_cmd_prefix": "del ",
     "library": "var_list.py",
     "varRefreshCmd": "print(var_dic_list())"
    },
    "r": {
     "delete_cmd_postfix": ") ",
     "delete_cmd_prefix": "rm(",
     "library": "var_list.r",
     "varRefreshCmd": "cat(var_dic_list()) "
    }
   },
   "types_to_exclude": [
    "module",
    "function",
    "builtin_function_or_method",
    "instance",
    "_Feature"
   ],
   "window_display": false
  }
 },
 "nbformat": 4,
 "nbformat_minor": 2
}
